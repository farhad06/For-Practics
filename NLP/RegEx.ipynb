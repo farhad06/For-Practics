{
  "nbformat": 4,
  "nbformat_minor": 0,
  "metadata": {
    "colab": {
      "provenance": [],
      "authorship_tag": "ABX9TyO8ICCdHKvfJXxhxtXAvXMX",
      "include_colab_link": true
    },
    "kernelspec": {
      "name": "python3",
      "display_name": "Python 3"
    },
    "language_info": {
      "name": "python"
    }
  },
  "cells": [
    {
      "cell_type": "markdown",
      "metadata": {
        "id": "view-in-github",
        "colab_type": "text"
      },
      "source": [
        "<a href=\"https://colab.research.google.com/github/farhad06/For-Practics/blob/main/NLP/RegEx.ipynb\" target=\"_parent\"><img src=\"https://colab.research.google.com/assets/colab-badge.svg\" alt=\"Open In Colab\"/></a>"
      ]
    },
    {
      "cell_type": "code",
      "source": [
        "import re"
      ],
      "metadata": {
        "id": "cRDuouq5q5vS"
      },
      "execution_count": 1,
      "outputs": []
    },
    {
      "cell_type": "markdown",
      "source": [
        "## findall() :\n",
        "The findall() function returns a list containing all matches."
      ],
      "metadata": {
        "id": "oueXtotQR_c8"
      }
    },
    {
      "cell_type": "code",
      "source": [
        "txt=\"Today's weather of kolkata is too foggy\"\n",
        "match_=re.findall('kolkata',txt)\n",
        "print(match_)"
      ],
      "metadata": {
        "colab": {
          "base_uri": "https://localhost:8080/"
        },
        "id": "_fIWGS7sNo_J",
        "outputId": "72a1e053-eb05-403e-cc01-60269e6ed1e7"
      },
      "execution_count": 4,
      "outputs": [
        {
          "output_type": "stream",
          "name": "stdout",
          "text": [
            "['kolkata']\n"
          ]
        }
      ]
    },
    {
      "cell_type": "markdown",
      "source": [
        "## search()\n",
        "1. The search() function searches the string for a match, and returns a Match object if there is a match.\n",
        "2.  If there is more than one match, only the first occurrence of the match will be returned:\n",
        "\n"
      ],
      "metadata": {
        "id": "mSjNBJoLTqLP"
      }
    },
    {
      "cell_type": "code",
      "source": [
        "txt=\"Today's weather of kolkata is too foggy than other day\"\n",
        "match_=re.search('oday',txt)\n",
        "print(match_)"
      ],
      "metadata": {
        "colab": {
          "base_uri": "https://localhost:8080/"
        },
        "id": "V8eusAbUS5hG",
        "outputId": "6437b573-9c27-465d-f8dc-e280a250f6e4"
      },
      "execution_count": 9,
      "outputs": [
        {
          "output_type": "stream",
          "name": "stdout",
          "text": [
            "<re.Match object; span=(1, 5), match='oday'>\n"
          ]
        }
      ]
    },
    {
      "cell_type": "markdown",
      "source": [
        "## split()\n",
        "The split() function returns a list where the string has been split at each match:"
      ],
      "metadata": {
        "id": "wXL4_B-FUSht"
      }
    },
    {
      "cell_type": "code",
      "source": [
        "txt=\"Today's weather of kolkata is too foggy than other day\"\n",
        "match_=re.split(' ',txt)\n",
        "print(match_)"
      ],
      "metadata": {
        "colab": {
          "base_uri": "https://localhost:8080/"
        },
        "id": "1P50M7zrUaBC",
        "outputId": "b5565a51-57c7-4d09-ac02-d739c2050341"
      },
      "execution_count": 10,
      "outputs": [
        {
          "output_type": "stream",
          "name": "stdout",
          "text": [
            "[\"Today's\", 'weather', 'of', 'kolkata', 'is', 'too', 'foggy', 'than', 'other', 'day']\n"
          ]
        }
      ]
    },
    {
      "cell_type": "markdown",
      "source": [
        "## sub()\n",
        "The sub() function replaces the matches with the text of your choice:"
      ],
      "metadata": {
        "id": "w6doFNMVKwMy"
      }
    },
    {
      "cell_type": "code",
      "source": [
        "txt = \"The rain in Spain\"\n",
        "x = re.sub(\"\\s\", \"9\", txt)\n",
        "print(x)"
      ],
      "metadata": {
        "colab": {
          "base_uri": "https://localhost:8080/"
        },
        "id": "qXrzxiGUKyPg",
        "outputId": "7d39a1e5-7167-4be8-ee8c-122034b12b76"
      },
      "execution_count": 38,
      "outputs": [
        {
          "output_type": "stream",
          "name": "stdout",
          "text": [
            "The9rain9in9Spain\n"
          ]
        }
      ]
    },
    {
      "cell_type": "code",
      "source": [
        "txt = \"The rain in Spain\"\n",
        "x = re.sub(\"\\s\", \"9\", txt, 2)\n",
        "print(x)"
      ],
      "metadata": {
        "colab": {
          "base_uri": "https://localhost:8080/"
        },
        "id": "kCrCpas2LFTu",
        "outputId": "da849c3a-ea5d-4774-b0dc-3736e4954461"
      },
      "execution_count": 39,
      "outputs": [
        {
          "output_type": "stream",
          "name": "stdout",
          "text": [
            "The9rain9in Spain\n"
          ]
        }
      ]
    },
    {
      "cell_type": "code",
      "source": [
        "##find a set of characters  using []\n",
        "txt=\"Today's weather of kolkata is too foggy\"\n",
        "match_=re.findall('[a-m]',txt)\n",
        "print(match_)"
      ],
      "metadata": {
        "colab": {
          "base_uri": "https://localhost:8080/"
        },
        "id": "4Q91Gyb-Vbry",
        "outputId": "863c9051-64de-49db-921f-397e7a9121fe"
      },
      "execution_count": 12,
      "outputs": [
        {
          "output_type": "stream",
          "name": "stdout",
          "text": [
            "['d', 'a', 'e', 'a', 'h', 'e', 'f', 'k', 'l', 'k', 'a', 'a', 'i', 'f', 'g', 'g']\n"
          ]
        }
      ]
    },
    {
      "cell_type": "code",
      "source": [
        "##find all decimal number in a string using \\d\n",
        "txt=\"I have to pay $40 on googlepay and $52.39 in  Phonepay\"\n",
        "match_=re.findall('\\d',txt)\n",
        "print(match_)"
      ],
      "metadata": {
        "colab": {
          "base_uri": "https://localhost:8080/"
        },
        "id": "mV9KsKaUVzju",
        "outputId": "55adcc69-1c7f-47d1-9997-e41756b1e84a"
      },
      "execution_count": 13,
      "outputs": [
        {
          "output_type": "stream",
          "name": "stdout",
          "text": [
            "['4', '0', '5', '2', '3', '9']\n"
          ]
        }
      ]
    },
    {
      "cell_type": "code",
      "source": [
        "#find all characters followed by another character\n",
        "txt=\"Today's weather of kolkata is too foggy\"\n",
        "match_=re.findall('we...er',txt) # if re.findall('we..er',txt) it returns null list\n",
        "print(match_)"
      ],
      "metadata": {
        "colab": {
          "base_uri": "https://localhost:8080/"
        },
        "id": "rGP5X7yQWhkr",
        "outputId": "b586cf12-6ad9-48bb-c765-2778fa81c932"
      },
      "execution_count": 16,
      "outputs": [
        {
          "output_type": "stream",
          "name": "stdout",
          "text": [
            "['weather']\n"
          ]
        }
      ]
    },
    {
      "cell_type": "code",
      "source": [
        "## Starts with a sentance using ^ \n",
        "txt=\"This is Kolkata\"\n",
        "match_=re.findall('^This',txt)\n",
        "if match_:\n",
        "  print(\"This sentence start with 'This'\")\n",
        "else:\n",
        "  print(\"No match found\")  "
      ],
      "metadata": {
        "colab": {
          "base_uri": "https://localhost:8080/"
        },
        "id": "7OhdMVSrXJYy",
        "outputId": "204fb0ec-e70b-410f-f03a-8e0314b25e35"
      },
      "execution_count": 19,
      "outputs": [
        {
          "output_type": "stream",
          "name": "stdout",
          "text": [
            "This sentence start with 'This'\n"
          ]
        }
      ]
    },
    {
      "cell_type": "code",
      "source": [
        "## Ends with a sentance using $ \n",
        "txt=\"This is Kolkata\"\n",
        "match_=re.findall('Kolkata$',txt)\n",
        "if match_:\n",
        "  print(\"This sentence Ends with 'Kolkata'\")\n",
        "else:\n",
        "  print(\"No match found\") "
      ],
      "metadata": {
        "colab": {
          "base_uri": "https://localhost:8080/"
        },
        "id": "GUUPk2UAX4bs",
        "outputId": "d0316e06-4a67-4dad-a000-f14d9da54563"
      },
      "execution_count": 23,
      "outputs": [
        {
          "output_type": "stream",
          "name": "stdout",
          "text": [
            "This sentence Ends with 'Kolkata'\n"
          ]
        }
      ]
    },
    {
      "cell_type": "code",
      "source": [
        "#find all characters followed by 0 or more occurance using .*\n",
        "txt=\"Today's weather of kolkata is too foggy\"\n",
        "match_=re.findall('we.*er',txt) \n",
        "print(match_)"
      ],
      "metadata": {
        "colab": {
          "base_uri": "https://localhost:8080/"
        },
        "id": "fX8QDQcyYnu-",
        "outputId": "11e9ca04-254b-4ec2-877c-92b921148708"
      },
      "execution_count": 24,
      "outputs": [
        {
          "output_type": "stream",
          "name": "stdout",
          "text": [
            "['weather']\n"
          ]
        }
      ]
    },
    {
      "cell_type": "code",
      "source": [
        "#find all characters followed by 1 or more occurance using .+\n",
        "txt=\"Today's weather of kolkata is too foggy\"\n",
        "match_=re.findall('we.+er',txt) \n",
        "print(match_)"
      ],
      "metadata": {
        "colab": {
          "base_uri": "https://localhost:8080/"
        },
        "id": "B6eWQI51ZVZ2",
        "outputId": "0196e48b-39be-4c57-f0e9-ece443c01127"
      },
      "execution_count": 26,
      "outputs": [
        {
          "metadata": {
            "tags": null
          },
          "name": "stdout",
          "output_type": "stream",
          "text": [
            "['weather']\n"
          ]
        }
      ]
    },
    {
      "cell_type": "code",
      "source": [
        "#find all characters followed by 1 or more occurance using .?\n",
        "txt=\"Today's weather of kolkata is too foggy\"\n",
        "match_=re.findall('we.?er',txt) \n",
        "print(match_)"
      ],
      "metadata": {
        "colab": {
          "base_uri": "https://localhost:8080/"
        },
        "id": "a4pTHPcYaE6r",
        "outputId": "52e0cfd2-6351-4774-b8ea-28fe64d7f33f"
      },
      "execution_count": 27,
      "outputs": [
        {
          "output_type": "stream",
          "name": "stdout",
          "text": [
            "[]\n"
          ]
        }
      ]
    },
    {
      "cell_type": "code",
      "source": [
        "#find all characters followed by own spicification using .{no_of_element}\n",
        "txt=\"Today's weather of kolkata is too foggy\"\n",
        "match_=re.findall('w.{2}r',txt) \n",
        "print(match_)"
      ],
      "metadata": {
        "colab": {
          "base_uri": "https://localhost:8080/"
        },
        "id": "0XJN9s8Rbn9_",
        "outputId": "e00830e7-ef87-4cab-b3e5-d135b16b7a18"
      },
      "execution_count": 29,
      "outputs": [
        {
          "output_type": "stream",
          "name": "stdout",
          "text": [
            "[]\n"
          ]
        }
      ]
    },
    {
      "cell_type": "code",
      "source": [
        "#Match either or using |\n",
        "txt=\"This is Kolkata\"\n",
        "match_=re.findall('Kolkata|Delhi',txt)\n",
        "print(match_)\n",
        "if match_:\n",
        "  print(\"Ohh! there is one match\")\n",
        "else:\n",
        "  print(\"No match found\") "
      ],
      "metadata": {
        "colab": {
          "base_uri": "https://localhost:8080/"
        },
        "id": "HGLAztuOcK8N",
        "outputId": "22399355-a3f2-47d7-d1ba-87d464e4a8f1"
      },
      "execution_count": 31,
      "outputs": [
        {
          "output_type": "stream",
          "name": "stdout",
          "text": [
            "['Kolkata']\n",
            "Ohh! there is one match\n"
          ]
        }
      ]
    },
    {
      "cell_type": "code",
      "source": [
        "# \\A--> Returns a match if the specified characters are at the beginning of the string\n",
        "txt=\"This is Kolkata\"\n",
        "match_=re.findall('\\Ais',txt)\n",
        "print(match_)\n",
        "if match_:\n",
        "  print(\"Ohh! there is match\")\n",
        "else:\n",
        "  print(\"No match found\") "
      ],
      "metadata": {
        "colab": {
          "base_uri": "https://localhost:8080/"
        },
        "id": "HbFfUP0kc06N",
        "outputId": "d10f5d19-5d8b-4e4c-a3a9-1c7822655114"
      },
      "execution_count": 4,
      "outputs": [
        {
          "output_type": "stream",
          "name": "stdout",
          "text": [
            "[]\n",
            "No match found\n"
          ]
        }
      ]
    },
    {
      "cell_type": "code",
      "source": [
        "#\\b--> Returns a match where the specified characters are at the beginning or at the end of a word.\n",
        "txt=\"This is Kolkata\"\n",
        "match_=re.findall('\\bis',txt)\n",
        "print(match_)\n",
        "if match_:\n",
        "  print(\"Ohh! there is match\")\n",
        "else:\n",
        "  print(\"No match found\")"
      ],
      "metadata": {
        "colab": {
          "base_uri": "https://localhost:8080/"
        },
        "id": "BSg8QOLPCTVi",
        "outputId": "d1fe9ac3-5892-4afc-a9c7-3b1887634f0d"
      },
      "execution_count": 5,
      "outputs": [
        {
          "output_type": "stream",
          "name": "stdout",
          "text": [
            "[]\n",
            "No match found\n"
          ]
        }
      ]
    },
    {
      "cell_type": "code",
      "source": [
        "#\\B--> Returns a match where the specified characters are present, but NOT at the beginning (or at the end) of a word.\n",
        "txt=\"This is Kolkata\"\n",
        "match_=re.findall('\\Bis',txt)\n",
        "print(match_)\n",
        "if match_:\n",
        "  print(\"Ohh! there is match\")\n",
        "else:\n",
        "  print(\"No match found\")"
      ],
      "metadata": {
        "colab": {
          "base_uri": "https://localhost:8080/"
        },
        "id": "LPAD9kFoDE5F",
        "outputId": "38a728e5-d922-4b5d-c266-0a622ae143fc"
      },
      "execution_count": 6,
      "outputs": [
        {
          "output_type": "stream",
          "name": "stdout",
          "text": [
            "['is']\n",
            "Ohh! there is match\n"
          ]
        }
      ]
    },
    {
      "cell_type": "code",
      "source": [
        "#\\d--> Returns a match where the string contains digits (numbers from 0-9)\n",
        "txt=\"I have to pay $40 on googlepay and $52.39 in  Phonepay\"\n",
        "match_=re.findall('\\d',txt)\n",
        "print(match_)"
      ],
      "metadata": {
        "colab": {
          "base_uri": "https://localhost:8080/"
        },
        "id": "lIaoWcRtDVSI",
        "outputId": "fca8f00c-3b75-46c2-b294-0ebf85778e02"
      },
      "execution_count": 7,
      "outputs": [
        {
          "output_type": "stream",
          "name": "stdout",
          "text": [
            "['4', '0', '5', '2', '3', '9']\n"
          ]
        }
      ]
    },
    {
      "cell_type": "code",
      "source": [
        "#\\D-->Returns a match where the string DOES NOT contain digits\n",
        "txt=\"I have to pay $40 on googlepay and $52.39 in  Phonepay\"\n",
        "match_=re.findall('\\D',txt)\n",
        "print(match_)"
      ],
      "metadata": {
        "colab": {
          "base_uri": "https://localhost:8080/"
        },
        "id": "h8PjWa7RDz7o",
        "outputId": "004077ef-576d-4d8a-88d2-5ea4b9ed8b60"
      },
      "execution_count": 9,
      "outputs": [
        {
          "output_type": "stream",
          "name": "stdout",
          "text": [
            "['I', ' ', 'h', 'a', 'v', 'e', ' ', 't', 'o', ' ', 'p', 'a', 'y', ' ', '$', ' ', 'o', 'n', ' ', 'g', 'o', 'o', 'g', 'l', 'e', 'p', 'a', 'y', ' ', 'a', 'n', 'd', ' ', '$', '.', ' ', 'i', 'n', ' ', ' ', 'P', 'h', 'o', 'n', 'e', 'p', 'a', 'y']\n"
          ]
        }
      ]
    },
    {
      "cell_type": "code",
      "source": [
        "#\\s--> Returns a match where the string contains a white space character.\n",
        "text=\"This is a Text.\"\n",
        "match_=re.findall(\"\\s\",text)\n",
        "print(match_)\n",
        "print(\"----------------------------------------------\")\n",
        "text1=\"ThisisaText.\"\n",
        "match_1=re.findall(\"\\s\",text1)\n",
        "print(match_1)"
      ],
      "metadata": {
        "colab": {
          "base_uri": "https://localhost:8080/"
        },
        "id": "uSOISl08EGsP",
        "outputId": "b808596d-bf25-45e8-d7dd-52e5f063bf3f"
      },
      "execution_count": 12,
      "outputs": [
        {
          "output_type": "stream",
          "name": "stdout",
          "text": [
            "[' ', ' ', ' ']\n",
            "----------------------------------------------\n",
            "[]\n"
          ]
        }
      ]
    },
    {
      "cell_type": "code",
      "source": [
        "#\\S--> Returns a match where the string DOES NOT contain a white space character.\n",
        "text=\"This is a Text.\"\n",
        "match_=re.findall(\"\\S\",text)\n",
        "print(match_)\n",
        "print(\"----------------------------------------------\")\n",
        "text1=\"ThisisaText.\"\n",
        "match_1=re.findall(\"\\S\",text1)\n",
        "print(match_1)"
      ],
      "metadata": {
        "colab": {
          "base_uri": "https://localhost:8080/"
        },
        "id": "C8NND8xzEksK",
        "outputId": "19c1206b-c8a7-45b0-c528-34ad2541a9dc"
      },
      "execution_count": 13,
      "outputs": [
        {
          "output_type": "stream",
          "name": "stdout",
          "text": [
            "['T', 'h', 'i', 's', 'i', 's', 'a', 'T', 'e', 'x', 't', '.']\n",
            "----------------------------------------------\n",
            "['T', 'h', 'i', 's', 'i', 's', 'a', 'T', 'e', 'x', 't', '.']\n"
          ]
        }
      ]
    },
    {
      "cell_type": "code",
      "source": [
        "#\\w-->Return a match at every word character (characters from a to Z, digits from 0-9, and the underscore _ character):\n",
        "text=\"This is _ a Text.\"\n",
        "match_=re.findall(\"\\w\",text)\n",
        "print(match_)"
      ],
      "metadata": {
        "colab": {
          "base_uri": "https://localhost:8080/"
        },
        "id": "m6-uL2iUFAOy",
        "outputId": "b94bbdd7-462d-45c2-eed7-aae076be2060"
      },
      "execution_count": 15,
      "outputs": [
        {
          "output_type": "stream",
          "name": "stdout",
          "text": [
            "['T', 'h', 'i', 's', 'i', 's', '_', 'a', 'T', 'e', 'x', 't']\n"
          ]
        }
      ]
    },
    {
      "cell_type": "code",
      "source": [
        "#W--> Returns a match where the string DOES NOT contain any word characters\n",
        "text=\"This is _ a Text.\"\n",
        "match_=re.findall(\"\\W\",text)\n",
        "print(match_)"
      ],
      "metadata": {
        "colab": {
          "base_uri": "https://localhost:8080/"
        },
        "id": "6dgGPMzLFgFl",
        "outputId": "92cfa622-1c48-4f27-c37b-d5c3b5959351"
      },
      "execution_count": 16,
      "outputs": [
        {
          "output_type": "stream",
          "name": "stdout",
          "text": [
            "[' ', ' ', ' ', ' ', '.']\n"
          ]
        }
      ]
    },
    {
      "cell_type": "code",
      "source": [
        "#Z-->Returns a match if the specified characters are at the end of the string\n",
        "text=\"This is _ a Text.\"\n",
        "match_=re.findall(\".\\Z\",text)\n",
        "if match_:\n",
        "  print(\"Match\")\n",
        "else:\n",
        "  print(\"No Match\")  \n"
      ],
      "metadata": {
        "colab": {
          "base_uri": "https://localhost:8080/"
        },
        "id": "cLaInURIFw0p",
        "outputId": "85119f3a-f815-45bf-faaa-74f78b490b80"
      },
      "execution_count": 19,
      "outputs": [
        {
          "output_type": "stream",
          "name": "stdout",
          "text": [
            "Match\n"
          ]
        }
      ]
    },
    {
      "cell_type": "code",
      "source": [
        "#[arn]--> \tReturns a match where one of the specified characters (a, r, or n) is present\n",
        "text=\"This is a Text.\"\n",
        "match_=re.findall(\"[hTt]\",text)\n",
        "print(match_)\n",
        "if match_:\n",
        "  print(\"Match\")\n",
        "else:\n",
        "  print(\"No Match\") "
      ],
      "metadata": {
        "colab": {
          "base_uri": "https://localhost:8080/"
        },
        "id": "NOafOopvGO38",
        "outputId": "bc668bc9-f7da-47f2-9bc1-1364bbc52ed4"
      },
      "execution_count": 21,
      "outputs": [
        {
          "output_type": "stream",
          "name": "stdout",
          "text": [
            "['T', 'h', 'T', 't']\n",
            "Match\n"
          ]
        }
      ]
    },
    {
      "cell_type": "code",
      "source": [
        "#[a-n]---> Returns a match for any lower case character, alphabetically between a and n\n",
        "text=\"This is a Text.\"\n",
        "match_=re.findall(\"[a-j]\",text)\n",
        "print(match_)\n",
        "if match_:\n",
        "  print(\"Match\")\n",
        "else:\n",
        "  print(\"No Match\") "
      ],
      "metadata": {
        "colab": {
          "base_uri": "https://localhost:8080/"
        },
        "id": "IZhVdPJMG3bO",
        "outputId": "627321c2-7e3f-4bf9-edc4-e13cef1aa360"
      },
      "execution_count": 22,
      "outputs": [
        {
          "output_type": "stream",
          "name": "stdout",
          "text": [
            "['h', 'i', 'i', 'a', 'e']\n",
            "Match\n"
          ]
        }
      ]
    },
    {
      "cell_type": "code",
      "source": [
        "#[^arn]--> \tReturns a match for any character EXCEPT a, r, and n\n",
        "text=\"This is a Text.\"\n",
        "match_=re.findall(\"[^htT]\",text)\n",
        "print(match_)\n",
        "if match_:\n",
        "  print(\"Match\")\n",
        "else:\n",
        "  print(\"No Match\") "
      ],
      "metadata": {
        "colab": {
          "base_uri": "https://localhost:8080/"
        },
        "id": "J2TAlkg8HNxT",
        "outputId": "a7dc5669-f516-4511-fbdc-a584e2662719"
      },
      "execution_count": 23,
      "outputs": [
        {
          "output_type": "stream",
          "name": "stdout",
          "text": [
            "['i', 's', ' ', 'i', 's', ' ', 'a', ' ', 'e', 'x', '.']\n",
            "Match\n"
          ]
        }
      ]
    },
    {
      "cell_type": "code",
      "source": [
        "#[0123]--> \tReturns a match where any of the specified digits (0, 1, 2, or 3) are present\n",
        "number=\"My number is +91693274621\"\n",
        "match_number=re.findall(\"[0123]\",number)\n",
        "print(match_number)"
      ],
      "metadata": {
        "colab": {
          "base_uri": "https://localhost:8080/"
        },
        "id": "B1VdyJqNHemC",
        "outputId": "ecbd99fe-ad75-43e5-f2ac-c858b7ddf760"
      },
      "execution_count": 24,
      "outputs": [
        {
          "output_type": "stream",
          "name": "stdout",
          "text": [
            "['1', '3', '2', '2', '1']\n"
          ]
        }
      ]
    },
    {
      "cell_type": "code",
      "source": [
        "#[0-9]--> \tReturns a match for any digit between 0 and 9\n",
        "number=\"My number is +91693274621\"\n",
        "match_number=re.findall(\"[0-9]\",number)\n",
        "print(match_number)"
      ],
      "metadata": {
        "colab": {
          "base_uri": "https://localhost:8080/"
        },
        "id": "LQrG4uJwH-b1",
        "outputId": "94103070-a814-4010-fb33-34ae08bb5a56"
      },
      "execution_count": 27,
      "outputs": [
        {
          "output_type": "stream",
          "name": "stdout",
          "text": [
            "['9', '1', '6', '9', '3', '2', '7', '4', '6', '2', '1']\n"
          ]
        }
      ]
    },
    {
      "cell_type": "code",
      "source": [
        "#[0-5][0-9]--> \tReturns a match for any two-digit numbers from 00 and 59\n",
        "number=\"Current time is 12:09 AM IST\"\n",
        "match_number=re.findall(\"[0-5][0-9]\",number)\n",
        "print(match_number)"
      ],
      "metadata": {
        "colab": {
          "base_uri": "https://localhost:8080/"
        },
        "id": "FVPkymgSIKSp",
        "outputId": "702e32a2-b568-4c9f-aba4-66c90b93590a"
      },
      "execution_count": 29,
      "outputs": [
        {
          "output_type": "stream",
          "name": "stdout",
          "text": [
            "['12', '09']\n"
          ]
        }
      ]
    },
    {
      "cell_type": "code",
      "source": [
        "#[a-zA-Z]--> \tReturns a match for any character alphabetically between a and z, lower case OR upper case\n",
        "number=\"Current time is 12:09 AM IST\"\n",
        "match_number=re.findall(\"[a-zA-Z]\",number)\n",
        "print(match_number)"
      ],
      "metadata": {
        "colab": {
          "base_uri": "https://localhost:8080/"
        },
        "id": "3XWYDvv2ImMq",
        "outputId": "8fbdacb3-0e3a-4ece-fd64-02b9847edd5d"
      },
      "execution_count": 32,
      "outputs": [
        {
          "output_type": "stream",
          "name": "stdout",
          "text": [
            "['C', 'u', 'r', 'r', 'e', 'n', 't', 't', 'i', 'm', 'e', 'i', 's', 'A', 'M', 'I', 'S', 'T']\n"
          ]
        }
      ]
    },
    {
      "cell_type": "code",
      "source": [
        "#[+]--> \tIn sets, +, *, ., |, (), $,{} has no special meaning, so [+] means: return a match for any + character in the string\n",
        "number=\"My number is +91693274621\"\n",
        "match_number=re.findall(\"[+]\",number)\n",
        "print(match_number)\n",
        "if match_number:\n",
        "  print(\"+ Match\")\n",
        "else:\n",
        "  print(\"+ not Match!!\")  \n",
        "print(\"--------------------------------------\")  \n",
        "match_number1=re.findall(\"[*]\",number)\n",
        "print(match_number1)\n",
        "if match_number1:\n",
        "  print(\"* Match\")\n",
        "else:\n",
        "  print(\"* not match !!\")  \n",
        "\n"
      ],
      "metadata": {
        "colab": {
          "base_uri": "https://localhost:8080/"
        },
        "id": "oWL7D2a2Jbdv",
        "outputId": "da39213f-b8f9-4e2f-8bcb-2c67326fd0d6"
      },
      "execution_count": 37,
      "outputs": [
        {
          "output_type": "stream",
          "name": "stdout",
          "text": [
            "['+']\n",
            "+ Match\n",
            "--------------------------------------\n",
            "[]\n",
            "* not match !!\n"
          ]
        }
      ]
    },
    {
      "cell_type": "code",
      "source": [],
      "metadata": {
        "id": "mWDZ6FJHJxZy"
      },
      "execution_count": null,
      "outputs": []
    }
  ]
}