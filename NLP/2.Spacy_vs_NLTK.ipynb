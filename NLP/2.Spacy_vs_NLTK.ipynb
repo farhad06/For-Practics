{
  "nbformat": 4,
  "nbformat_minor": 0,
  "metadata": {
    "colab": {
      "provenance": [],
      "authorship_tag": "ABX9TyNZRI/l1boQZgMMh7k47O4C",
      "include_colab_link": true
    },
    "kernelspec": {
      "name": "python3",
      "display_name": "Python 3"
    },
    "language_info": {
      "name": "python"
    }
  },
  "cells": [
    {
      "cell_type": "markdown",
      "metadata": {
        "id": "view-in-github",
        "colab_type": "text"
      },
      "source": [
        "<a href=\"https://colab.research.google.com/github/farhad06/For-Practics/blob/main/NLP/2.Spacy_vs_NLTK.ipynb\" target=\"_parent\"><img src=\"https://colab.research.google.com/assets/colab-badge.svg\" alt=\"Open In Colab\"/></a>"
      ]
    },
    {
      "cell_type": "markdown",
      "source": [
        "## **Sentence and Word Tokenization using Spacy**\n",
        "\n"
      ],
      "metadata": {
        "id": "1gh0trl53D--"
      }
    },
    {
      "cell_type": "code",
      "execution_count": 1,
      "metadata": {
        "colab": {
          "base_uri": "https://localhost:8080/"
        },
        "id": "Lkzs3O5x0KN1",
        "outputId": "af6e72eb-ee47-4696-ee69-7b875bda5def"
      },
      "outputs": [
        {
          "output_type": "stream",
          "name": "stderr",
          "text": [
            "/usr/local/lib/python3.8/dist-packages/torch/cuda/__init__.py:497: UserWarning: Can't initialize NVML\n",
            "  warnings.warn(\"Can't initialize NVML\")\n"
          ]
        }
      ],
      "source": [
        "import spacy"
      ]
    },
    {
      "cell_type": "code",
      "source": [
        "nlp = spacy.load(\"en_core_web_sm\")\n",
        "text=(\"When Sebastian Thrun started working on self-driving cars at. \"\n",
        "      \"Google in 2007, few people outside of the company took him\")\n",
        "doc=nlp(text)"
      ],
      "metadata": {
        "id": "50KxkCFw1y_x"
      },
      "execution_count": 4,
      "outputs": []
    },
    {
      "cell_type": "code",
      "source": [
        "for sentence in doc.sents:\n",
        "  print(sentence)"
      ],
      "metadata": {
        "colab": {
          "base_uri": "https://localhost:8080/"
        },
        "id": "X4c9DVLY2UoS",
        "outputId": "f042139e-5bac-48b4-afc5-c98a48792c37"
      },
      "execution_count": 5,
      "outputs": [
        {
          "output_type": "stream",
          "name": "stdout",
          "text": [
            "When Sebastian Thrun started working on self-driving cars at.\n",
            "Google in 2007, few people outside of the company took him\n"
          ]
        }
      ]
    },
    {
      "cell_type": "code",
      "source": [
        "for sentence in doc.sents:\n",
        "  for words in sentence:\n",
        "    print(words)"
      ],
      "metadata": {
        "colab": {
          "base_uri": "https://localhost:8080/"
        },
        "id": "zFKI363R2g9Q",
        "outputId": "a7090cc3-cb29-4c8d-b426-50528a0bbb05"
      },
      "execution_count": 6,
      "outputs": [
        {
          "output_type": "stream",
          "name": "stdout",
          "text": [
            "When\n",
            "Sebastian\n",
            "Thrun\n",
            "started\n",
            "working\n",
            "on\n",
            "self\n",
            "-\n",
            "driving\n",
            "cars\n",
            "at\n",
            ".\n",
            "Google\n",
            "in\n",
            "2007\n",
            ",\n",
            "few\n",
            "people\n",
            "outside\n",
            "of\n",
            "the\n",
            "company\n",
            "took\n",
            "him\n"
          ]
        }
      ]
    },
    {
      "cell_type": "code",
      "source": [
        "type(words)"
      ],
      "metadata": {
        "colab": {
          "base_uri": "https://localhost:8080/"
        },
        "id": "71OQcQud40af",
        "outputId": "5f4c691c-06f4-4fb5-cc4a-7c0e9314fc4e"
      },
      "execution_count": 11,
      "outputs": [
        {
          "output_type": "execute_result",
          "data": {
            "text/plain": [
              "spacy.tokens.token.Token"
            ]
          },
          "metadata": {},
          "execution_count": 11
        }
      ]
    },
    {
      "cell_type": "markdown",
      "source": [
        "## **Sentence and Word Tokenization using NLTK**\n"
      ],
      "metadata": {
        "id": "dLobruFG3tTE"
      }
    },
    {
      "cell_type": "code",
      "source": [
        "import nltk\n",
        "nltk.download('punkt')\n",
        "from nltk.tokenize import sent_tokenize"
      ],
      "metadata": {
        "colab": {
          "base_uri": "https://localhost:8080/"
        },
        "id": "MTmCIGG821cF",
        "outputId": "a679557b-6e0d-40e5-f8a2-2d5b2ef2bed7"
      },
      "execution_count": 7,
      "outputs": [
        {
          "output_type": "stream",
          "name": "stderr",
          "text": [
            "[nltk_data] Downloading package punkt to /root/nltk_data...\n",
            "[nltk_data]   Unzipping tokenizers/punkt.zip.\n"
          ]
        }
      ]
    },
    {
      "cell_type": "code",
      "source": [
        "text=(\"When Sebastian Thrun started working on self-driving cars at. \"\n",
        "      \"Google in 2007, few people outside of the company took him\")\n",
        "sent_tokenize(text)"
      ],
      "metadata": {
        "colab": {
          "base_uri": "https://localhost:8080/"
        },
        "id": "WwdTT4HE4Gu_",
        "outputId": "0f426471-f366-48c4-925b-f958c0075d34"
      },
      "execution_count": 8,
      "outputs": [
        {
          "output_type": "execute_result",
          "data": {
            "text/plain": [
              "['When Sebastian Thrun started working on self-driving cars at.',\n",
              " 'Google in 2007, few people outside of the company took him']"
            ]
          },
          "metadata": {},
          "execution_count": 8
        }
      ]
    },
    {
      "cell_type": "code",
      "source": [
        "from nltk.tokenize import word_tokenize\n",
        "word_tokenize(text)"
      ],
      "metadata": {
        "colab": {
          "base_uri": "https://localhost:8080/"
        },
        "id": "_4aqMP_74Qc5",
        "outputId": "4f2c0fe5-8375-427f-d389-d3254f9cf6a1"
      },
      "execution_count": 9,
      "outputs": [
        {
          "output_type": "execute_result",
          "data": {
            "text/plain": [
              "['When',\n",
              " 'Sebastian',\n",
              " 'Thrun',\n",
              " 'started',\n",
              " 'working',\n",
              " 'on',\n",
              " 'self-driving',\n",
              " 'cars',\n",
              " 'at',\n",
              " '.',\n",
              " 'Google',\n",
              " 'in',\n",
              " '2007',\n",
              " ',',\n",
              " 'few',\n",
              " 'people',\n",
              " 'outside',\n",
              " 'of',\n",
              " 'the',\n",
              " 'company',\n",
              " 'took',\n",
              " 'him']"
            ]
          },
          "metadata": {},
          "execution_count": 9
        }
      ]
    },
    {
      "cell_type": "code",
      "source": [
        "type(word_tokenize(text))"
      ],
      "metadata": {
        "colab": {
          "base_uri": "https://localhost:8080/"
        },
        "id": "tx-mCMPL4m5v",
        "outputId": "d7c32dc2-2a0f-4d82-d659-cafe06ac70f8"
      },
      "execution_count": 10,
      "outputs": [
        {
          "output_type": "execute_result",
          "data": {
            "text/plain": [
              "list"
            ]
          },
          "metadata": {},
          "execution_count": 10
        }
      ]
    },
    {
      "cell_type": "code",
      "source": [],
      "metadata": {
        "id": "OSvfz8T64tul"
      },
      "execution_count": null,
      "outputs": []
    }
  ]
}