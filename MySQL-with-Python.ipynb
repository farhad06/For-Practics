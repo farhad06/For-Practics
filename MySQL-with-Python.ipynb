{
 "cells": [
  {
   "cell_type": "code",
   "execution_count": 1,
   "id": "08fb3896",
   "metadata": {},
   "outputs": [],
   "source": [
    "import mysql.connector\n",
    "from mysql.connector import Error\n",
    "import pandas as pd"
   ]
  },
  {
   "cell_type": "code",
   "execution_count": 2,
   "id": "3b40126e",
   "metadata": {},
   "outputs": [
    {
     "name": "stdout",
     "output_type": "stream",
     "text": [
      "MySQL Database connection successful.\n"
     ]
    }
   ],
   "source": [
    "#create server connection\n",
    "def create_server_connection(host_name,user_name,password_name):\n",
    "    connection=None\n",
    "    try:\n",
    "        connection=mysql.connector.connect(\n",
    "                host=host_name,\n",
    "                user=user_name,\n",
    "                password=password_name\n",
    "        \n",
    "        )\n",
    "        print(\"MySQL Database connection successful.\")\n",
    "    except Error as err:\n",
    "        print(f\"Error: '{err}'\")\n",
    "    return connection    \n",
    "        \n",
    "pw='farhad'\n",
    "db='mysql_python'\n",
    "connection=create_server_connection('localhost','root',pw)\n"
   ]
  },
  {
   "cell_type": "code",
   "execution_count": 3,
   "id": "812a6220",
   "metadata": {},
   "outputs": [
    {
     "name": "stdout",
     "output_type": "stream",
     "text": [
      "Database Created Successful.\n"
     ]
    }
   ],
   "source": [
    "#create database\n",
    "def create_database(connection,query):\n",
    "    cursor=connection.cursor()\n",
    "    try:\n",
    "        cursor.execute(query)\n",
    "        print(\"Database Created Successful.\")\n",
    "    except Error as err:\n",
    "        print(f\"Error: '{err}'\")\n",
    "query =\"create database mysql_python\"\n",
    "create_database(connection,query)\n",
    "        "
   ]
  },
  {
   "cell_type": "code",
   "execution_count": 7,
   "id": "0b2118a9",
   "metadata": {},
   "outputs": [],
   "source": [
    "def create_database_connection(host_name,user_name,user_password,db_name):\n",
    "    connection=None\n",
    "    try:\n",
    "        connection=mysql.connector.connect(\n",
    "            host=host_name,\n",
    "            user=user_name,\n",
    "            password=user_password,\n",
    "            db=db_name\n",
    "        )\n",
    "        print(\"MySQL database connection successful.\")\n",
    "    except Error as err:\n",
    "        print(f\"Error: '{err}'\")\n",
    "    return connection     \n",
    "        "
   ]
  },
  {
   "cell_type": "code",
   "execution_count": 5,
   "id": "50b9efe8",
   "metadata": {},
   "outputs": [],
   "source": [
    "def execute_query(connection,query):\n",
    "    cursor=connection.cursor()\n",
    "    try:\n",
    "        cursor.execute(query)\n",
    "        connection.commit()\n",
    "        print(\"Query Executed \")\n",
    "    except Error as err:\n",
    "         print(f\"Error: '{err}'\")"
   ]
  },
  {
   "cell_type": "code",
   "execution_count": 8,
   "id": "32411e09",
   "metadata": {},
   "outputs": [
    {
     "name": "stdout",
     "output_type": "stream",
     "text": [
      "MySQL database connection successful.\n",
      "Query Executed \n"
     ]
    }
   ],
   "source": [
    "#create table\n",
    "create_order_table=\"\"\"\n",
    "create table orders(\n",
    "order_id int primary key,\n",
    "customer_name varchar(30) not null,\n",
    "product_name varchar(20) not null,\n",
    "date_ordered date,\n",
    "quentity int,\n",
    "unit_price float,\n",
    "phone_number varchar(20));\n",
    "\"\"\"\n",
    "connection=create_database_connection('localhost','root',pw,db)\n",
    "execute_query(connection,create_order_table)"
   ]
  },
  {
   "cell_type": "code",
   "execution_count": 10,
   "id": "b290f31b",
   "metadata": {},
   "outputs": [
    {
     "name": "stdout",
     "output_type": "stream",
     "text": [
      "MySQL database connection successful.\n",
      "Query Executed \n"
     ]
    }
   ],
   "source": [
    "#insert data\n",
    "data_orders=\"\"\"\n",
    "insert into orders values\n",
    "(101,'Steve','Laptop','2018-06-12',2,800,'7744123245'),\n",
    "(102,'Jos','Book','2020-07-31',10,12,'6233698746'),\n",
    "(103,'Rohit','Shirt','2018-06-12',5,50,'7704413245'),\n",
    "(104,'Farhad','T-Shirt','1998-06-12',7,30,'7744121145'),\n",
    "(105,'Rahul','Headphone','2022-12-12',6,48,'9644125045'),\n",
    "(106,'Sakil','Smart TV','2008-01-12',10,300,'9744123245');\n",
    "\"\"\"\n",
    "connection=create_database_connection('localhost','root',pw,db)\n",
    "execute_query(connection,data_orders)"
   ]
  },
  {
   "cell_type": "code",
   "execution_count": 14,
   "id": "42b1d06f",
   "metadata": {},
   "outputs": [],
   "source": [
    "#read data from table\n",
    "def read_query(connection,query):\n",
    "    cursor=connection.cursor()\n",
    "    result=None\n",
    "    try:\n",
    "        cursor.execute(query)\n",
    "        result=cursor.fetchall()\n",
    "        return result\n",
    "    except Error as err:\n",
    "        print(f\"Error: '{err}'\")"
   ]
  },
  {
   "cell_type": "code",
   "execution_count": 13,
   "id": "8b48080d",
   "metadata": {},
   "outputs": [
    {
     "name": "stdout",
     "output_type": "stream",
     "text": [
      "MySQL database connection successful.\n",
      "(101, 'Steve', 'Laptop', datetime.date(2018, 6, 12), 2, 800.0, '7744123245')\n",
      "(102, 'Jos', 'Book', datetime.date(2020, 7, 31), 10, 12.0, '6233698746')\n",
      "(103, 'Rohit', 'Shirt', datetime.date(2018, 6, 12), 5, 50.0, '7704413245')\n",
      "(104, 'Farhad', 'T-Shirt', datetime.date(1998, 6, 12), 7, 30.0, '7744121145')\n",
      "(105, 'Rahul', 'Headphone', datetime.date(2022, 12, 12), 6, 48.0, '9644125045')\n",
      "(106, 'Sakil', 'Smart TV', datetime.date(2008, 1, 12), 10, 300.0, '9744123245')\n"
     ]
    }
   ],
   "source": [
    "#1st approach to fetch data\n",
    "connection=create_database_connection('localhost','root',pw,db)\n",
    "cursor=connection.cursor()\n",
    "cursor.execute(\"Select * from orders\")\n",
    "result=cursor.fetchall()\n",
    "for x in result:\n",
    "    print(x)"
   ]
  },
  {
   "cell_type": "code",
   "execution_count": 25,
   "id": "063846d4",
   "metadata": {},
   "outputs": [
    {
     "name": "stdout",
     "output_type": "stream",
     "text": [
      "MySQL database connection successful.\n",
      "\n",
      "(101, 'Steve', 'Laptop', datetime.date(2018, 6, 12), 2, 800.0, '7744123245')\n",
      "(102, 'Jos', 'Book', datetime.date(2020, 7, 31), 10, 12.0, '6233698746')\n",
      "(103, 'Rohit', 'Shirt', datetime.date(2018, 6, 12), 5, 50.0, '7704413245')\n",
      "(104, 'Farhad', 'T-Shirt', datetime.date(1998, 6, 12), 7, 30.0, '7744121145')\n",
      "(105, 'Rahul', 'Headphone', datetime.date(2022, 12, 12), 6, 48.0, '9644125045')\n",
      "(106, 'Sakil', 'Smart TV', datetime.date(2008, 1, 12), 10, 300.0, '9744123245')\n",
      "(107, 'Dipu', 'iPad', datetime.date(2023, 1, 23), 15, 30.0, '9700123245')\n"
     ]
    }
   ],
   "source": [
    "#2nd approach to fetch data \n",
    "fetch_all_data=\"\"\" select * from orders \"\"\"\n",
    "connection=create_database_connection('localhost','root',pw,db)\n",
    "print()\n",
    "result=read_query(connection,fetch_all_data)\n",
    "for data in result:\n",
    "    print(data)"
   ]
  },
  {
   "cell_type": "code",
   "execution_count": 17,
   "id": "f738b4cb",
   "metadata": {},
   "outputs": [
    {
     "name": "stdout",
     "output_type": "stream",
     "text": [
      "MySQL database connection successful.\n",
      "\n",
      "('Steve', 'Laptop', '7744123245')\n",
      "('Jos', 'Book', '6233698746')\n",
      "('Rohit', 'Shirt', '7704413245')\n",
      "('Farhad', 'T-Shirt', '7744121145')\n",
      "('Rahul', 'Headphone', '9644125045')\n",
      "('Sakil', 'Smart TV', '9744123245')\n"
     ]
    }
   ],
   "source": [
    "fetch_all_data=\"\"\" select customer_name,product_name,phone_number from orders \"\"\"\n",
    "connection=create_database_connection('localhost','root',pw,db)\n",
    "print()\n",
    "result=read_query(connection,fetch_all_data)\n",
    "for data in result:\n",
    "    print(data)"
   ]
  },
  {
   "cell_type": "code",
   "execution_count": 21,
   "id": "1fa09db1",
   "metadata": {},
   "outputs": [
    {
     "name": "stdout",
     "output_type": "stream",
     "text": [
      "MySQL database connection successful.\n"
     ]
    }
   ],
   "source": [
    "fetch_all_data=\"\"\" select * from orders \"\"\"\n",
    "connection=create_database_connection('localhost','root',pw,db)\n",
    "result=read_query(connection,fetch_all_data)\n",
    "full_db=[]\n",
    "for data in result:\n",
    "    data=list(data)\n",
    "    full_db.append(data)\n",
    "cols_names=['order_id','customer_name','product_name','date_ordered','quentity','unit_price','phone_number']\n",
    "df=pd.DataFrame(full_db,columns=cols_names)"
   ]
  },
  {
   "cell_type": "code",
   "execution_count": 22,
   "id": "a139618d",
   "metadata": {},
   "outputs": [
    {
     "data": {
      "text/html": [
       "<div>\n",
       "<style scoped>\n",
       "    .dataframe tbody tr th:only-of-type {\n",
       "        vertical-align: middle;\n",
       "    }\n",
       "\n",
       "    .dataframe tbody tr th {\n",
       "        vertical-align: top;\n",
       "    }\n",
       "\n",
       "    .dataframe thead th {\n",
       "        text-align: right;\n",
       "    }\n",
       "</style>\n",
       "<table border=\"1\" class=\"dataframe\">\n",
       "  <thead>\n",
       "    <tr style=\"text-align: right;\">\n",
       "      <th></th>\n",
       "      <th>order_id</th>\n",
       "      <th>customer_name</th>\n",
       "      <th>product_name</th>\n",
       "      <th>date_ordered</th>\n",
       "      <th>quentity</th>\n",
       "      <th>unit_price</th>\n",
       "      <th>phone_number</th>\n",
       "    </tr>\n",
       "  </thead>\n",
       "  <tbody>\n",
       "    <tr>\n",
       "      <th>0</th>\n",
       "      <td>101</td>\n",
       "      <td>Steve</td>\n",
       "      <td>Laptop</td>\n",
       "      <td>2018-06-12</td>\n",
       "      <td>2</td>\n",
       "      <td>800.0</td>\n",
       "      <td>7744123245</td>\n",
       "    </tr>\n",
       "    <tr>\n",
       "      <th>1</th>\n",
       "      <td>102</td>\n",
       "      <td>Jos</td>\n",
       "      <td>Book</td>\n",
       "      <td>2020-07-31</td>\n",
       "      <td>10</td>\n",
       "      <td>12.0</td>\n",
       "      <td>6233698746</td>\n",
       "    </tr>\n",
       "    <tr>\n",
       "      <th>2</th>\n",
       "      <td>103</td>\n",
       "      <td>Rohit</td>\n",
       "      <td>Shirt</td>\n",
       "      <td>2018-06-12</td>\n",
       "      <td>5</td>\n",
       "      <td>50.0</td>\n",
       "      <td>7704413245</td>\n",
       "    </tr>\n",
       "    <tr>\n",
       "      <th>3</th>\n",
       "      <td>104</td>\n",
       "      <td>Farhad</td>\n",
       "      <td>T-Shirt</td>\n",
       "      <td>1998-06-12</td>\n",
       "      <td>7</td>\n",
       "      <td>30.0</td>\n",
       "      <td>7744121145</td>\n",
       "    </tr>\n",
       "    <tr>\n",
       "      <th>4</th>\n",
       "      <td>105</td>\n",
       "      <td>Rahul</td>\n",
       "      <td>Headphone</td>\n",
       "      <td>2022-12-12</td>\n",
       "      <td>6</td>\n",
       "      <td>48.0</td>\n",
       "      <td>9644125045</td>\n",
       "    </tr>\n",
       "    <tr>\n",
       "      <th>5</th>\n",
       "      <td>106</td>\n",
       "      <td>Sakil</td>\n",
       "      <td>Smart TV</td>\n",
       "      <td>2008-01-12</td>\n",
       "      <td>10</td>\n",
       "      <td>300.0</td>\n",
       "      <td>9744123245</td>\n",
       "    </tr>\n",
       "    <tr>\n",
       "      <th>6</th>\n",
       "      <td>107</td>\n",
       "      <td>Dipu</td>\n",
       "      <td>iPad</td>\n",
       "      <td>2023-01-23</td>\n",
       "      <td>15</td>\n",
       "      <td>30.0</td>\n",
       "      <td>9700123245</td>\n",
       "    </tr>\n",
       "  </tbody>\n",
       "</table>\n",
       "</div>"
      ],
      "text/plain": [
       "   order_id customer_name product_name date_ordered  quentity  unit_price  \\\n",
       "0       101         Steve       Laptop   2018-06-12         2       800.0   \n",
       "1       102           Jos         Book   2020-07-31        10        12.0   \n",
       "2       103         Rohit        Shirt   2018-06-12         5        50.0   \n",
       "3       104        Farhad      T-Shirt   1998-06-12         7        30.0   \n",
       "4       105         Rahul    Headphone   2022-12-12         6        48.0   \n",
       "5       106         Sakil     Smart TV   2008-01-12        10       300.0   \n",
       "6       107          Dipu         iPad   2023-01-23        15        30.0   \n",
       "\n",
       "  phone_number  \n",
       "0   7744123245  \n",
       "1   6233698746  \n",
       "2   7704413245  \n",
       "3   7744121145  \n",
       "4   9644125045  \n",
       "5   9744123245  \n",
       "6   9700123245  "
      ]
     },
     "execution_count": 22,
     "metadata": {},
     "output_type": "execute_result"
    }
   ],
   "source": [
    "df"
   ]
  },
  {
   "cell_type": "code",
   "execution_count": 23,
   "id": "f9ac78d2",
   "metadata": {},
   "outputs": [
    {
     "data": {
      "text/plain": [
       "(7, 7)"
      ]
     },
     "execution_count": 23,
     "metadata": {},
     "output_type": "execute_result"
    }
   ],
   "source": [
    "df.shape"
   ]
  },
  {
   "cell_type": "code",
   "execution_count": 24,
   "id": "1677428f",
   "metadata": {},
   "outputs": [
    {
     "data": {
      "text/plain": [
       "order_id           int64\n",
       "customer_name     object\n",
       "product_name      object\n",
       "date_ordered      object\n",
       "quentity           int64\n",
       "unit_price       float64\n",
       "phone_number      object\n",
       "dtype: object"
      ]
     },
     "execution_count": 24,
     "metadata": {},
     "output_type": "execute_result"
    }
   ],
   "source": [
    "df.dtypes"
   ]
  },
  {
   "cell_type": "code",
   "execution_count": null,
   "id": "3b6db5f6",
   "metadata": {},
   "outputs": [],
   "source": []
  }
 ],
 "metadata": {
  "kernelspec": {
   "display_name": "Python 3 (ipykernel)",
   "language": "python",
   "name": "python3"
  },
  "language_info": {
   "codemirror_mode": {
    "name": "ipython",
    "version": 3
   },
   "file_extension": ".py",
   "mimetype": "text/x-python",
   "name": "python",
   "nbconvert_exporter": "python",
   "pygments_lexer": "ipython3",
   "version": "3.9.12"
  }
 },
 "nbformat": 4,
 "nbformat_minor": 5
}
