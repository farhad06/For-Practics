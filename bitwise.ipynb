{
 "cells": [
  {
   "cell_type": "code",
   "execution_count": 11,
   "id": "2aae6391",
   "metadata": {},
   "outputs": [
    {
     "name": "stdout",
     "output_type": "stream",
     "text": [
      "<class 'str'>\n",
      "Bit wise and operation is:  0b1100\n",
      "Bit wise or operation is:  0b111101\n",
      "Bit wise xor operation is:  0b110001\n",
      "One's complement of first number is:  -0b111101\n",
      "-61\n"
     ]
    }
   ],
   "source": [
    "a,b=60,13\n",
    "c=bin(a)\n",
    "d=bin(b)\n",
    "print(type(c))\n",
    "print(\"Bit wise and operation is: \",bin(a&b))\n",
    "print(\"Bit wise or operation is: \",bin(a|b))\n",
    "print(\"Bit wise xor operation is: \",bin(a^b))\n",
    "print(\"One's complement of first number is: \",bin(~a))\n",
    "print(~a)"
   ]
  },
  {
   "cell_type": "code",
   "execution_count": 12,
   "id": "f754b0a0",
   "metadata": {},
   "outputs": [
    {
     "name": "stdout",
     "output_type": "stream",
     "text": [
      "0b1010\n",
      "0b101\n",
      "5\n"
     ]
    }
   ],
   "source": [
    "a=10\n",
    "print(bin(a))\n",
    "print(bin(a>>1))\n",
    "print(a>>1)"
   ]
  },
  {
   "cell_type": "code",
   "execution_count": 28,
   "id": "a62f8acf",
   "metadata": {},
   "outputs": [
    {
     "name": "stdout",
     "output_type": "stream",
     "text": [
      "79\n"
     ]
    }
   ],
   "source": [
    "import random\n",
    "print(random.randrange(1,100))"
   ]
  },
  {
   "cell_type": "code",
   "execution_count": 33,
   "id": "d539c005",
   "metadata": {},
   "outputs": [
    {
     "name": "stdout",
     "output_type": "stream",
     "text": [
      "0.36978623833580326\n"
     ]
    }
   ],
   "source": [
    "import random\n",
    "print(random.random())"
   ]
  },
  {
   "cell_type": "code",
   "execution_count": 34,
   "id": "6b587ae6",
   "metadata": {},
   "outputs": [
    {
     "name": "stdout",
     "output_type": "stream",
     "text": [
      "-0.3048106211022167\n",
      "-0.9524129804151563\n",
      "0.320040389379563\n"
     ]
    }
   ],
   "source": [
    "import math\n",
    "print(math.sin(60))\n",
    "print(math.cos(60))\n",
    "print(math.tan(60))"
   ]
  },
  {
   "cell_type": "code",
   "execution_count": 39,
   "id": "d93b9a21",
   "metadata": {},
   "outputs": [
    {
     "name": "stdout",
     "output_type": "stream",
     "text": [
      "45.0\n"
     ]
    }
   ],
   "source": [
    "import math\n",
    "print(math.degrees(math.pi/4))"
   ]
  },
  {
   "cell_type": "code",
   "execution_count": 50,
   "id": "6c17e6b8",
   "metadata": {},
   "outputs": [
    {
     "name": "stdout",
     "output_type": "stream",
     "text": [
      "Updated String is: \u000b",
      "Hello Python\n"
     ]
    }
   ],
   "source": [
    "var=\"Hello World\"\n",
    "\n",
    "print(\"Updated String is: \\v\"+var[:6]+\"Python\")"
   ]
  },
  {
   "cell_type": "code",
   "execution_count": 62,
   "id": "634a46a7",
   "metadata": {},
   "outputs": [
    {
     "name": "stdout",
     "output_type": "stream",
     "text": [
      "True\n",
      "False\n",
      "Hello World\\nFarhad\n"
     ]
    }
   ],
   "source": [
    "var=\"Hello world\"\n",
    "print('l' in var);print('l' not in var)\n",
    "print(R'Hello World\\nFarhad')"
   ]
  },
  {
   "cell_type": "code",
   "execution_count": 65,
   "id": "e5e6adda",
   "metadata": {},
   "outputs": [
    {
     "name": "stdout",
     "output_type": "stream",
     "text": [
      "My name is Farhad Ahamed and weight is 65 kg\n"
     ]
    }
   ],
   "source": [
    "print(\"My name is %s and weight is %d kg\" %(\"Farhad Ahamed\",65))"
   ]
  },
  {
   "cell_type": "code",
   "execution_count": 74,
   "id": "6140b3d3",
   "metadata": {},
   "outputs": [
    {
     "name": "stdout",
     "output_type": "stream",
     "text": [
      "Hello, and welcome to my world.\n",
      "HELLO, AND WELCOME TO MY WORLD.\n",
      "lorem capsolue\n",
      "True\n",
      "False\n"
     ]
    }
   ],
   "source": [
    "txt = \"hello, and welcome to my world.\"\n",
    "var=\"LOREM CAPSOLUE\"\n",
    "print(txt.capitalize())\n",
    "print(txt.upper());print(var.lower())\n",
    "print(txt.islower());print(txt.isupper())"
   ]
  },
  {
   "cell_type": "code",
   "execution_count": 75,
   "id": "c2780c29",
   "metadata": {},
   "outputs": [
    {
     "name": "stdout",
     "output_type": "stream",
     "text": [
      "FAhamedaAhamedrAhamedhAhamedaAhamedd\n"
     ]
    }
   ],
   "source": [
    "txt=\"Farhad\"\n",
    "var=\"Ahamed\".join(txt)\n",
    "print(var)"
   ]
  },
  {
   "cell_type": "code",
   "execution_count": 83,
   "id": "518e3cad",
   "metadata": {},
   "outputs": [
    {
     "name": "stdout",
     "output_type": "stream",
     "text": [
      "1\n",
      "1\n",
      "8\n",
      " \n",
      "        Farhad                \n",
      "Farhad\n"
     ]
    }
   ],
   "source": [
    "txt = \"Hello, welcome to my world.\"\n",
    "print(txt.find(\"e\"))\n",
    "print(txt.index(\"e\"))\n",
    "print(txt.find(\"e\",2))\n",
    "x=min(txt)\n",
    "print(x)\n",
    "var=\"        Farhad                \"\n",
    "print(var)\n",
    "print(var.strip())"
   ]
  },
  {
   "cell_type": "code",
   "execution_count": null,
   "id": "15e020d6",
   "metadata": {},
   "outputs": [],
   "source": [
    "col=df['location']\n",
    "L=[]\n",
    "count=0\n",
    "for i in col:\n",
    "        L.append(i)\n",
    "for item in L:\n",
    "    if item =='others':\n",
    "        count+=1\n",
    "print(count)        \n",
    "        \n",
    "        "
   ]
  }
 ],
 "metadata": {
  "kernelspec": {
   "display_name": "Python 3 (ipykernel)",
   "language": "python",
   "name": "python3"
  },
  "language_info": {
   "codemirror_mode": {
    "name": "ipython",
    "version": 3
   },
   "file_extension": ".py",
   "mimetype": "text/x-python",
   "name": "python",
   "nbconvert_exporter": "python",
   "pygments_lexer": "ipython3",
   "version": "3.9.7"
  }
 },
 "nbformat": 4,
 "nbformat_minor": 5
}
