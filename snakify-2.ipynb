{
 "cells": [
  {
   "cell_type": "code",
   "execution_count": null,
   "id": "ca1cc62a",
   "metadata": {},
   "outputs": [],
   "source": [
    "#Q1.Given an integer number, print its last digit.\n",
    "num=int(input())\n",
    "last_digit=num % 10\n",
    "print(last_digit)"
   ]
  },
  {
   "cell_type": "code",
   "execution_count": null,
   "id": "244e3cca",
   "metadata": {},
   "outputs": [],
   "source": [
    "#Q2.Given an integer. Print its tens digit\n",
    "num=int(input())\n",
    "tens_digit=num // 10 % 10\n",
    "print(tens_digit)"
   ]
  },
  {
   "cell_type": "code",
   "execution_count": null,
   "id": "c09196aa",
   "metadata": {},
   "outputs": [],
   "source": [
    "#Q3.Given a three-digit number. Find the sum of its digits.\n",
    "num=int(input())\n",
    "a=num//100\n",
    "b=num//10 % 10\n",
    "c=num%10\n",
    "print(a+b+c)"
   ]
  },
  {
   "cell_type": "code",
   "execution_count": null,
   "id": "463c4ef6",
   "metadata": {},
   "outputs": [],
   "source": [
    "#Q4.Given a positive real number, print its fractional part.\n",
    "num=float(input())\n",
    "print(num-int(num))"
   ]
  },
  {
   "cell_type": "code",
   "execution_count": null,
   "id": "409c736c",
   "metadata": {},
   "outputs": [],
   "source": [
    "#Q5.Given a positive real number, print its first digit to the right of the decimal point.\n",
    "x=float(input())\n",
    "dacimal=int(x*10)\n",
    "digit=dacimal %10\n",
    "print(digit)"
   ]
  },
  {
   "cell_type": "code",
   "execution_count": null,
   "id": "708b1d19",
   "metadata": {},
   "outputs": [],
   "source": [
    "#Q6.A car can cover distance of N kilometers per day. How many days will it take to cover a route of length M kilometers? \n",
    "import math\n",
    "n=int(input())\n",
    "m=int(input())\n",
    "req_kilo=math.ceil(m/n)\n",
    "print(req_kilo)"
   ]
  },
  {
   "cell_type": "code",
   "execution_count": null,
   "id": "87724216",
   "metadata": {},
   "outputs": [],
   "source": [
    "#Q7.Given the integer N - the number of minutes that is passed since midnight - how many hours and minutes are displayed on the 24h digital clock?\n",
    "minute=int(input())\n",
    "hour=minute //60\n",
    "minute1=minute %60\n",
    "print(str(hour)+\" \"+str(minute1))\n"
   ]
  },
  {
   "cell_type": "code",
   "execution_count": null,
   "id": "739b0f05",
   "metadata": {},
   "outputs": [],
   "source": [
    "#Q8.A cupcake costs A dollars and B cents. Determine, how many dollars and cents should one pay for N cupcakes. A program gets three numbers: A, B, N. It should print two numbers: total cost in dollars and cents\n",
    "a=int(input())\n",
    "b=int(input())\n",
    "n=int(input())\n",
    "dollar=n*a\n",
    "total_cent=n*b\n",
    "cal_dollar=total_cent//100\n",
    "cal_cent=total_cent%100\n",
    "print((dollar+cal_dollar),cal_cent)"
   ]
  },
  {
   "cell_type": "code",
   "execution_count": null,
   "id": "c0b60848",
   "metadata": {},
   "outputs": [],
   "source": [
    "#Q9."
   ]
  }
 ],
 "metadata": {
  "kernelspec": {
   "display_name": "Python 3 (ipykernel)",
   "language": "python",
   "name": "python3"
  },
  "language_info": {
   "codemirror_mode": {
    "name": "ipython",
    "version": 3
   },
   "file_extension": ".py",
   "mimetype": "text/x-python",
   "name": "python",
   "nbconvert_exporter": "python",
   "pygments_lexer": "ipython3",
   "version": "3.9.7"
  }
 },
 "nbformat": 4,
 "nbformat_minor": 5
}
