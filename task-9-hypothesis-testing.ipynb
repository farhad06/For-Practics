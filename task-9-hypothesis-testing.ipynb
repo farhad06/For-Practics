{
 "cells": [
  {
   "cell_type": "markdown",
   "metadata": {},
   "source": [
    "### <u><b> Rules To Follow to Implementation of t-test hypothesis and p-value testing </b></u>\n",
    "\n",
    "Step - 1:  \n",
    "Alternate Hypothesis (Bold claim): $ H_1 \\ \\Rightarrow \\ >, \\ <, \\ \\neq  $  \n",
    "Null Hypothesis (Status Quo): $ H_0 \\ \\Rightarrow \\ \\leq, \\ \\geq, \\ = $\n",
    "\n",
    "Step - 2:  \n",
    "* Collect a sample of size n\n",
    "* Compute the mean from this sample $ \\bar{x} $\n",
    "\n",
    "Step - 3:\n",
    "Compute Test Statistic:  \n",
    "* If population variance is known $$ z = \\frac{\\bar{x} - \\mu}{\\sigma/\\sqrt[2]{n}}$$\n",
    "\n",
    "* If population variance is unknown $$ t = \\frac{\\bar{x} - \\mu}{s/\\sqrt[2]{n}} $$\n",
    "\n",
    "Step - 4:\n",
    "Decide significance level $ \\alpha $. Lower $ \\alpha $ means you need stronger evidence to reject Null Hypothesis.\n",
    "\n",
    "Step - 5.1: Apply decision rule:\n",
    "* If test statistic is z-score -\n",
    "    * Two tailed z-test: $$ |z| > z_\\frac{\\alpha}{2} \\Rightarrow Accept \\ H_1 \\ or \\ Reject \\ H_0$$\n",
    "    * Right tailed z-test: $$ z > z_\\alpha \\Rightarrow Accept \\ H_1 \\ or \\ Reject \\ H_0 $$\n",
    "    * Left tailed z-test: $$ z < -z_\\alpha \\Rightarrow Accept \\ H_1 \\ or \\ Reject \\ H_0 $$\n",
    "    \n",
    "* If test statistic is t-score\n",
    "    * Two tailed t-test: $$ |t| > t_{n-1,\\frac{\\alpha}{2}} \\Rightarrow Accept \\ H_1 \\ or \\ Reject \\ H_0 $$\n",
    "    * Right tailed t-test: $$ t > t_{n-1,\\alpha} \\Rightarrow Accept \\ H_1 \\ or \\ Reject \\ H_0 $$\n",
    "    * Left tailed t-test: $$ t < t_{n-1,\\alpha} \\Rightarrow Accept \\ H_1 \\ or \\ Reject \\ H_0 $$\n",
    "\n",
    "Step - 5.2: Compute p-value $ P(Test \\ Statistics | H_0) $\n",
    "* For two tailed test: $$ p \\ value = 2 * (1.0 - cdf(test \\ statistic)) $$\n",
    "* For one tailed test: $$ p \\ value = (1.0 - cdf(test \\ statistic)) $$\n",
    "Now, $$ if (p \\ value < \\alpha) \\Rightarrow Accept \\ H_1 \\ or \\ Reject \\ H_0 $$"
   ]
  },
  {
   "cell_type": "markdown",
   "metadata": {},
   "source": [
    "#### Q-1: Pista House selling Hyderabadi Chicken Dum biryani claims that each parcel packet has 500 grams of biryani (also mentioned on the label of packet). You are sceptic of their claims and believe that on average each packet does not contain 500 grams of biryani. How do you prove your claim?"
   ]
  },
  {
   "cell_type": "markdown",
   "metadata": {},
   "source": [
    "$ H_1 \\; = Bold \\ Claim\\ that\\ they\\ are\\ not \\ serving\\ 500\\ grams\\ of\\ biryani $\n",
    "\n",
    "$ H_0 \\ =  They\\ are\\ serving\\ 500\\ grams\\ of\\ biryani$\n",
    "\n",
    "$ H_0 = Null\\ Hypothesis \\ \\ H_1\\ =\\ Alternative\\ Hypothesis $"
   ]
  },
  {
   "cell_type": "code",
   "execution_count": 61,
   "metadata": {
    "execution": {
     "iopub.execute_input": "2021-05-20T11:39:29.069621Z",
     "iopub.status.busy": "2021-05-20T11:39:29.069111Z",
     "iopub.status.idle": "2021-05-20T11:39:29.073489Z",
     "shell.execute_reply": "2021-05-20T11:39:29.072603Z",
     "shell.execute_reply.started": "2021-05-20T11:39:29.069574Z"
    }
   },
   "outputs": [],
   "source": [
    "#Function body of t-score\n",
    "def t_score(a,b,c,d):#sample_mean,pop_mean,sd,np.sqrt(sample_size)\n",
    "    return ((a-b)/(c/d))"
   ]
  },
  {
   "cell_type": "markdown",
   "metadata": {},
   "source": [
    "## <u> Importing Necessary Libraries </u>\n"
   ]
  },
  {
   "cell_type": "code",
   "execution_count": 62,
   "metadata": {
    "execution": {
     "iopub.execute_input": "2021-05-20T11:39:29.075266Z",
     "iopub.status.busy": "2021-05-20T11:39:29.074716Z",
     "iopub.status.idle": "2021-05-20T11:39:29.093641Z",
     "shell.execute_reply": "2021-05-20T11:39:29.092886Z",
     "shell.execute_reply.started": "2021-05-20T11:39:29.075227Z"
    }
   },
   "outputs": [],
   "source": [
    "from scipy.stats import t\n",
    "import numpy as np\n",
    "from scipy.stats import norm\n",
    "import matplotlib.pyplot as plt\n",
    "from termcolor import colored\n",
    "import seaborn as sns\n",
    "sns.set()\n"
   ]
  },
  {
   "cell_type": "markdown",
   "metadata": {},
   "source": [
    "## <u> sample data for pista house </u>"
   ]
  },
  {
   "cell_type": "code",
   "execution_count": 63,
   "metadata": {
    "execution": {
     "iopub.execute_input": "2021-05-20T11:39:29.096253Z",
     "iopub.status.busy": "2021-05-20T11:39:29.095645Z",
     "iopub.status.idle": "2021-05-20T11:39:29.107045Z",
     "shell.execute_reply": "2021-05-20T11:39:29.106267Z",
     "shell.execute_reply.started": "2021-05-20T11:39:29.096208Z"
    }
   },
   "outputs": [],
   "source": [
    "l = [490, 220, 470, 500, 495, 496, 496, 498, 508, 480]"
   ]
  },
  {
   "cell_type": "markdown",
   "metadata": {},
   "source": [
    "## Calculating Necessary Sstatistics"
   ]
  },
  {
   "cell_type": "code",
   "execution_count": 64,
   "metadata": {
    "execution": {
     "iopub.execute_input": "2021-05-20T11:39:29.108992Z",
     "iopub.status.busy": "2021-05-20T11:39:29.108644Z",
     "iopub.status.idle": "2021-05-20T11:39:29.119073Z",
     "shell.execute_reply": "2021-05-20T11:39:29.118264Z",
     "shell.execute_reply.started": "2021-05-20T11:39:29.108959Z"
    }
   },
   "outputs": [],
   "source": [
    "sample_size=len(l)\n",
    "sample_mean=np.mean(l)\n",
    "pop_mean=500\n",
    "sd=round(np.std(l,ddof=1),2) ##ddof=1 means calculating for sample standard deviation"
   ]
  },
  {
   "cell_type": "markdown",
   "metadata": {},
   "source": [
    "### Since there are two possible values upper and lower values then population mean.That's why it Will be a <span style=\"color:red\">two tail testing :"
   ]
  },
  {
   "cell_type": "code",
   "execution_count": 65,
   "metadata": {
    "execution": {
     "iopub.execute_input": "2021-05-20T11:39:29.120706Z",
     "iopub.status.busy": "2021-05-20T11:39:29.120310Z",
     "iopub.status.idle": "2021-05-20T11:39:29.131052Z",
     "shell.execute_reply": "2021-05-20T11:39:29.130178Z",
     "shell.execute_reply.started": "2021-05-20T11:39:29.120659Z"
    }
   },
   "outputs": [],
   "source": [
    "\n",
    "con_level=0.95 ##Confidence value\n",
    "alpha=1-con_level \n",
    "t_critical=t.ppf(1-(alpha/2),len(l)-1) ##obtaining the t_critical using percent point function\n"
   ]
  },
  {
   "cell_type": "markdown",
   "metadata": {},
   "source": [
    "## <u> Compute the t-score </u>\n"
   ]
  },
  {
   "cell_type": "code",
   "execution_count": 66,
   "metadata": {
    "execution": {
     "iopub.execute_input": "2021-05-20T11:39:29.134075Z",
     "iopub.status.busy": "2021-05-20T11:39:29.133755Z",
     "iopub.status.idle": "2021-05-20T11:39:29.142416Z",
     "shell.execute_reply": "2021-05-20T11:39:29.141578Z",
     "shell.execute_reply.started": "2021-05-20T11:39:29.134039Z"
    }
   },
   "outputs": [],
   "source": [
    "t_sc=float(t_score(sample_mean,pop_mean,sd,np.sqrt(sample_size)))\n"
   ]
  },
  {
   "cell_type": "markdown",
   "metadata": {},
   "source": [
    "### <u>Conclusion using t test\n"
   ]
  },
  {
   "cell_type": "code",
   "execution_count": 67,
   "metadata": {
    "execution": {
     "iopub.execute_input": "2021-05-20T11:39:29.144533Z",
     "iopub.status.busy": "2021-05-20T11:39:29.144113Z",
     "iopub.status.idle": "2021-05-20T11:39:29.155476Z",
     "shell.execute_reply": "2021-05-20T11:39:29.154613Z",
     "shell.execute_reply.started": "2021-05-20T11:39:29.144498Z"
    }
   },
   "outputs": [
    {
     "name": "stdout",
     "output_type": "stream",
     "text": [
      "\u001b[34mFail to reject Null Hypothesis\u001b[0m\n"
     ]
    }
   ],
   "source": [
    "if(np.abs(t_sc) > t_critical):\n",
    "    print(colored(\"Reject Null Hypothesis\",'red '))\n",
    "else:\n",
    "    print(colored(\"Fail to reject Null Hypothesis\",'blue'))"
   ]
  },
  {
   "cell_type": "markdown",
   "metadata": {},
   "source": [
    "# <u>Conclusion using p test\n"
   ]
  },
  {
   "cell_type": "code",
   "execution_count": 68,
   "metadata": {
    "execution": {
     "iopub.execute_input": "2021-05-20T11:39:29.157271Z",
     "iopub.status.busy": "2021-05-20T11:39:29.156774Z",
     "iopub.status.idle": "2021-05-20T11:39:29.169800Z",
     "shell.execute_reply": "2021-05-20T11:39:29.169083Z",
     "shell.execute_reply.started": "2021-05-20T11:39:29.157237Z"
    }
   },
   "outputs": [
    {
     "name": "stdout",
     "output_type": "stream",
     "text": [
      "p_value =  0.2064258410423232\n",
      "Fail to reject Null Hypothesis\n"
     ]
    }
   ],
   "source": [
    "\n",
    "p_value = 2 * (1.0 - norm.cdf(np.abs(t_sc)))\n",
    "\n",
    "print(\"p_value = \", p_value)\n",
    "\n",
    "if(p_value < alpha):\n",
    "    print(\"Reject Null Hypothesis\")\n",
    "else:\n",
    "    print(\"Fail to reject Null Hypothesis\")"
   ]
  },
  {
   "cell_type": "markdown",
   "metadata": {},
   "source": [
    "### Ploting the sampling distribution with rejection regions of sample mean\n"
   ]
  },
  {
   "cell_type": "code",
   "execution_count": 69,
   "metadata": {
    "execution": {
     "iopub.execute_input": "2021-05-20T11:39:29.187908Z",
     "iopub.status.busy": "2021-05-20T11:39:29.187563Z",
     "iopub.status.idle": "2021-05-20T11:39:29.400947Z",
     "shell.execute_reply": "2021-05-20T11:39:29.399969Z",
     "shell.execute_reply.started": "2021-05-20T11:39:29.187877Z"
    }
   },
   "outputs": [
    {
     "data": {
      "text/plain": [
       "Text(465.3, 0.0007, 'x_bar')"
      ]
     },
     "execution_count": 69,
     "metadata": {},
     "output_type": "execute_result"
    },
    {
     "data": {
      "image/png": "[encoded data removed]",
      "text/plain": [
       "<Figure size 432x288 with 1 Axes>"
      ]
     },
     "metadata": {},
     "output_type": "display_data"
    }
   ],
   "source": [
    "\n",
    "# Defining the x minimum and x maximum\n",
    "x_min = 400\n",
    "x_max = 600\n",
    "\n",
    "\n",
    "# Defining the sampling distribution mean and sampling distribution std\n",
    "mean = pop_mean\n",
    "std = sd / sample_size**0.5\n",
    "\n",
    "\n",
    "# Ploting the graph and setting the x limits\n",
    "x = np.linspace(x_min, x_max, 100)\n",
    "y = norm.pdf(x, mean, std)\n",
    "plt.xlim(x_min, x_max)\n",
    "plt.plot(x, y)\n",
    "\n",
    "\n",
    "# Computing the left and right critical values (Two tailed Test)\n",
    "t_critical_left = pop_mean + (-t_critical * std)\n",
    "t_critical_right = pop_mean + (t_critical * std)\n",
    "\n",
    "\n",
    "# Shading the left rejection region\n",
    "x1 = np.linspace(x_min, t_critical_left, 100)\n",
    "y1 = norm.pdf(x1, mean, std)\n",
    "plt.fill_between(x1, y1, color='red')\n",
    "\n",
    "\n",
    "# Shading the right rejection region\n",
    "x2 = np.linspace(t_critical_right, x_max, 100)\n",
    "y2 = norm.pdf(x2, mean, std)\n",
    "plt.fill_between(x2, y2, color='red')\n",
    "\n",
    "\n",
    "# Ploting the sample mean and concluding the results \n",
    "plt.scatter(sample_mean, 0)\n",
    "plt.annotate(\"x_bar\", (sample_mean, 0.0007))\n"
   ]
  },
  {
   "cell_type": "markdown",
   "metadata": {},
   "source": [
    "### Q-2: You have developed a new Natural Language Processing Algorithms and done a user study. You claim that the average rating given by the users is greater than 4 on a scale of 1 to 5. How do you prove this to your client?"
   ]
  },
  {
   "cell_type": "markdown",
   "metadata": {},
   "source": [
    "## <u>Hypothesis\n",
    "$ H_0 =\\ Null\\ Hypothesis \\ \\ H_1=\\ Alternate\\ Hypothesis $\n",
    "$ H_0 = No\\ the\\ Rating\\ is\\ less\\ equal\\ to\\ 4. $\n",
    "$ H_1 = The\\ Rating\\ is\\ Greater\\ than\\ 4 $"
   ]
  },
  {
   "cell_type": "markdown",
   "metadata": {},
   "source": [
    "### <span style='color:red'><sup>**</sup> </span> Since there are one possible values greater than 4 population mean(>4).That's why it Will be a <span style=\"color:#ff1692\">One tail testing : Right tail test"
   ]
  },
  {
   "cell_type": "code",
   "execution_count": 70,
   "metadata": {
    "execution": {
     "iopub.execute_input": "2021-05-20T11:39:29.402880Z",
     "iopub.status.busy": "2021-05-20T11:39:29.402519Z",
     "iopub.status.idle": "2021-05-20T11:39:29.408586Z",
     "shell.execute_reply": "2021-05-20T11:39:29.407578Z",
     "shell.execute_reply.started": "2021-05-20T11:39:29.402842Z"
    }
   },
   "outputs": [],
   "source": [
    "nlp=[4, 3, 5, 4, 5, 3, 5, 5, 4, 2, 4, 5, 5, 4, 4, 5, 4, 5, 4, 5]"
   ]
  },
  {
   "cell_type": "markdown",
   "metadata": {},
   "source": [
    "## <u> Calculate Neccessary Statistics about sample data"
   ]
  },
  {
   "cell_type": "code",
   "execution_count": 71,
   "metadata": {
    "execution": {
     "iopub.execute_input": "2021-05-20T11:39:29.410923Z",
     "iopub.status.busy": "2021-05-20T11:39:29.410499Z",
     "iopub.status.idle": "2021-05-20T11:39:29.423927Z",
     "shell.execute_reply": "2021-05-20T11:39:29.422599Z",
     "shell.execute_reply.started": "2021-05-20T11:39:29.410853Z"
    }
   },
   "outputs": [
    {
     "data": {
      "text/plain": [
       "20"
      ]
     },
     "execution_count": 71,
     "metadata": {},
     "output_type": "execute_result"
    }
   ],
   "source": [
    "sample_size=len(nlp)\n",
    "sample_mean=np.mean(nlp)\n",
    "pop_mean=4\n",
    "sd=round(np.std(nlp,ddof=1),2) ##ddof=1 means calculating for sample standard deviation\n",
    "sample_size"
   ]
  },
  {
   "cell_type": "markdown",
   "metadata": {},
   "source": [
    "## Initializing the Necessary Variables"
   ]
  },
  {
   "cell_type": "code",
   "execution_count": 72,
   "metadata": {
    "execution": {
     "iopub.execute_input": "2021-05-20T11:39:29.426880Z",
     "iopub.status.busy": "2021-05-20T11:39:29.426586Z",
     "iopub.status.idle": "2021-05-20T11:39:29.435581Z",
     "shell.execute_reply": "2021-05-20T11:39:29.434572Z",
     "shell.execute_reply.started": "2021-05-20T11:39:29.426855Z"
    }
   },
   "outputs": [
    {
     "data": {
      "text/plain": [
       "2.539483190622288"
      ]
     },
     "execution_count": 72,
     "metadata": {},
     "output_type": "execute_result"
    }
   ],
   "source": [
    "con_level=0.99 ##Confidence value\n",
    "alpha=1-con_level \n",
    "t_critical=t.ppf(1-(alpha),sample_size-1) ##obtaining the t_critical using percent point function\n",
    "t_critical"
   ]
  },
  {
   "cell_type": "markdown",
   "metadata": {},
   "source": [
    "## <span style='color:#428912'> Calculating T-score </span>"
   ]
  },
  {
   "cell_type": "code",
   "execution_count": 73,
   "metadata": {
    "execution": {
     "iopub.execute_input": "2021-05-20T11:39:29.437519Z",
     "iopub.status.busy": "2021-05-20T11:39:29.437152Z",
     "iopub.status.idle": "2021-05-20T11:39:29.447376Z",
     "shell.execute_reply": "2021-05-20T11:39:29.446558Z",
     "shell.execute_reply.started": "2021-05-20T11:39:29.437484Z"
    }
   },
   "outputs": [
    {
     "data": {
      "text/plain": [
       "1.3153341044116411"
      ]
     },
     "execution_count": 73,
     "metadata": {},
     "output_type": "execute_result"
    }
   ],
   "source": [
    "t_sc=t_score(sample_mean,pop_mean,sd,np.sqrt(sample_size))\n",
    "t_sc"
   ]
  },
  {
   "cell_type": "markdown",
   "metadata": {},
   "source": [
    "### <u>Conclusion using t test\n"
   ]
  },
  {
   "cell_type": "code",
   "execution_count": 74,
   "metadata": {
    "execution": {
     "iopub.execute_input": "2021-05-20T11:39:29.449737Z",
     "iopub.status.busy": "2021-05-20T11:39:29.449456Z",
     "iopub.status.idle": "2021-05-20T11:39:29.457260Z",
     "shell.execute_reply": "2021-05-20T11:39:29.456087Z",
     "shell.execute_reply.started": "2021-05-20T11:39:29.449714Z"
    }
   },
   "outputs": [
    {
     "name": "stdout",
     "output_type": "stream",
     "text": [
      "\u001b[34mFail to reject Null Hypothesis\u001b[0m\n"
     ]
    }
   ],
   "source": [
    "if(np.abs(t_sc) > t_critical):\n",
    "    print(colored(\"Reject Null Hypothesis\",'red '))\n",
    "else:\n",
    "    print(colored(\"Fail to reject Null Hypothesis\",'blue'))"
   ]
  },
  {
   "cell_type": "markdown",
   "metadata": {},
   "source": [
    "### <u> Conclusion using p-value "
   ]
  },
  {
   "cell_type": "code",
   "execution_count": 75,
   "metadata": {
    "execution": {
     "iopub.execute_input": "2021-05-20T11:39:29.459060Z",
     "iopub.status.busy": "2021-05-20T11:39:29.458596Z",
     "iopub.status.idle": "2021-05-20T11:39:29.468078Z",
     "shell.execute_reply": "2021-05-20T11:39:29.467033Z",
     "shell.execute_reply.started": "2021-05-20T11:39:29.458981Z"
    }
   },
   "outputs": [
    {
     "name": "stdout",
     "output_type": "stream",
     "text": [
      "p_value =  0.09419882054165774\n",
      "Fail to reject Null Hypothesis\n"
     ]
    }
   ],
   "source": [
    "p_value = (1.0 - norm.cdf(np.abs(t_sc)))\n",
    "\n",
    "print(\"p_value = \", p_value)\n",
    "\n",
    "if(p_value < alpha):\n",
    "    print(colored(\"Reject Null Hypothesis\",'blue'))\n",
    "else:\n",
    "    print(\"Fail to reject Null Hypothesis\")"
   ]
  },
  {
   "cell_type": "markdown",
   "metadata": {},
   "source": [
    "### Figure Plotting using matplotlib"
   ]
  },
  {
   "cell_type": "code",
   "execution_count": 76,
   "metadata": {
    "execution": {
     "iopub.execute_input": "2021-05-20T11:39:29.471775Z",
     "iopub.status.busy": "2021-05-20T11:39:29.471455Z",
     "iopub.status.idle": "2021-05-20T11:39:29.664136Z",
     "shell.execute_reply": "2021-05-20T11:39:29.663173Z",
     "shell.execute_reply.started": "2021-05-20T11:39:29.471731Z"
    }
   },
   "outputs": [
    {
     "data": {
      "text/plain": [
       "Text(4.25, 0.0007, 'x_bar')"
      ]
     },
     "execution_count": 76,
     "metadata": {},
     "output_type": "execute_result"
    },
    {
     "data": {
      "image/png": "[encoded data removed]",
      "text/plain": [
       "<Figure size 432x288 with 1 Axes>"
      ]
     },
     "metadata": {},
     "output_type": "display_data"
    }
   ],
   "source": [
    "\n",
    "# Defining the x minimum and x maximum\n",
    "x_min = 3\n",
    "x_max = np.max(nlp)\n",
    "\n",
    "\n",
    "# Defining the sampling distribution mean and sampling distribution std\n",
    "mean = pop_mean\n",
    "std = sd / sample_size**0.5\n",
    "\n",
    "\n",
    "# Ploting the graph and setting the x limits\n",
    "x = np.linspace(x_min, x_max, 100)\n",
    "y = norm.pdf(x, mean, std)\n",
    "plt.xlim(x_min, x_max)\n",
    "plt.plot(x, y)\n",
    "\n",
    "\n",
    "# Computing the left and right critical values (Two tailed Test)\n",
    "t_critical_left = pop_mean + (-t_critical * std)\n",
    "t_critical_right = pop_mean + (t_critical * std)\n",
    "\n",
    "\n",
    "# Shading the left rejection region\n",
    "x1 = np.linspace(x_min, t_critical_left, 100)\n",
    "y1 = norm.pdf(x1, mean, std)\n",
    "plt.fill_between(x1, y1, color='red')\n",
    "\n",
    "\n",
    "# Shading the right rejection region\n",
    "x2 = np.linspace(t_critical_right, x_max, 100)\n",
    "y2 = norm.pdf(x2, mean, std)\n",
    "plt.fill_between(x2, y2, color='red')\n",
    "\n",
    "\n",
    "# Ploting the sample mean and concluding the results \n",
    "plt.scatter(sample_mean, 0)\n",
    "plt.annotate(\"x_bar\", (sample_mean, 0.0007))\n"
   ]
  },
  {
   "cell_type": "markdown",
   "metadata": {},
   "source": [
    "#### As in the above graph we can clearly see that the $ \\bar{x} $ inside the Null hypothesis range. So we are failed to reject the Null hypothesis ;("
   ]
  },
  {
   "cell_type": "markdown",
   "metadata": {},
   "source": [
    "#### Q-3: TATA has developed a better fuel management system for the SUV segment. They claim that with this system, on average the SUV's mileage is at least 15 km/litre?"
   ]
  },
  {
   "cell_type": "markdown",
   "metadata": {},
   "source": [
    "## <u>Hypothesis\n",
    "$ H_0 =\\ Null\\ Hypothesis \\ \\ H_1=\\ Alternate\\ Hypothesis $\n",
    "$ H_0 = No\\ the\\ Rating\\ is\\ less\\ equal\\ to\\ 15. $\n",
    "$ H_1 = The\\ Rating\\ is\\ Greater\\ than\\ 15 $"
   ]
  },
  {
   "cell_type": "markdown",
   "metadata": {},
   "source": [
    "### <span style='color:red'><sup>**</sup> </span> Since there are one possible values greater than Equal 15 population mean(>15).That's why it Will be a <span style=\"color:#123abc\">One tail testing : Right Tail Test"
   ]
  },
  {
   "cell_type": "code",
   "execution_count": 77,
   "metadata": {
    "execution": {
     "iopub.execute_input": "2021-05-20T11:39:29.666345Z",
     "iopub.status.busy": "2021-05-20T11:39:29.665806Z",
     "iopub.status.idle": "2021-05-20T11:39:29.671423Z",
     "shell.execute_reply": "2021-05-20T11:39:29.670501Z",
     "shell.execute_reply.started": "2021-05-20T11:39:29.666310Z"
    }
   },
   "outputs": [],
   "source": [
    "tata=[14.08, 14.13, 15.65, 13.78, 16.26, 14.97, 15.36, 15.81, 14.53, 16.79, 15.78, 16.98, 13.23, 15.43, 15.46, 13.88, 14.31, 14.41, 15.76, 15.38] "
   ]
  },
  {
   "cell_type": "markdown",
   "metadata": {},
   "source": [
    "### <span style='color:#abc123'> Calculating the Necessary Statistics "
   ]
  },
  {
   "cell_type": "code",
   "execution_count": 78,
   "metadata": {
    "execution": {
     "iopub.execute_input": "2021-05-20T11:39:29.673170Z",
     "iopub.status.busy": "2021-05-20T11:39:29.672806Z",
     "iopub.status.idle": "2021-05-20T11:39:29.686036Z",
     "shell.execute_reply": "2021-05-20T11:39:29.685297Z",
     "shell.execute_reply.started": "2021-05-20T11:39:29.673137Z"
    }
   },
   "outputs": [
    {
     "data": {
      "text/plain": [
       "1.03"
      ]
     },
     "execution_count": 78,
     "metadata": {},
     "output_type": "execute_result"
    }
   ],
   "source": [
    "sample_size=len(tata)\n",
    "sample_mean=np.mean(tata)\n",
    "pop_mean=15\n",
    "sd=round(np.std(tata,ddof=1),2) ##ddof=1 means calculating for sample standard deviation\n",
    "sd"
   ]
  },
  {
   "cell_type": "markdown",
   "metadata": {},
   "source": [
    "### Initializing the Necessary Variables"
   ]
  },
  {
   "cell_type": "code",
   "execution_count": 79,
   "metadata": {
    "execution": {
     "iopub.execute_input": "2021-05-20T11:39:29.689190Z",
     "iopub.status.busy": "2021-05-20T11:39:29.688949Z",
     "iopub.status.idle": "2021-05-20T11:39:29.697422Z",
     "shell.execute_reply": "2021-05-20T11:39:29.696446Z",
     "shell.execute_reply.started": "2021-05-20T11:39:29.689167Z"
    }
   },
   "outputs": [
    {
     "data": {
      "text/plain": [
       "2.539483190622288"
      ]
     },
     "execution_count": 79,
     "metadata": {},
     "output_type": "execute_result"
    }
   ],
   "source": [
    "con_level=0.99 ##Confidence value\n",
    "alpha=1-con_level \n",
    "t_critical=t.ppf(1-(alpha),sample_size-1) ##obtaining the t_critical using percent point function\n",
    "t_critical"
   ]
  },
  {
   "cell_type": "markdown",
   "metadata": {},
   "source": [
    "### <h3> Calculating T-test </h3>"
   ]
  },
  {
   "cell_type": "code",
   "execution_count": 80,
   "metadata": {
    "execution": {
     "iopub.execute_input": "2021-05-20T11:39:29.698997Z",
     "iopub.status.busy": "2021-05-20T11:39:29.698630Z",
     "iopub.status.idle": "2021-05-20T11:39:29.710805Z",
     "shell.execute_reply": "2021-05-20T11:39:29.710075Z",
     "shell.execute_reply.started": "2021-05-20T11:39:29.698965Z"
    }
   },
   "outputs": [
    {
     "data": {
      "text/plain": [
       "0.42984607722811574"
      ]
     },
     "execution_count": 80,
     "metadata": {},
     "output_type": "execute_result"
    }
   ],
   "source": [
    "t_sc=t_score(sample_mean,pop_mean,sd,np.sqrt(sample_size))\n",
    "t_sc"
   ]
  },
  {
   "cell_type": "markdown",
   "metadata": {},
   "source": [
    "### <u>Conclusion using t test\n"
   ]
  },
  {
   "cell_type": "code",
   "execution_count": 81,
   "metadata": {
    "execution": {
     "iopub.execute_input": "2021-05-20T11:39:29.712416Z",
     "iopub.status.busy": "2021-05-20T11:39:29.712024Z",
     "iopub.status.idle": "2021-05-20T11:39:29.720907Z",
     "shell.execute_reply": "2021-05-20T11:39:29.719895Z",
     "shell.execute_reply.started": "2021-05-20T11:39:29.712327Z"
    }
   },
   "outputs": [
    {
     "name": "stdout",
     "output_type": "stream",
     "text": [
      "\u001b[34mFail to reject Null Hypothesis\u001b[0m\n"
     ]
    }
   ],
   "source": [
    "if(np.abs(t_sc) > t_critical):\n",
    "    print(colored(\"Reject Null Hypothesis\",'red'))\n",
    "else:\n",
    "    print(colored(\"Fail to reject Null Hypothesis\",'blue'))"
   ]
  },
  {
   "cell_type": "markdown",
   "metadata": {},
   "source": [
    "### <h3> Conclusion using P-value </h3>"
   ]
  },
  {
   "cell_type": "code",
   "execution_count": 82,
   "metadata": {
    "execution": {
     "iopub.execute_input": "2021-05-20T11:39:29.722677Z",
     "iopub.status.busy": "2021-05-20T11:39:29.722335Z",
     "iopub.status.idle": "2021-05-20T11:39:29.732909Z",
     "shell.execute_reply": "2021-05-20T11:39:29.731908Z",
     "shell.execute_reply.started": "2021-05-20T11:39:29.722643Z"
    }
   },
   "outputs": [
    {
     "name": "stdout",
     "output_type": "stream",
     "text": [
      "p_value =  0.33365380625351326\n",
      "Fail to reject Null Hypothesis\n"
     ]
    }
   ],
   "source": [
    "p_value = (1.0 - norm.cdf(np.abs(t_sc)))\n",
    "\n",
    "print(\"p_value = \", p_value)\n",
    "\n",
    "if(p_value < alpha):\n",
    "    print(colored(\"Reject Null Hypothesis\",'blue'))\n",
    "else:\n",
    "    print(\"Fail to reject Null Hypothesis\")"
   ]
  },
  {
   "cell_type": "markdown",
   "metadata": {},
   "source": [
    "### <h3> Graph Plotting </h3>"
   ]
  },
  {
   "cell_type": "code",
   "execution_count": 83,
   "metadata": {
    "execution": {
     "iopub.execute_input": "2021-05-20T11:39:29.734561Z",
     "iopub.status.busy": "2021-05-20T11:39:29.734205Z",
     "iopub.status.idle": "2021-05-20T11:39:29.932007Z",
     "shell.execute_reply": "2021-05-20T11:39:29.931057Z",
     "shell.execute_reply.started": "2021-05-20T11:39:29.734527Z"
    }
   },
   "outputs": [
    {
     "data": {
      "text/plain": [
       "Text(15.099, 0.0007, 'x_bar')"
      ]
     },
     "execution_count": 83,
     "metadata": {},
     "output_type": "execute_result"
    },
    {
     "data": {
      "image/png": "[encoded data removed]",
      "text/plain": [
       "<Figure size 432x288 with 1 Axes>"
      ]
     },
     "metadata": {},
     "output_type": "display_data"
    }
   ],
   "source": [
    "\n",
    "# Defining the x minimum and x maximum\n",
    "x_min = np.min(tata)\n",
    "x_max = np.max(tata)\n",
    "\n",
    "\n",
    "# Defining the sampling distribution mean and sampling distribution std\n",
    "mean = pop_mean\n",
    "std = sd / sample_size**0.5\n",
    "\n",
    "\n",
    "# Ploting the graph and setting the x limits\n",
    "x = np.linspace(x_min, x_max, 100)\n",
    "y = norm.pdf(x, mean, std)\n",
    "plt.xlim(x_min, x_max)\n",
    "plt.plot(x, y)\n",
    "\n",
    "\n",
    "# Computing the left and right critical values (Two tailed Test)\n",
    "t_critical_left = pop_mean + (-t_critical * std)\n",
    "t_critical_right = pop_mean + (t_critical * std)\n",
    "\n",
    "\n",
    "# Shading the left rejection region\n",
    "x1 = np.linspace(x_min, t_critical_left, 100)\n",
    "y1 = norm.pdf(x1, mean, std)\n",
    "plt.fill_between(x1, y1, color='red')\n",
    "\n",
    "\n",
    "# Shading the right rejection region\n",
    "x2 = np.linspace(t_critical_right, x_max, 100)\n",
    "y2 = norm.pdf(x2, mean, std)\n",
    "plt.fill_between(x2, y2, color='red')\n",
    "\n",
    "\n",
    "# Ploting the sample mean and concluding the results \n",
    "plt.scatter(sample_mean, 0)\n",
    "plt.annotate(\"x_bar\", (sample_mean, 0.0007))\n"
   ]
  },
  {
   "cell_type": "markdown",
   "metadata": {},
   "source": [
    "#### Q-4: You have developed a new Machine Learning Application and claim that on average it takes less than 100 ms to predict for any future datapoint. How do you convince your client about this claim?"
   ]
  },
  {
   "cell_type": "markdown",
   "metadata": {},
   "source": [
    "In this problem statement we can see that there are total 100 samples, and their mean value is 97.5. Standard Deviation = 7"
   ]
  },
  {
   "cell_type": "markdown",
   "metadata": {},
   "source": [
    "##### <span style='color:red'><sup>**</sup> </span>As per $ H_0 $ Hypothesis Since there are one possible values greater than Greater than 100.That's why it Will be a <span style=\"color:#123abc\">One tail testing :"
   ]
  },
  {
   "cell_type": "markdown",
   "metadata": {},
   "source": [
    "## <u>Hypothesis\n",
    "$ H_0 =\\ Null\\ Hypothesis \\ \\ H_1=\\ Alternate\\ Hypothesis $\n",
    "$ H_0 = Takes\\ more\\ than\\ equal\\ 100\\ ms\\ $\n",
    "$ H_1 = Less\\ than\\ 100\\ ms\\ time\\ $"
   ]
  },
  {
   "cell_type": "markdown",
   "metadata": {},
   "source": [
    "Metadata of Sample Data"
   ]
  },
  {
   "cell_type": "code",
   "execution_count": 84,
   "metadata": {
    "execution": {
     "iopub.execute_input": "2021-05-20T11:39:29.933795Z",
     "iopub.status.busy": "2021-05-20T11:39:29.933435Z",
     "iopub.status.idle": "2021-05-20T11:39:29.938128Z",
     "shell.execute_reply": "2021-05-20T11:39:29.937190Z",
     "shell.execute_reply.started": "2021-05-20T11:39:29.933758Z"
    }
   },
   "outputs": [],
   "source": [
    "sample_size=100\n",
    "sample_mean=97.5\n",
    "pop_mean=100\n",
    "sd=7"
   ]
  },
  {
   "cell_type": "markdown",
   "metadata": {},
   "source": [
    "### Initializing the Necessary Variables"
   ]
  },
  {
   "cell_type": "code",
   "execution_count": 85,
   "metadata": {
    "execution": {
     "iopub.execute_input": "2021-05-20T11:39:29.939958Z",
     "iopub.status.busy": "2021-05-20T11:39:29.939477Z",
     "iopub.status.idle": "2021-05-20T11:39:29.952871Z",
     "shell.execute_reply": "2021-05-20T11:39:29.952089Z",
     "shell.execute_reply.started": "2021-05-20T11:39:29.939885Z"
    }
   },
   "outputs": [
    {
     "data": {
      "text/plain": [
       "1.2901614420275025"
      ]
     },
     "execution_count": 85,
     "metadata": {},
     "output_type": "execute_result"
    }
   ],
   "source": [
    "con_level=0.90 ##Confidence value\n",
    "alpha=1-con_level \n",
    "t_critical=t.ppf(1-(alpha),sample_size-1) ##obtaining the t_critical using percent point function\n",
    "t_critical"
   ]
  },
  {
   "cell_type": "markdown",
   "metadata": {},
   "source": [
    "## <span style='color:#428912'> Calculating T-score </span>"
   ]
  },
  {
   "cell_type": "code",
   "execution_count": 86,
   "metadata": {
    "execution": {
     "iopub.execute_input": "2021-05-20T11:39:29.955926Z",
     "iopub.status.busy": "2021-05-20T11:39:29.955629Z",
     "iopub.status.idle": "2021-05-20T11:39:29.963162Z",
     "shell.execute_reply": "2021-05-20T11:39:29.962289Z",
     "shell.execute_reply.started": "2021-05-20T11:39:29.955903Z"
    }
   },
   "outputs": [
    {
     "data": {
      "text/plain": [
       "-3.5714285714285716"
      ]
     },
     "execution_count": 86,
     "metadata": {},
     "output_type": "execute_result"
    }
   ],
   "source": [
    "t_sc=t_score(sample_mean,pop_mean,sd,np.sqrt(sample_size))\n",
    "t_sc"
   ]
  },
  {
   "cell_type": "markdown",
   "metadata": {},
   "source": [
    "### <u>Conclusion using t test\n"
   ]
  },
  {
   "cell_type": "code",
   "execution_count": 87,
   "metadata": {
    "execution": {
     "iopub.execute_input": "2021-05-20T11:39:29.965084Z",
     "iopub.status.busy": "2021-05-20T11:39:29.964621Z",
     "iopub.status.idle": "2021-05-20T11:39:29.975506Z",
     "shell.execute_reply": "2021-05-20T11:39:29.974463Z",
     "shell.execute_reply.started": "2021-05-20T11:39:29.965049Z"
    }
   },
   "outputs": [
    {
     "name": "stdout",
     "output_type": "stream",
     "text": [
      "\u001b[31mReject Null Hypothesis\u001b[0m\n"
     ]
    }
   ],
   "source": [
    "if(np.abs(t_sc) > t_critical):\n",
    "    print(colored(\"Reject Null Hypothesis\",'red'))\n",
    "else:\n",
    "    print(colored(\"Fail to reject Null Hypothesis\",'blue'))"
   ]
  },
  {
   "cell_type": "markdown",
   "metadata": {},
   "source": [
    "### <h3> Conclusion using P-value </h3>"
   ]
  },
  {
   "cell_type": "code",
   "execution_count": 88,
   "metadata": {
    "execution": {
     "iopub.execute_input": "2021-05-20T11:39:29.977006Z",
     "iopub.status.busy": "2021-05-20T11:39:29.976490Z",
     "iopub.status.idle": "2021-05-20T11:39:29.988523Z",
     "shell.execute_reply": "2021-05-20T11:39:29.987685Z",
     "shell.execute_reply.started": "2021-05-20T11:39:29.976970Z"
    }
   },
   "outputs": [
    {
     "name": "stdout",
     "output_type": "stream",
     "text": [
      "p_value =  0.00017751969037349546\n",
      "\u001b[34mReject Null Hypothesis\u001b[0m\n"
     ]
    }
   ],
   "source": [
    "p_value = (1.0 - norm.cdf(np.abs(t_sc)))\n",
    "\n",
    "print(\"p_value = \", p_value)\n",
    "\n",
    "if(p_value < alpha):\n",
    "    print(colored(\"Reject Null Hypothesis\",'blue'))\n",
    "else:\n",
    "    print(\"Fail to reject Null Hypothesis\")"
   ]
  },
  {
   "cell_type": "markdown",
   "metadata": {},
   "source": [
    "## <h3 style=\"color:#85fa1b\">Graph  Plotting </h3>"
   ]
  },
  {
   "cell_type": "code",
   "execution_count": 89,
   "metadata": {
    "execution": {
     "iopub.execute_input": "2021-05-20T11:39:29.990254Z",
     "iopub.status.busy": "2021-05-20T11:39:29.989849Z",
     "iopub.status.idle": "2021-05-20T11:39:30.180426Z",
     "shell.execute_reply": "2021-05-20T11:39:30.179450Z",
     "shell.execute_reply.started": "2021-05-20T11:39:29.990220Z"
    }
   },
   "outputs": [
    {
     "data": {
      "text/plain": [
       "Text(97.5, 0.0007, 'x_bar')"
      ]
     },
     "execution_count": 89,
     "metadata": {},
     "output_type": "execute_result"
    },
    {
     "data": {
      "image/png": "[encoded data removed]",
      "text/plain": [
       "<Figure size 432x288 with 1 Axes>"
      ]
     },
     "metadata": {},
     "output_type": "display_data"
    }
   ],
   "source": [
    "\n",
    "# Defining the x minimum and x maximum\n",
    "x_min = 95\n",
    "x_max = 105\n",
    "\n",
    "\n",
    "# Defining the sampling distribution mean and sampling distribution std\n",
    "mean = pop_mean\n",
    "std = sd / sample_size**0.5\n",
    "\n",
    "\n",
    "# Ploting the graph and setting the x limits\n",
    "x = np.linspace(x_min, x_max, 100)\n",
    "y = norm.pdf(x, mean, std)\n",
    "plt.xlim(x_min, x_max)\n",
    "plt.plot(x, y)\n",
    "\n",
    "\n",
    "# Computing the left and right critical values (Two tailed Test)\n",
    "t_critical_left = pop_mean + (-t_critical * std)\n",
    "t_critical_right = pop_mean + (t_critical * std)\n",
    "\n",
    "\n",
    "# Shading the left rejection region\n",
    "x1 = np.linspace(x_min, t_critical_left, 100)\n",
    "y1 = norm.pdf(x1, mean, std)\n",
    "plt.fill_between(x1, y1, color='red')\n",
    "\n",
    "\n",
    "# Shading the right rejection region\n",
    "x2 = np.linspace(t_critical_right, x_max, 100)\n",
    "y2 = norm.pdf(x2, mean, std)\n",
    "plt.fill_between(x2, y2, color='red')\n",
    "\n",
    "\n",
    "# Ploting the sample mean and concluding the results \n",
    "plt.scatter(sample_mean, 0)\n",
    "plt.annotate(\"x_bar\", (sample_mean, 0.0007))\n"
   ]
  },
  {
   "cell_type": "markdown",
   "metadata": {},
   "source": [
    "#### From the above graph we can clearly see that the $ \\bar{x} $ is reside in left side critical point.That's why we have reject the NULL hypothesis."
   ]
  },
  {
   "cell_type": "markdown",
   "metadata": {},
   "source": [
    "## <h2 align=\"center\" style='color:#1919fa'> Thank You </h2>"
   ]
  },
  {
   "cell_type": "code",
   "execution_count": null,
   "metadata": {},
   "outputs": [],
   "source": []
  }
 ],
 "metadata": {
  "kernelspec": {
   "display_name": "Python 3 (ipykernel)",
   "language": "python",
   "name": "python3"
  },
  "language_info": {
   "codemirror_mode": {
    "name": "ipython",
    "version": 3
   },
   "file_extension": ".py",
   "mimetype": "text/x-python",
   "name": "python",
   "nbconvert_exporter": "python",
   "pygments_lexer": "ipython3",
   "version": "3.9.7"
  }
 },
 "nbformat": 4,
 "nbformat_minor": 4
}
