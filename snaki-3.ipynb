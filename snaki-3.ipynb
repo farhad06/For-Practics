{
 "cells": [
  {
   "cell_type": "code",
   "execution_count": null,
   "id": "385ae59b",
   "metadata": {},
   "outputs": [],
   "source": [
    "#Q1.Given two integers, print the smaller value.\n",
    "a=int(input())\n",
    "b=int(input())\n",
    "if(b<=a):\n",
    "    print(b)\n",
    "else:\n",
    "    print(a)"
   ]
  },
  {
   "cell_type": "code",
   "execution_count": null,
   "id": "b07d3c81",
   "metadata": {},
   "outputs": [],
   "source": [
    "#Q2.For the given integer X print 1 if it's positive, -1 if it's negative, or 0 if it's equal to zero.\n",
    "x=int(input())\n",
    "if(x>0):\n",
    "    print(1)\n",
    "elif(x<0):\n",
    "    print(-1)\n",
    "elif(x==0):\n",
    "    print(0)"
   ]
  },
  {
   "cell_type": "code",
   "execution_count": null,
   "id": "34a0011b",
   "metadata": {},
   "outputs": [],
   "source": [
    "#Q3.Given three integers, print the smallest value.\n",
    "a=int(input())\n",
    "b=int(input())\n",
    "c=int(input())\n",
    "if(a<b and a<c):\n",
    "    print(a)\n",
    "elif(b<a and b<c):\n",
    "    print(b)\n",
    "elif(c<a and c<b):\n",
    "    print(c)"
   ]
  },
  {
   "cell_type": "code",
   "execution_count": null,
   "id": "7ace1b87",
   "metadata": {},
   "outputs": [],
   "source": [
    "#Q4.Given three integers, determine how many of them are equal to each other. The program must print one of these numbers: 3 (if all are the same), 2 (if two of them are equal to each other and the third is different) or 0 (if all numbers are different).\n",
    "a=int(input())\n",
    "b=int(input())\n",
    "c=int(input())\n",
    "if(a==b==c):\n",
    "    print('3')\n",
    "elif(a==b or b==c or a==c):\n",
    "    print('2')\n",
    "else:\n",
    "    print('0')"
   ]
  },
  {
   "cell_type": "code",
   "execution_count": null,
   "id": "6828a7cf",
   "metadata": {},
   "outputs": [],
   "source": [
    "#Q5.Given the year number. You need to check if this year is a leap year. If it is, print LEAP, otherwise print COMMON\n",
    "x=int(input())\n",
    "if(x%4==0 and x%100!=0):\n",
    "    print('LEAP')\n",
    "elif(x%400==0):\n",
    "    print('LEAP')\n",
    "else:\n",
    "    print('COMMON')"
   ]
  },
  {
   "cell_type": "code",
   "execution_count": null,
   "id": "2655e410",
   "metadata": {},
   "outputs": [],
   "source": [
    "#Q6.Chess rook moves horizontally or vertically. Given two different cells of the chessboard, determine whether a rook can go from the first cell to the second in one move\n",
    "r1=int(input())\n",
    "c1=int(input())\n",
    "r2=int(input())\n",
    "c2=int(input())\n",
    "if (r1==r2 or c1==c2):\n",
    "    print('YES')\n",
    "else:\n",
    "    print('NO')\n",
    "    "
   ]
  },
  {
   "cell_type": "code",
   "execution_count": null,
   "id": "3ed78f42",
   "metadata": {},
   "outputs": [],
   "source": []
  },
  {
   "cell_type": "code",
   "execution_count": null,
   "id": "d68eb861",
   "metadata": {},
   "outputs": [],
   "source": [
    "#Q7.Bishop move\n",
    "r1=int(input())\n",
    "c1=int(input())\n",
    "r2=int(input())\n",
    "c2=int(input())\n",
    "if(abs(c1-c2)==abs(r1-r2)):\n",
    "    print('YES')\n",
    "else:\n",
    "    print('NO')"
   ]
  },
  {
   "cell_type": "code",
   "execution_count": null,
   "id": "12950376",
   "metadata": {},
   "outputs": [],
   "source": [
    "#Q8.King move\n",
    "r1=int(input())\n",
    "c1=int(input())\n",
    "r2=int(input())\n",
    "c2=int(input())\n",
    "if(r1==r2 or c1==c2 or r1==r2+1 or c1==c2+1 or r1==r2-1 or c1==c2-1):\n",
    "    print('YES')\n",
    "else:\n",
    "    print('NO')"
   ]
  },
  {
   "cell_type": "code",
   "execution_count": null,
   "id": "72843059",
   "metadata": {},
   "outputs": [],
   "source": [
    "#Q8.Queen move\n",
    "r1=int(input())\n",
    "c1=int(input())\n",
    "r2=int(input())\n",
    "c2=int(input())\n",
    "if(r1==r2 or c1==c2 or abs(c1-c2)==abs(r1-r2)):\n",
    "    print('YES')\n",
    "else:\n",
    "    print('NO')"
   ]
  },
  {
   "cell_type": "code",
   "execution_count": null,
   "id": "8a6254e1",
   "metadata": {},
   "outputs": [],
   "source": [
    "#Q10.Chocolate\n",
    "n = int(input())\n",
    "m = int(input())\n",
    "k = int(input())\n",
    "\n",
    "if (k % n == 0 and k / n < m) or (k % m == 0 and k / m < n):\n",
    "    print('YES')\n",
    "else:\n",
    "    print('NO')"
   ]
  },
  {
   "cell_type": "code",
   "execution_count": null,
   "id": "69196c84",
   "metadata": {},
   "outputs": [],
   "source": [
    "#Q11.Same color\n",
    "r1=int(input())\n",
    "c1=int(input())\n",
    "r2=int(input())\n",
    "c2=int(input())\n",
    "if((r1+r2+c1+c2)%2==0):\n",
    "    print('YES')\n",
    "else:\n",
    "    print('NO')"
   ]
  }
 ],
 "metadata": {
  "kernelspec": {
   "display_name": "Python 3 (ipykernel)",
   "language": "python",
   "name": "python3"
  },
  "language_info": {
   "codemirror_mode": {
    "name": "ipython",
    "version": 3
   },
   "file_extension": ".py",
   "mimetype": "text/x-python",
   "name": "python",
   "nbconvert_exporter": "python",
   "pygments_lexer": "ipython3",
   "version": "3.9.7"
  }
 },
 "nbformat": 4,
 "nbformat_minor": 5
}
