{
 "cells": [
  {
   "cell_type": "code",
   "execution_count": null,
   "id": "c91fafcf",
   "metadata": {},
   "outputs": [],
   "source": [
    "#Q1.Given two integers A and B (A ≤ B). Print all numbers from A to B inclusively\n",
    "A=int(input())\n",
    "B=int(input())\n",
    "for i in range(A,B+1):\n",
    "    print(i)"
   ]
  },
  {
   "cell_type": "code",
   "execution_count": null,
   "id": "0acc280b",
   "metadata": {},
   "outputs": [],
   "source": [
    "#Q2.Given two integers A and B. Print all numbers from A to B inclusively, in ascending order, if A < B, or in descending order, if A ≥ B.\n",
    "A=int(input())\n",
    "B=int(input())\n",
    "if(A<B):\n",
    "    for i in range(A,B+1):\n",
    "        print(i)\n",
    "elif(A>=B):\n",
    "    for j in range(A,B-1,-1):\n",
    "        print(j)"
   ]
  },
  {
   "cell_type": "code",
   "execution_count": null,
   "id": "06c03fe6",
   "metadata": {},
   "outputs": [],
   "source": [
    "#Q3.10 numbers are given in the input. Read them and print their sum. Use as few variables as you can.\n",
    "num1=int(input())\n",
    "num2=int(input())\n",
    "num3=int(input())\n",
    "num4=int(input())\n",
    "num5=int(input())\n",
    "num6=int(input())\n",
    "num7=int(input())\n",
    "num8=int(input())\n",
    "num9=int(input())\n",
    "num10=int(input())\n",
    "s=num1+num2+num3+num4+num5+num6+num7+num8+num9+num10\n",
    "print(s)\n"
   ]
  },
  {
   "cell_type": "code",
   "execution_count": null,
   "id": "10ed523a",
   "metadata": {},
   "outputs": [],
   "source": [
    "#Q4.SUM OF N NUMBER\n",
    "n=int(input())\n",
    "sum=0\n",
    "for i in range(n):\n",
    "    sum=sum+int(input())\n",
    "print(sum) "
   ]
  },
  {
   "cell_type": "code",
   "execution_count": null,
   "id": "e1ab7f75",
   "metadata": {},
   "outputs": [],
   "source": [
    "#Q5.SUM OF CUBE\n",
    "n=int(input())\n",
    "sum=0\n",
    "for i in range(1,n+1):\n",
    "    sum+=i*i*i\n",
    "print(sum)"
   ]
  },
  {
   "cell_type": "code",
   "execution_count": null,
   "id": "b91f98a0",
   "metadata": {},
   "outputs": [],
   "source": [
    "#Q6.FACTORIAL\n",
    "n=int(input())\n",
    "fact=1\n",
    "for i in range(1,n+1):\n",
    "    fact=fact*i\n",
    "print(fact)"
   ]
  },
  {
   "cell_type": "code",
   "execution_count": null,
   "id": "65bc467b",
   "metadata": {},
   "outputs": [],
   "source": [
    "#Q7.THE NUMBER OF ZEROS\n",
    "n=int(input())\n",
    "count=0\n",
    "for i in range(n):\n",
    "    if(int(input())==0):\n",
    "        count=count+1\n",
    "print(count) "
   ]
  },
  {
   "cell_type": "code",
   "execution_count": null,
   "id": "4a2f4778",
   "metadata": {},
   "outputs": [],
   "source": [
    "#Q8.ADDING FACTORIAL\n",
    "n=int(input())\n",
    "sum=0\n",
    "def fact(num):\n",
    "    f=1\n",
    "    for j in range(1,num+1):\n",
    "        f=f*j\n",
    "    return f        \n",
    "for i in range(1,n+1):\n",
    "    sum+=fact(i)\n",
    "print(sum)    "
   ]
  },
  {
   "cell_type": "code",
   "execution_count": null,
   "id": "dcb8426f",
   "metadata": {},
   "outputs": [],
   "source": [
    "#Q9.LADDER\n",
    "n=int(input())\n",
    "for i in range(1,n+1):\n",
    "    for j in range(1,i+1):\n",
    "        print(j,end='')\n",
    "    print(\" \")    \n"
   ]
  },
  {
   "cell_type": "code",
   "execution_count": null,
   "id": "2203fbb4",
   "metadata": {},
   "outputs": [],
   "source": [
    "#Q10.LOST CARD\n",
    "n=int(input())\n",
    "sum=n*(n+1)/2\n",
    "for i in range(1,n):\n",
    "    sum=sum-int(input())\n",
    "print(int(sum))\n"
   ]
  }
 ],
 "metadata": {
  "kernelspec": {
   "display_name": "Python 3 (ipykernel)",
   "language": "python",
   "name": "python3"
  },
  "language_info": {
   "codemirror_mode": {
    "name": "ipython",
    "version": 3
   },
   "file_extension": ".py",
   "mimetype": "text/x-python",
   "name": "python",
   "nbconvert_exporter": "python",
   "pygments_lexer": "ipython3",
   "version": "3.9.7"
  }
 },
 "nbformat": 4,
 "nbformat_minor": 5
}
