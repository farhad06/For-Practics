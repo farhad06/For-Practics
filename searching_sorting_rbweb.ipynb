{
 "cells": [
  {
   "cell_type": "code",
   "execution_count": 21,
   "id": "b497a894",
   "metadata": {},
   "outputs": [
    {
     "ename": "KeyboardInterrupt",
     "evalue": "",
     "output_type": "error",
     "traceback": [
      "\u001b[1;31m---------------------------------------------------------------------------\u001b[0m",
      "\u001b[1;31mKeyboardInterrupt\u001b[0m                         Traceback (most recent call last)",
      "\u001b[1;32m~\\AppData\\Local\\Temp/ipykernel_8988/3907105983.py\u001b[0m in \u001b[0;36m<module>\u001b[1;34m\u001b[0m\n\u001b[0;32m     18\u001b[0m \u001b[0msearch\u001b[0m\u001b[1;33m=\u001b[0m\u001b[1;36m8\u001b[0m\u001b[1;33m\u001b[0m\u001b[1;33m\u001b[0m\u001b[0m\n\u001b[0;32m     19\u001b[0m \u001b[0ml\u001b[0m\u001b[1;33m=\u001b[0m\u001b[0mlen\u001b[0m\u001b[1;33m(\u001b[0m\u001b[0marr\u001b[0m\u001b[1;33m)\u001b[0m\u001b[1;33m\u001b[0m\u001b[1;33m\u001b[0m\u001b[0m\n\u001b[1;32m---> 20\u001b[1;33m \u001b[0mbinary_search\u001b[0m\u001b[1;33m(\u001b[0m\u001b[0marr\u001b[0m\u001b[1;33m,\u001b[0m\u001b[0msearch\u001b[0m\u001b[1;33m,\u001b[0m\u001b[0ml\u001b[0m\u001b[1;33m)\u001b[0m\u001b[1;33m\u001b[0m\u001b[1;33m\u001b[0m\u001b[0m\n\u001b[0m",
      "\u001b[1;32m~\\AppData\\Local\\Temp/ipykernel_8988/3907105983.py\u001b[0m in \u001b[0;36mbinary_search\u001b[1;34m(arr, search, n)\u001b[0m\n\u001b[0;32m      6\u001b[0m     \u001b[1;32mwhile\u001b[0m \u001b[0mfirst\u001b[0m\u001b[1;33m<=\u001b[0m\u001b[0mlast\u001b[0m\u001b[1;33m:\u001b[0m\u001b[1;33m\u001b[0m\u001b[1;33m\u001b[0m\u001b[0m\n\u001b[0;32m      7\u001b[0m         \u001b[1;32mif\u001b[0m \u001b[1;33m(\u001b[0m\u001b[0marr\u001b[0m\u001b[1;33m[\u001b[0m\u001b[0mmid\u001b[0m\u001b[1;33m]\u001b[0m\u001b[1;33m<\u001b[0m\u001b[0msearch\u001b[0m\u001b[1;33m)\u001b[0m\u001b[1;33m:\u001b[0m\u001b[1;33m\u001b[0m\u001b[1;33m\u001b[0m\u001b[0m\n\u001b[1;32m----> 8\u001b[1;33m             \u001b[0mfirst\u001b[0m\u001b[1;33m=\u001b[0m\u001b[0mmid\u001b[0m\u001b[1;33m+\u001b[0m\u001b[1;36m1\u001b[0m\u001b[1;33m\u001b[0m\u001b[1;33m\u001b[0m\u001b[0m\n\u001b[0m\u001b[0;32m      9\u001b[0m         \u001b[1;32melif\u001b[0m \u001b[0marr\u001b[0m\u001b[1;33m[\u001b[0m\u001b[0mmid\u001b[0m\u001b[1;33m]\u001b[0m\u001b[1;33m==\u001b[0m\u001b[0msearch\u001b[0m\u001b[1;33m:\u001b[0m\u001b[1;33m\u001b[0m\u001b[1;33m\u001b[0m\u001b[0m\n\u001b[0;32m     10\u001b[0m             \u001b[0mprint\u001b[0m\u001b[1;33m(\u001b[0m\u001b[1;34m\"Found\"\u001b[0m\u001b[1;33m)\u001b[0m\u001b[1;33m\u001b[0m\u001b[1;33m\u001b[0m\u001b[0m\n",
      "\u001b[1;31mKeyboardInterrupt\u001b[0m: "
     ]
    }
   ],
   "source": [
    "#binary search\n",
    "def binary_search(arr,search,n):\n",
    "    first=0\n",
    "    last=n-1\n",
    "    mid=int((first+last)/2)\n",
    "    while first<=last:\n",
    "        if (arr[mid]<search):\n",
    "            first=mid+1\n",
    "        elif arr[mid]==search:\n",
    "            print(\"Found\")\n",
    "            break\n",
    "        else:\n",
    "            last=mid-1\n",
    "            mid=int((first+last)/2)\n",
    "    if first>last:\n",
    "        print(\"Not Found\")\n",
    "arr=[1,2,3,4,5,6]\n",
    "search=8\n",
    "l=len(arr)\n",
    "binary_search(arr,search,l)"
   ]
  },
  {
   "cell_type": "code",
   "execution_count": 5,
   "id": "bfdb267d",
   "metadata": {},
   "outputs": [
    {
     "name": "stdout",
     "output_type": "stream",
     "text": [
      "Found\n"
     ]
    }
   ],
   "source": [
    "#binary search reursive\n",
    "def b_search(arr,low,high,ele):\n",
    "    if low>high :\n",
    "        print(\"Not Found\")\n",
    "        return\n",
    "    mid=int((low+high)/2)\n",
    "    if arr[mid]==ele:\n",
    "        print(\"Found\")\n",
    "    elif arr[mid]>ele:\n",
    "        b_search(arr,low,mid-1,ele)\n",
    "    elif arr[mid]<ele:\n",
    "        b_search(arr,mid+1,high,ele)\n",
    "arr=[1,2,3,4,5,6]\n",
    "search=3\n",
    "l=len(arr)\n",
    "low=0\n",
    "high=l-1\n",
    "b_search(arr,low,high,search)        "
   ]
  },
  {
   "cell_type": "code",
   "execution_count": 11,
   "id": "8e3065b7",
   "metadata": {},
   "outputs": [
    {
     "name": "stdout",
     "output_type": "stream",
     "text": [
      "Found\n"
     ]
    }
   ],
   "source": [
    "#liniar search\n",
    "arr=[1,2,3,4,5,6]\n",
    "search=6\n",
    "flag=False\n",
    "for i in range(len(arr)+1):\n",
    "    if arr[i]==search:\n",
    "        flag=True\n",
    "        break\n",
    "if flag==True:\n",
    "    print(\"Found\")\n",
    "else:\n",
    "    print(\"Not Found\")"
   ]
  },
  {
   "cell_type": "code",
   "execution_count": 16,
   "id": "2f171d7e",
   "metadata": {},
   "outputs": [
    {
     "name": "stdout",
     "output_type": "stream",
     "text": [
      "1 2 3 4 9 12 21 "
     ]
    }
   ],
   "source": [
    "#insertion sort iterative\n",
    "def insertion_sort(a,n):\n",
    "    for i in range(1,n-1):\n",
    "        j=i\n",
    "        while(j>0 and a[j-1]>a[j]):\n",
    "            temp=a[j]\n",
    "            a[j]=a[j-1]\n",
    "            a[j-1]=temp\n",
    "            j=j-1\n",
    "arr=[3,4,1,2,9,12,21] \n",
    "l=len(arr)\n",
    "insertion_sort(arr,l)\n",
    "for i in range(l):\n",
    "    print(arr[i],end=\" \")"
   ]
  },
  {
   "cell_type": "code",
   "execution_count": 18,
   "id": "9eee2edb",
   "metadata": {},
   "outputs": [
    {
     "name": "stdout",
     "output_type": "stream",
     "text": [
      "1 2 3 4 9 21 45 "
     ]
    }
   ],
   "source": [
    "#selection sort\n",
    "def selection_sort(a,n):\n",
    "    for i in range(n):\n",
    "        for j in range(i+1,n):\n",
    "            if a[i]>a[j]:\n",
    "                temp=a[i]\n",
    "                a[i]=a[j]\n",
    "                a[j]=temp\n",
    "arr=[3,4,1,2,9,45,21] \n",
    "l=len(arr)\n",
    "selection_sort(arr,l)\n",
    "for i in range(l):\n",
    "    print(arr[i],end=\" \")                \n",
    "                "
   ]
  },
  {
   "cell_type": "code",
   "execution_count": 24,
   "id": "152dd701",
   "metadata": {},
   "outputs": [
    {
     "name": "stdout",
     "output_type": "stream",
     "text": [
      "1 2 3 4 21 45 120 "
     ]
    }
   ],
   "source": [
    "#bubble sort\n",
    "def bubble_sort(a,n):\n",
    "    for i in range(n):\n",
    "        for j in range(n-i-1):\n",
    "            if a[j]>a[j+1]:\n",
    "                temp=a[j]\n",
    "                a[j]=a[j+1]\n",
    "                a[j+1]=temp\n",
    "arr=[3,4,1,2,120,45,21] \n",
    "l=len(arr)\n",
    "bubble_sort(arr,l)\n",
    "for i in range(l):\n",
    "    print(arr[i],end=\" \")  \n"
   ]
  },
  {
   "cell_type": "code",
   "execution_count": null,
   "id": "35eeeb84",
   "metadata": {},
   "outputs": [],
   "source": []
  },
  {
   "cell_type": "code",
   "execution_count": null,
   "id": "5ae6bfa9",
   "metadata": {},
   "outputs": [],
   "source": []
  }
 ],
 "metadata": {
  "kernelspec": {
   "display_name": "Python 3 (ipykernel)",
   "language": "python",
   "name": "python3"
  },
  "language_info": {
   "codemirror_mode": {
    "name": "ipython",
    "version": 3
   },
   "file_extension": ".py",
   "mimetype": "text/x-python",
   "name": "python",
   "nbconvert_exporter": "python",
   "pygments_lexer": "ipython3",
   "version": "3.9.7"
  }
 },
 "nbformat": 4,
 "nbformat_minor": 5
}
