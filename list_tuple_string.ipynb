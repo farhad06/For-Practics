{
 "cells": [
  {
   "cell_type": "code",
   "execution_count": 6,
   "id": "7e063c65",
   "metadata": {},
   "outputs": [
    {
     "name": "stdout",
     "output_type": "stream",
     "text": [
      "['C', 'C++', 'Java', 'Javascript']\n",
      "C++\n",
      "Javascript\n"
     ]
    }
   ],
   "source": [
    "mlist=[]\n",
    "mlist=[\"C\",\"C++\",\"Java\",\"Javascript\"]\n",
    "print(mlist)\n",
    "print(mlist[1])\n",
    "print(mlist[3])"
   ]
  },
  {
   "cell_type": "code",
   "execution_count": 6,
   "id": "0cf1509e",
   "metadata": {},
   "outputs": [
    {
     "name": "stdout",
     "output_type": "stream",
     "text": [
      "['C', 'C++', 'Java', 'Javascript']\n",
      "C++\n",
      "Javascript\n"
     ]
    }
   ],
   "source": [
    "mlist=[]\n",
    "mlist=[\"C\",\"C++\",\"Java\",\"Javascript\"]\n",
    "print(mlist)\n",
    "print(mlist[1])\n",
    "print(mlist[3])"
   ]
  },
  {
   "cell_type": "code",
   "execution_count": 27,
   "id": "8296ecdb",
   "metadata": {},
   "outputs": [
    {
     "name": "stdout",
     "output_type": "stream",
     "text": [
      "['Farhad', 'Topi', 'Dipu', 'Samaun']\n",
      "Farhad\n",
      "Topi\n",
      "Dipu\n",
      "Samaun\n"
     ]
    }
   ],
   "source": [
    "list2=[\"Farhad\",\"Topi\",\"Dipu\",\"Samaun\"]\n",
    "print(list2)\n",
    "for i in list2:\n",
    "    print(i)"
   ]
  },
  {
   "cell_type": "code",
   "execution_count": 14,
   "id": "f1620b99",
   "metadata": {},
   "outputs": [
    {
     "name": "stdout",
     "output_type": "stream",
     "text": [
      "['Farhad', 'Ahamed', ['Hariharpara', 742166, 9609387671]]\n",
      "['Hariharpara', 742166, 9609387671]\n",
      "9609387671\n",
      "a\n",
      "d\n"
     ]
    }
   ],
   "source": [
    "list3=[\"Farhad\",\"Ahamed\",[\"Hariharpara\",742166,9609387671]]\n",
    "print(list3)\n",
    "print(list3[2])\n",
    "print(list3[2][2])\n",
    "print(list3[1][2])\n",
    "print(list3[0][5])"
   ]
  },
  {
   "cell_type": "code",
   "execution_count": 28,
   "id": "37eb7e80",
   "metadata": {},
   "outputs": [
    {
     "name": "stdout",
     "output_type": "stream",
     "text": [
      "h\n",
      "['r', 'h', 'a']\n",
      "['h', 'a', 'm', 'p', 'o', 'r', 'e']\n",
      "['b', 'e', 'r', 'h', 'a', 'm', 'p', 'o', 'r', 'e']\n",
      "10\n"
     ]
    }
   ],
   "source": [
    "list4=['b','e','r','h','a','m','p','o','r','e']\n",
    "print(list4[-7])\n",
    "print(list4[2:5])\n",
    "print(list4[3:])\n",
    "print(list4[:])\n",
    "print(len(list4))"
   ]
  },
  {
   "cell_type": "code",
   "execution_count": 26,
   "id": "8a36ca27",
   "metadata": {},
   "outputs": [
    {
     "name": "stdout",
     "output_type": "stream",
     "text": [
      "[1, 2, 3, 4, 5, 6, 7]\n"
     ]
    }
   ],
   "source": [
    "num=[1,2,3]\n",
    "num.append(4)\n",
    "num.extend([5,6,7])\n",
    "print(num)"
   ]
  },
  {
   "cell_type": "code",
   "execution_count": 30,
   "id": "1ad12f85",
   "metadata": {},
   "outputs": [
    {
     "name": "stdout",
     "output_type": "stream",
     "text": [
      "['127', '0', '0', '1']\n"
     ]
    }
   ],
   "source": [
    "a=\"127.0.0.1\".split(\".\")\n",
    "print(a)"
   ]
  },
  {
   "cell_type": "code",
   "execution_count": 32,
   "id": "1997cdef",
   "metadata": {},
   "outputs": [
    {
     "name": "stdout",
     "output_type": "stream",
     "text": [
      "redgreenblue\n",
      "------------------------------------\n",
      "red green blue\n",
      "------------------------------------\n",
      "red******green******blue\n"
     ]
    }
   ],
   "source": [
    "a=['red','green','blue']\n",
    "print(''.join(a))\n",
    "print(\"------------------------------------\")\n",
    "print(' '.join(a))\n",
    "print(\"------------------------------------\")\n",
    "print('******'.join(a))"
   ]
  },
  {
   "cell_type": "code",
   "execution_count": 42,
   "id": "85611776",
   "metadata": {},
   "outputs": [
    {
     "name": "stdout",
     "output_type": "stream",
     "text": [
      "66\n",
      "1\n",
      "True\n",
      "False\n",
      "False\n",
      "10\n",
      "5\n"
     ]
    }
   ],
   "source": [
    "num=[1,2,2,2,2,23,3,3,4,5,66,6,11,12,12,3,3,3]\n",
    "print(max(num))\n",
    "print(min(num))\n",
    "print(11 in num)\n",
    "print(123 in num)\n",
    "print(1 not in num)\n",
    "print(num.index(66))\n",
    "print(num.count(3))"
   ]
  },
  {
   "cell_type": "code",
   "execution_count": null,
   "id": "05838e2c",
   "metadata": {},
   "outputs": [],
   "source": []
  }
 ],
 "metadata": {
  "kernelspec": {
   "display_name": "Python 3 (ipykernel)",
   "language": "python",
   "name": "python3"
  },
  "language_info": {
   "codemirror_mode": {
    "name": "ipython",
    "version": 3
   },
   "file_extension": ".py",
   "mimetype": "text/x-python",
   "name": "python",
   "nbconvert_exporter": "python",
   "pygments_lexer": "ipython3",
   "version": "3.9.7"
  }
 },
 "nbformat": 4,
 "nbformat_minor": 5
}
