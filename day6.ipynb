{
 "cells": [
  {
   "cell_type": "code",
   "execution_count": 4,
   "id": "ad69411c",
   "metadata": {},
   "outputs": [
    {
     "name": "stdout",
     "output_type": "stream",
     "text": [
      "[6, 8]\n",
      "[10, 12]\n"
     ]
    }
   ],
   "source": [
    "#matrix addition\n",
    "a=[[1,2],[3,4]]\n",
    "b=[[5,6],[7,8]]\n",
    "result=[[0,0],[0,0]]\n",
    "for i in range(len(a)):\n",
    "    for j in range(len(a[0])):\n",
    "        result[i][j]=a[i][j]+b[i][j]\n",
    "for res in result:\n",
    "    print(res)"
   ]
  },
  {
   "cell_type": "code",
   "execution_count": 8,
   "id": "a64a0753",
   "metadata": {},
   "outputs": [
    {
     "name": "stdout",
     "output_type": "stream",
     "text": [
      "[6, -13]\n",
      "[6, 5]\n"
     ]
    }
   ],
   "source": [
    "#matrix substraction\n",
    "a=[[11,12],[13,14]]\n",
    "b=[[5,25],[7,9]]\n",
    "result=[[0,0],[0,0]]\n",
    "for i in range(len(a)):\n",
    "    for j in range(len(a[0])):\n",
    "        result[i][j]=a[i][j]-b[i][j]\n",
    "for res in result:\n",
    "    print(res)"
   ]
  },
  {
   "cell_type": "code",
   "execution_count": 2,
   "id": "0a632af8",
   "metadata": {},
   "outputs": [
    {
     "name": "stdout",
     "output_type": "stream",
     "text": [
      "[15, 17]\n",
      "[19, 21]\n"
     ]
    }
   ],
   "source": [
    "#matrix multipication\n",
    "a=[[1,2],[3,4]]\n",
    "b=[[5,6],[7,8]]\n",
    "result=[[0,0],[0,0]]\n",
    "for i in range(len(a)):\n",
    "    for j in range(len(a[0])):\n",
    "        for k in range(len(a)):\n",
    "            \n",
    "            result[i][j]+=a[i][k]+b[k][j]\n",
    "for res in result:\n",
    "    print(res)"
   ]
  },
  {
   "cell_type": "code",
   "execution_count": 1,
   "id": "348594f9",
   "metadata": {},
   "outputs": [
    {
     "name": "stdout",
     "output_type": "stream",
     "text": [
      "Ipsum as their default model text, and a search for 'lorem ipsum' will uncover many web sites still\n",
      "\n",
      "point of using Lorem Ipsum is that it has a more-or-less normal distribution of letters, as opposed\n",
      "\n",
      "It is a long established fact that a reader will be distract\n"
     ]
    }
   ],
   "source": [
    "#3.\n",
    "f=open(\"D:/Personal/file_python/name.txt\",\"r\")\n",
    "for line in f:\n",
    "    print(line)"
   ]
  },
  {
   "cell_type": "code",
   "execution_count": 4,
   "id": "fb15ec93",
   "metadata": {},
   "outputs": [
    {
     "name": "stdout",
     "output_type": "stream",
     "text": [
      "Enter your password:12365\n",
      "Your password not present in the list\n"
     ]
    }
   ],
   "source": [
    "#4.\n",
    "password=['fa1234','432156','far@123','123456','134568','1234','farhad','ahamed1234']\n",
    "psw=input(\"Enter your password:\")\n",
    "if psw in password:\n",
    "    print(\"Your password present in the list\")\n",
    "else:\n",
    "    print(\"Your password not present in the list\")"
   ]
  },
  {
   "cell_type": "code",
   "execution_count": null,
   "id": "3621eba0",
   "metadata": {},
   "outputs": [],
   "source": []
  },
  {
   "cell_type": "code",
   "execution_count": null,
   "id": "9382ab6e",
   "metadata": {},
   "outputs": [],
   "source": []
  }
 ],
 "metadata": {
  "kernelspec": {
   "display_name": "Python 3 (ipykernel)",
   "language": "python",
   "name": "python3"
  },
  "language_info": {
   "codemirror_mode": {
    "name": "ipython",
    "version": 3
   },
   "file_extension": ".py",
   "mimetype": "text/x-python",
   "name": "python",
   "nbconvert_exporter": "python",
   "pygments_lexer": "ipython3",
   "version": "3.9.7"
  }
 },
 "nbformat": 4,
 "nbformat_minor": 5
}
