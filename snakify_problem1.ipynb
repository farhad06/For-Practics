{
 "cells": [
  {
   "cell_type": "code",
   "execution_count": null,
   "id": "509e92c9",
   "metadata": {},
   "outputs": [],
   "source": [
    "#Q1.Sum of three number\n",
    "m= int(input())\n",
    "n = int(input())\n",
    "p=int(input())\n",
    "print(m+n+p)\n"
   ]
  },
  {
   "cell_type": "code",
   "execution_count": null,
   "id": "012dbaf8",
   "metadata": {},
   "outputs": [],
   "source": [
    "#Q2.Write a program that greets the person by printing the word \"Hi\" and the name of the person\n",
    "name=input()\n",
    "print(\"Hi \",name)"
   ]
  },
  {
   "cell_type": "code",
   "execution_count": null,
   "id": "9f7376bf",
   "metadata": {},
   "outputs": [],
   "source": [
    "#Q3.Write a program that takes a number and print its square.\n",
    "number=int(input())\n",
    "sq=number ** 2\n",
    "print(sq)"
   ]
  },
  {
   "cell_type": "code",
   "execution_count": null,
   "id": "338ecfa6",
   "metadata": {},
   "outputs": [],
   "source": [
    "#Q4.Write a program that reads the length of the base and the height of a right-angled triangle and prints the area. Every number is given on a separate line\n",
    "a=int(input())\n",
    "b=int(input())\n",
    "area=a*b/2\n",
    "print(area)"
   ]
  },
  {
   "cell_type": "code",
   "execution_count": null,
   "id": "f0248456",
   "metadata": {},
   "outputs": [],
   "source": [
    "#Q5.Write a program that greets the user by printing the word \"Hello\", a comma, the name of the user and an exclamation mark after it\n",
    "name = input()\n",
    "print('Hello, '+name+'!')"
   ]
  },
  {
   "cell_type": "code",
   "execution_count": null,
   "id": "dc34c61c",
   "metadata": {},
   "outputs": [],
   "source": [
    "#Q6.N students take K apples and distribute them among each other evenly. The remaining (the undivisible) part remains in the basket. How many apples will each single student get? How many apples will remain in the basket?\n",
    "n = int(input())\n",
    "k = int(input())\n",
    "print(k // n)\n",
    "print(k % n)"
   ]
  },
  {
   "cell_type": "code",
   "execution_count": null,
   "id": "7c29097f",
   "metadata": {},
   "outputs": [],
   "source": [
    "#Q7.Write a program that reads an integer number and prints its previous and next numbers.\n",
    "num=int(input())\n",
    "next_num=num+1\n",
    "pre_num=num-1\n",
    "print('The next number for the number '+str(num)+' is '+str(next_num)+'.')\n",
    "print('The previous number for the number '+str(num)+' is '+str(pre_num)+'.')"
   ]
  },
  {
   "cell_type": "code",
   "execution_count": null,
   "id": "a41370bd",
   "metadata": {},
   "outputs": [],
   "source": [
    "#Q8.A timestamp is three numbers: a number of hours, minutes and seconds. Given two timestamps, calculate how many seconds is between them\n",
    "timespan1_hour=int(input())\n",
    "timespan1_min=int(input())\n",
    "timespan1_sec=int(input())\n",
    "timespan2_hour=int(input())\n",
    "timespan2_min=int(input())\n",
    "timespan2_sec=int(input())\n",
    "timespan1_total_sec=timespan1_hour*3600+timespan1_min*60+timespan1_sec\n",
    "timespan2_total_sec=timespan2_hour*3600+timespan2_min*60+timespan2_sec\n",
    "total_sec=timespan2_total_sec-timespan1_total_sec\n",
    "print(total_sec)\n"
   ]
  },
  {
   "cell_type": "code",
   "execution_count": null,
   "id": "805ad464",
   "metadata": {},
   "outputs": [],
   "source": [
    "#Q9.A school decided to replace the desks in three classrooms. Each desk sits two students. Given the number of students in each class, print the smallest possible number of desks that can be purchased.\n",
    "class1=int(input())\n",
    "class2=int(input())\n",
    "class3=int(input())\n",
    "no_of_desk=(class1//2+class2//2+class3//2+class1%2+class2%2+class3%2)\n",
    "print(no_of_desk)"
   ]
  }
 ],
 "metadata": {
  "kernelspec": {
   "display_name": "Python 3 (ipykernel)",
   "language": "python",
   "name": "python3"
  },
  "language_info": {
   "codemirror_mode": {
    "name": "ipython",
    "version": 3
   },
   "file_extension": ".py",
   "mimetype": "text/x-python",
   "name": "python",
   "nbconvert_exporter": "python",
   "pygments_lexer": "ipython3",
   "version": "3.9.7"
  }
 },
 "nbformat": 4,
 "nbformat_minor": 5
}
