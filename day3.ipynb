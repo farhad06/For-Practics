{
 "cells": [
  {
   "cell_type": "code",
   "execution_count": 22,
   "id": "55d9ff9a",
   "metadata": {},
   "outputs": [
    {
     "name": "stdout",
     "output_type": "stream",
     "text": [
      "Enter 1st number 10\n",
      "Enter 2nd number 12\n",
      "Enter 3rd number 13\n",
      "Enter 4th number 18\n",
      "Bighest number among them is:  18\n"
     ]
    }
   ],
   "source": [
    "#Q1.\n",
    "a=int(input(\"Enter 1st number \"))\n",
    "b=int(input(\"Enter 2nd number \"))\n",
    "c=int(input(\"Enter 3rd number \"))\n",
    "d=int(input(\"Enter 4th number \"))\n",
    "if(a>b and a>c and a>d):\n",
    "    big=a\n",
    "elif(b>a and b>c and b>d):\n",
    "    big=b\n",
    "elif(c>b and c>a and c>d):\n",
    "    big=c\n",
    "elif(d>b and d>a and d>c):\n",
    "    big=d\n",
    "print(\"Bighest number among them is: \",big)    \n",
    "    \n"
   ]
  },
  {
   "cell_type": "code",
   "execution_count": 10,
   "id": "0433f55e",
   "metadata": {},
   "outputs": [
    {
     "name": "stdout",
     "output_type": "stream",
     "text": [
      "Enter Sub1 marks 89\n",
      "Enter Sub2 marks 32\n",
      "Enter Sub3 marks 56\n",
      "Fail\n"
     ]
    }
   ],
   "source": [
    "#Q2.\n",
    "sub1=int(input(\"Enter Sub1 marks \"))\n",
    "sub2=int(input(\"Enter Sub2 marks \"))\n",
    "sub3=int(input(\"Enter Sub3 marks \"))\n",
    "total=sub1+sub2+sub3\n",
    "parsent=(total/300)*100\n",
    "#print(total)\n",
    "if(parsent>=40 and sub1>=33 and sub2>=33 and sub3>=33):\n",
    "    print(\"Pass\")\n",
    "else:\n",
    "    print(\"Fail\")"
   ]
  },
  {
   "cell_type": "code",
   "execution_count": 13,
   "id": "4cac7b09",
   "metadata": {},
   "outputs": [
    {
     "name": "stdout",
     "output_type": "stream",
     "text": [
      "Enter msg: farhad\n",
      "This is not a spams\n"
     ]
    }
   ],
   "source": [
    "#Q3.\n",
    "msg=input(\"Enter msg: \")\n",
    "if(msg==\"make a lot of money\" or msg==\"buy now\" or msg==\"subscribe this\" or msg==\"click this\"):\n",
    "    print(\"This is a spams\")\n",
    "else:\n",
    "    print(\"This is not a spams\")"
   ]
  },
  {
   "cell_type": "code",
   "execution_count": null,
   "id": "c70971d3",
   "metadata": {},
   "outputs": [],
   "source": [
    "#Q4.\n",
    "password=input(\"Enter your password \")\n",
    "original_psw='1245@test'\n",
    "if(password==original_psw):\n",
    "    print(\"Password is correct\")\n",
    "else:\n",
    "    print(\"Invalid Password!!Try again\")"
   ]
  },
  {
   "cell_type": "code",
   "execution_count": 9,
   "id": "08cf4ceb",
   "metadata": {},
   "outputs": [
    {
     "name": "stdout",
     "output_type": "stream",
     "text": [
      "Enter your name farhad ahamed\n",
      "Valid user name\n"
     ]
    }
   ],
   "source": [
    "#Q5.\n",
    "name=input(\"Enter your name \")\n",
    "l=len(name)\n",
    "if(l>=10):\n",
    "    print(\"Valid user name\")\n",
    "else:\n",
    "    print(\"Invalid user name\")"
   ]
  },
  {
   "cell_type": "code",
   "execution_count": 16,
   "id": "c9a0e6a9",
   "metadata": {},
   "outputs": [
    {
     "name": "stdout",
     "output_type": "stream",
     "text": [
      "Enter student marks: 65\n",
      "C\n"
     ]
    }
   ],
   "source": [
    "#Q6.\n",
    "marks=int(input(\"Enter student marks: \"))\n",
    "if(marks>=90 and marks<=100):\n",
    "    print(\"A+\")\n",
    "elif(marks>=80 and marks<=90):\n",
    "    print(\"A\")\n",
    "elif(marks>=70 and marks<=80):\n",
    "    print(\"B\")\n",
    "elif(marks>=60 and marks<=70):\n",
    "    print(\"C\")\n",
    "elif(marks>=50 and marks<=60):\n",
    "    print(\"D\")\n",
    "elif(marks<50):\n",
    "    print(\"F\")    "
   ]
  },
  {
   "cell_type": "code",
   "execution_count": null,
   "id": "ed5819e9",
   "metadata": {},
   "outputs": [],
   "source": []
  },
  {
   "cell_type": "code",
   "execution_count": null,
   "id": "1848120b",
   "metadata": {},
   "outputs": [],
   "source": []
  }
 ],
 "metadata": {
  "kernelspec": {
   "display_name": "Python 3 (ipykernel)",
   "language": "python",
   "name": "python3"
  },
  "language_info": {
   "codemirror_mode": {
    "name": "ipython",
    "version": 3
   },
   "file_extension": ".py",
   "mimetype": "text/x-python",
   "name": "python",
   "nbconvert_exporter": "python",
   "pygments_lexer": "ipython3",
   "version": "3.9.7"
  }
 },
 "nbformat": 4,
 "nbformat_minor": 5
}
