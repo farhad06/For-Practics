{
 "cells": [
  {
   "cell_type": "code",
   "execution_count": null,
   "id": "3bb54076",
   "metadata": {},
   "outputs": [],
   "source": [
    "#Q1.THE LENGTH OF SEGMENT\n",
    "import math\n",
    "def distance(x1,y1,x2,y2):\n",
    "    d=math.sqrt((x2-x1)**2+(y2-y1)**2)\n",
    "    return d\n",
    "p1=float(input())\n",
    "p2=float(input())\n",
    "p3=float(input())\n",
    "p4=float(input())\n",
    "print(distance(p1,p2,p3,p4))"
   ]
  },
  {
   "cell_type": "code",
   "execution_count": null,
   "id": "991ffc04",
   "metadata": {},
   "outputs": [],
   "source": [
    "#Q2.NEGETIVE SEGMENT\n",
    "a=float(input())\n",
    "n=int(input())\n",
    "def power(a,b):\n",
    "    k=a**b\n",
    "    return k\n",
    "    \n",
    "po=power(a,n)\n",
    "print(po)"
   ]
  },
  {
   "cell_type": "code",
   "execution_count": null,
   "id": "a26031fb",
   "metadata": {},
   "outputs": [],
   "source": [
    "#Q3.UPPERCASE"
   ]
  },
  {
   "cell_type": "code",
   "execution_count": null,
   "id": "f2096a94",
   "metadata": {},
   "outputs": [],
   "source": [
    "#Q4.Exponentiation\n",
    "def power(a,n):\n",
    "    if(n==0):\n",
    "        return 1\n",
    "    else:\n",
    "        return(a*power(a,n-1))\n",
    "a=float(input())\n",
    "n=int(input())    \n",
    "print(power(a,n))"
   ]
  },
  {
   "cell_type": "code",
   "execution_count": null,
   "id": "8cc1d7e2",
   "metadata": {},
   "outputs": [],
   "source": [
    "#Q5.REVERSE THE SEUENCE\n",
    "def reverse():\n",
    "    n=int(input())\n",
    "    if(n!=0):\n",
    "        reverse()\n",
    "    print(n)\n",
    "reverse()"
   ]
  },
  {
   "cell_type": "code",
   "execution_count": null,
   "id": "96ee9256",
   "metadata": {},
   "outputs": [],
   "source": [
    "#Q6.FIBONACCI SERIES\n",
    "def fibo(n):\n",
    "    if n==1:\n",
    "        return 1\n",
    "    elif n==2:\n",
    "        return 1\n",
    "    else:\n",
    "        return(fibo(n-1)+fibo(n-2))\n",
    "n=int(input())  \n",
    "print(fibo(n))"
   ]
  }
 ],
 "metadata": {
  "kernelspec": {
   "display_name": "Python 3 (ipykernel)",
   "language": "python",
   "name": "python3"
  },
  "language_info": {
   "codemirror_mode": {
    "name": "ipython",
    "version": 3
   },
   "file_extension": ".py",
   "mimetype": "text/x-python",
   "name": "python",
   "nbconvert_exporter": "python",
   "pygments_lexer": "ipython3",
   "version": "3.9.7"
  }
 },
 "nbformat": 4,
 "nbformat_minor": 5
}
