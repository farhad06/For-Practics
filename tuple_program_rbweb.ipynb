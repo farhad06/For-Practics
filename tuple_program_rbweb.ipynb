{
 "cells": [
  {
   "cell_type": "code",
   "execution_count": 1,
   "id": "c1e775dc",
   "metadata": {},
   "outputs": [
    {
     "name": "stdout",
     "output_type": "stream",
     "text": [
      "Size of the tuple is:  80 bytes\n"
     ]
    }
   ],
   "source": [
    "#size of tuple\n",
    "import sys\n",
    "t=('farhad','manoj','kolkata',1,2)\n",
    "print(\"Size of the tuple is: \",sys.getsizeof(t),\"bytes\")"
   ]
  },
  {
   "cell_type": "code",
   "execution_count": 3,
   "id": "b091e177",
   "metadata": {},
   "outputs": [
    {
     "name": "stdout",
     "output_type": "stream",
     "text": [
      "Minimum no is:  10\n",
      "Maimum no is:  456\n"
     ]
    }
   ],
   "source": [
    "#min and max of a tuple\n",
    "t=(10,20,52,45,125,456,321,145)\n",
    "print(\"Minimum no is: \",min(t))\n",
    "print(\"Maimum no is: \",max(t))"
   ]
  },
  {
   "cell_type": "code",
   "execution_count": 8,
   "id": "5557c271",
   "metadata": {},
   "outputs": [
    {
     "name": "stdout",
     "output_type": "stream",
     "text": [
      "New added list is:  [1, 2, 3, 4, 5, 6, 10, 12, 13]\n",
      "-----------------------------------------------------------------------------\n",
      "New added tuple is:  (52, 12, 36, 10, 25, 9, 6, 45)\n"
     ]
    }
   ],
   "source": [
    "#adding tuple and vice versa\n",
    "l1=[1,2,3,4,5,6]\n",
    "t1=(10,12,13)\n",
    "#add_tuple_in_to_list=str(l1)+str(t1)\n",
    "l1+=t1\n",
    "print(\"New added list is: \",str(l1))\n",
    "print(\"-----------------------------------------------------------------------------\")\n",
    "l2=[10,25,9,6,45]\n",
    "t2=(52,12,36)\n",
    "new_tuple=tuple(list(t2)+l2)\n",
    "print(\"New added tuple is: \",str(new_tuple))\n"
   ]
  },
  {
   "cell_type": "code",
   "execution_count": null,
   "id": "25ad106d",
   "metadata": {},
   "outputs": [],
   "source": [
    "#closest pair to k-th element in to a list\n"
   ]
  },
  {
   "cell_type": "code",
   "execution_count": 9,
   "id": "cc545800",
   "metadata": {},
   "outputs": [
    {
     "name": "stdout",
     "output_type": "stream",
     "text": [
      "New Join Tuple is:  (1, 2, 3, 4, 5, 6, 7, 8, 9)\n"
     ]
    }
   ],
   "source": [
    "#join two tuple\n",
    "tup1=(1,2,3,4,5)\n",
    "tup2=(6,7,8,9)\n",
    "tup3=tup1+tup2\n",
    "print(\"New Join Tuple is: \",tup3)"
   ]
  },
  {
   "cell_type": "code",
   "execution_count": null,
   "id": "fa6f2c9b",
   "metadata": {},
   "outputs": [],
   "source": []
  }
 ],
 "metadata": {
  "kernelspec": {
   "display_name": "Python 3 (ipykernel)",
   "language": "python",
   "name": "python3"
  },
  "language_info": {
   "codemirror_mode": {
    "name": "ipython",
    "version": 3
   },
   "file_extension": ".py",
   "mimetype": "text/x-python",
   "name": "python",
   "nbconvert_exporter": "python",
   "pygments_lexer": "ipython3",
   "version": "3.9.7"
  }
 },
 "nbformat": 4,
 "nbformat_minor": 5
}
