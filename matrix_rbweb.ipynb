{
 "cells": [
  {
   "cell_type": "code",
   "execution_count": 2,
   "id": "66617f03",
   "metadata": {},
   "outputs": [
    {
     "name": "stdout",
     "output_type": "stream",
     "text": [
      "[8, 10, 12]\n",
      "[9, 9, 9]\n"
     ]
    }
   ],
   "source": [
    "#add two matrix\n",
    "a=[[1,2,3],[4,5,6]]\n",
    "b=[[7,8,9],[5,4,3]]\n",
    "c=[[0,0,0],[0,0,0]]\n",
    "for i in range(len(a)):\n",
    "    for j in range(len(a[0])):\n",
    "        c[i][j]=a[i][j]+b[i][j]\n",
    "for sum in c:\n",
    "    print(sum)\n",
    "        \n",
    "        "
   ]
  },
  {
   "cell_type": "code",
   "execution_count": 3,
   "id": "7f4f5842",
   "metadata": {},
   "outputs": [
    {
     "name": "stdout",
     "output_type": "stream",
     "text": [
      "[-6, -6, -6]\n",
      "[-1, 1, 3]\n"
     ]
    }
   ],
   "source": [
    "#substract two matrix\n",
    "a=[[1,2,3],[4,5,6]]\n",
    "b=[[7,8,9],[5,4,3]]\n",
    "c=[[0,0,0],[0,0,0]]\n",
    "for i in range(len(a)):\n",
    "    for j in range(len(a[0])):\n",
    "        c[i][j]=a[i][j]-b[i][j]\n",
    "for sum in c:\n",
    "    print(sum)"
   ]
  },
  {
   "cell_type": "code",
   "execution_count": 5,
   "id": "5cb3a97f",
   "metadata": {},
   "outputs": [
    {
     "name": "stdout",
     "output_type": "stream",
     "text": [
      "[15, 15, 15]\n",
      "[21, 21, 21]\n"
     ]
    }
   ],
   "source": [
    "#multipication two matrix\n",
    "a=[[1,2,3],[4,5,6]]\n",
    "b=[[7,8,9],[5,4,3]]\n",
    "c=[[0,0,0],[0,0,0]]\n",
    "for i in range(len(a)):\n",
    "    for j in range(len(a[0])):\n",
    "        for k in range(len(b)):\n",
    "            c[i][j]+=a[i][k]+b[k][j]\n",
    "for sum in c:\n",
    "    print(sum)"
   ]
  },
  {
   "cell_type": "code",
   "execution_count": 13,
   "id": "cd85b7a2",
   "metadata": {},
   "outputs": [
    {
     "name": "stdout",
     "output_type": "stream",
     "text": [
      "[1, 4, 7]\n",
      "[2, 5, 9]\n"
     ]
    }
   ],
   "source": [
    "#transpose of a matrix\n",
    "a=[[1,2],[4,5],[7,9]]\n",
    "c=[[0,0,0],[0,0,0]]\n",
    "for i in range(len(a)):\n",
    "    for j in range(len(a[0])):\n",
    "        c[j][i]=a[i][j]\n",
    "for tran in c:\n",
    "    print(tran)\n"
   ]
  },
  {
   "cell_type": "code",
   "execution_count": 17,
   "id": "fb1e79eb",
   "metadata": {},
   "outputs": [
    {
     "name": "stdout",
     "output_type": "stream",
     "text": [
      "Kth column of this matrix is:  [1, 4, 11]\n"
     ]
    }
   ],
   "source": [
    "#kth cloumn\n",
    "matrix=[[1,2,3],[4,5,6],[11,12,13]]\n",
    "kth_col=2\n",
    "result=[col[kth_col] for col in matrix]\n",
    "print(\"Kth column of this matrix is: \",result)\n",
    "    "
   ]
  },
  {
   "cell_type": "code",
   "execution_count": null,
   "id": "5e7b7ea1",
   "metadata": {},
   "outputs": [],
   "source": [
    "#vertical concatination\n",
    "matrix=[['Farhad','Manoj','Rohit'],['Ahamed','Pal','Sherma']]\n",
    "res=[]\n",
    "for i in range(len(matrix)):\n",
    "    fot j in range(len(matrix[0])):\n",
    "        \n",
    "        "
   ]
  }
 ],
 "metadata": {
  "kernelspec": {
   "display_name": "Python 3 (ipykernel)",
   "language": "python",
   "name": "python3"
  },
  "language_info": {
   "codemirror_mode": {
    "name": "ipython",
    "version": 3
   },
   "file_extension": ".py",
   "mimetype": "text/x-python",
   "name": "python",
   "nbconvert_exporter": "python",
   "pygments_lexer": "ipython3",
   "version": "3.9.7"
  }
 },
 "nbformat": 4,
 "nbformat_minor": 5
}
