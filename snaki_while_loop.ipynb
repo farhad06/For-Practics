{
 "cells": [
  {
   "cell_type": "code",
   "execution_count": null,
   "id": "d70fba91",
   "metadata": {},
   "outputs": [],
   "source": [
    "#1.List of square\n",
    "n=int(input())\n",
    "i=1\n",
    "while(i<=n):\n",
    "    if(i**2<=n):\n",
    "        print(i**2,end=' ')\n",
    "    i=i+1 "
   ]
  },
  {
   "cell_type": "code",
   "execution_count": null,
   "id": "53b785b3",
   "metadata": {},
   "outputs": [],
   "source": [
    "#2.last divisor\n",
    "n=int(input())\n",
    "i=2\n",
    "while i<=n:\n",
    "    if(n%i==0):\n",
    "        print(i)\n",
    "        break\n",
    "    i+=1  "
   ]
  },
  {
   "cell_type": "code",
   "execution_count": null,
   "id": "bb14078b",
   "metadata": {},
   "outputs": [],
   "source": [
    "#3.the power of two\n",
    "n=int(input())\n",
    "num=1\n",
    "index=0\n",
    "while num*2<=n:\n",
    "    index+=1\n",
    "    num*=2\n",
    "print(index,num)   "
   ]
  },
  {
   "cell_type": "code",
   "execution_count": null,
   "id": "7269d64e",
   "metadata": {},
   "outputs": [],
   "source": [
    "#4.morning jog\n",
    "a=int(input())\n",
    "b=int(input())\n",
    "count=1\n",
    "while a<b:\n",
    "    a=a+a*10/100\n",
    "    count+=1\n",
    "print(count) "
   ]
  },
  {
   "cell_type": "code",
   "execution_count": null,
   "id": "1c178747",
   "metadata": {},
   "outputs": [],
   "source": [
    "#5.the length of sequence\n",
    "count=0\n",
    "while int(input())!=0:\n",
    "    count+=1\n",
    "print(count) "
   ]
  },
  {
   "cell_type": "code",
   "execution_count": null,
   "id": "00435bc5",
   "metadata": {},
   "outputs": [],
   "source": [
    "#6.the sum of sequence\n",
    "sum=0\n",
    "n=int(input())\n",
    "while n !=0:\n",
    "    sum+=n\n",
    "    n=int(input())\n",
    "print(sum)"
   ]
  },
  {
   "cell_type": "code",
   "execution_count": null,
   "id": "d55f8dcf",
   "metadata": {},
   "outputs": [],
   "source": [
    "#7.the average of sequence\n",
    "sum=0\n",
    "count=0\n",
    "n=int(input())\n",
    "while n !=0:\n",
    "    count+=1\n",
    "    sum+=n\n",
    "    n=int(input())\n",
    "print(sum/count)"
   ]
  },
  {
   "cell_type": "code",
   "execution_count": null,
   "id": "99849dc2",
   "metadata": {},
   "outputs": [],
   "source": [
    "#8.maximum of seuence\n",
    "n=int(input())\n",
    "max=0\n",
    "while n!=0:\n",
    "    if n>max:\n",
    "        max=n\n",
    "    n=int(input())    \n",
    "print(max) "
   ]
  },
  {
   "cell_type": "code",
   "execution_count": null,
   "id": "c42a55aa",
   "metadata": {},
   "outputs": [],
   "source": [
    "#9.index of maximum of sequence\n",
    "n=int(input())\n",
    "max=0\n",
    "count=0\n",
    "index=0\n",
    "while n!=0:\n",
    "    if n>max:\n",
    "        max=n\n",
    "        count+=1\n",
    "    n=int(input())\n",
    "    #count+=1\n",
    "print(count)"
   ]
  },
  {
   "cell_type": "code",
   "execution_count": null,
   "id": "f6a2182b",
   "metadata": {},
   "outputs": [],
   "source": [
    "#10.the number of even element in sequence\n",
    "count=0\n",
    "n=int(input())\n",
    "while n !=0:\n",
    "    if(n%2==0):\n",
    "        count+=1\n",
    "    n=int(input())\n",
    "print(count)"
   ]
  },
  {
   "cell_type": "code",
   "execution_count": null,
   "id": "97ef7577",
   "metadata": {},
   "outputs": [],
   "source": [
    "#11.the number of element that greater than previous one\n"
   ]
  },
  {
   "cell_type": "code",
   "execution_count": null,
   "id": "14cb6f99",
   "metadata": {},
   "outputs": [],
   "source": [
    "#12.second maximum\n",
    "n=int(input())\n",
    "max=0\n",
    "max2=-1\n",
    "while n!=0:\n",
    "    if n>max:\n",
    "        \n",
    "        max2=max\n",
    "        max=n\n",
    "    elif n>max2:\n",
    "        max2=n\n",
    "    n=int(input())    \n",
    "print(max2)"
   ]
  },
  {
   "cell_type": "code",
   "execution_count": null,
   "id": "a9201e9a",
   "metadata": {},
   "outputs": [],
   "source": [
    "#13.the number of element equal maximum\n",
    "n=int(input())\n",
    "max=0\n",
    "count=1\n",
    "while n!=0:\n",
    "    if n>max:\n",
    "        max=n\n",
    "        count=1\n",
    "    elif n==max:\n",
    "        count+=1\n",
    "    n=int(input())    \n",
    "print(count) "
   ]
  },
  {
   "cell_type": "code",
   "execution_count": null,
   "id": "3d6eab2a",
   "metadata": {},
   "outputs": [],
   "source": [
    "#14.fibonacii number\n",
    "n=int(input())\n",
    "if n==0:\n",
    "    sum=0\n",
    "else:    \n",
    "    a=0\n",
    "    b=1\n",
    "    sum=a+b\n",
    "    i=1\n",
    "    while i<=n-2:\n",
    "        a=b\n",
    "        b=sum\n",
    "        sum=a+b\n",
    "        i+=1\n",
    "print(sum) "
   ]
  },
  {
   "cell_type": "code",
   "execution_count": null,
   "id": "f91e4517",
   "metadata": {},
   "outputs": [],
   "source": [
    "#15.index of fibonacii number\n",
    "n=int(input())\n",
    "a=0\n",
    "b=1\n",
    "if n==1:\n",
    "    print(1)\n",
    "else:\n",
    "    i=1\n",
    "    while n>b:\n",
    "        b,a=a+b,b\n",
    "        i+=1\n",
    "    if b==n:\n",
    "        print(i)\n",
    "    else:\n",
    "        print(-1)"
   ]
  },
  {
   "cell_type": "code",
   "execution_count": null,
   "id": "b8cd6611",
   "metadata": {},
   "outputs": [],
   "source": [
    "#16.the number of concecutive equal element\n",
    "n=int(input())\n",
    "count=1\n",
    "pre=n\n",
    "max_count=count\n",
    "while n!=0:\n",
    "    n=int(input())\n",
    "    if n==pre:\n",
    "        count+=1\n",
    "        pre=n\n",
    "    else:\n",
    "        if count>max_count:\n",
    "            max_count=count\n",
    "        count=1\n",
    "        pre=n\n",
    "print(max_count)  "
   ]
  }
 ],
 "metadata": {
  "kernelspec": {
   "display_name": "Python 3 (ipykernel)",
   "language": "python",
   "name": "python3"
  },
  "language_info": {
   "codemirror_mode": {
    "name": "ipython",
    "version": 3
   },
   "file_extension": ".py",
   "mimetype": "text/x-python",
   "name": "python",
   "nbconvert_exporter": "python",
   "pygments_lexer": "ipython3",
   "version": "3.9.7"
  }
 },
 "nbformat": 4,
 "nbformat_minor": 5
}
