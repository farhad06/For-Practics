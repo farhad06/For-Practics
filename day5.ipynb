{
 "cells": [
  {
   "cell_type": "code",
   "execution_count": 1,
   "id": "1b501d89",
   "metadata": {},
   "outputs": [
    {
     "name": "stdout",
     "output_type": "stream",
     "text": [
      "Boys list:\n",
      "['Mr. azad', 'Mr. Yusuf', 'Mr. Parvez', 'Mr. Sk']\n",
      "Girls list:\n",
      "['Ms. shahnaz', 'Ms. Bindiya']\n"
     ]
    }
   ],
   "source": [
    "#1.\n",
    "name=[\"Mr. azad\",\"Ms. shahnaz\",\"Ms. Bindiya\",\"Mr. Yusuf\",\"Mr. Parvez\",\"Mr. Sk\"]\n",
    "boys=[]\n",
    "girls=[]\n",
    "for i in name:\n",
    "    if i[:2]==\"Mr\":\n",
    "        boys.append(i)\n",
    "    elif i[:2]==\"Ms\":\n",
    "        girls.append(i)\n",
    "print(\"Boys list:\")        \n",
    "print(boys)\n",
    "print(\"Girls list:\") \n",
    "print(girls)\n",
    "        \n",
    "    "
   ]
  },
  {
   "cell_type": "code",
   "execution_count": 2,
   "id": "979e1f8f",
   "metadata": {},
   "outputs": [
    {
     "name": "stdout",
     "output_type": "stream",
     "text": [
      "Hallroom= 250 ft Bathroom= 360 ft Garden= 361 ft\n"
     ]
    }
   ],
   "source": [
    "#2.\n",
    "hall,bath,gard=250,360,361\n",
    "l=[hall,bath,gard]\n",
    "print(\"Hallroom=\",l[0],\"ft\",\"Bathroom=\",l[1],\"ft\",\"Garden=\",l[2],\"ft\")\n"
   ]
  },
  {
   "cell_type": "code",
   "execution_count": 5,
   "id": "0d982ce6",
   "metadata": {},
   "outputs": [
    {
     "name": "stdout",
     "output_type": "stream",
     "text": [
      "Union of these sets is:  {1, 2, 3, 4, 5, 6, 7, 8, 9}\n",
      "Intersection of these sets is:  {4}\n",
      "Difference from Set1 to Set2 is:  {1, 2, 3}\n",
      "Difference from Set2 to Set1 is:  {5, 6, 7, 8, 9}\n"
     ]
    }
   ],
   "source": [
    "#3.\n",
    "set1={1,2,3,4}\n",
    "set2={4,5,6,7,8,9}\n",
    "print(\"Union of these sets is: \", set1|set2)\n",
    "print(\"Intersection of these sets is: \",set1&set2)\n",
    "print(\"Difference from Set1 to Set2 is: \",set1-set2)\n",
    "print(\"Difference from Set2 to Set1 is: \",set2-set1)\n",
    "set1.clear()\n",
    "set2.clear()\n"
   ]
  },
  {
   "cell_type": "code",
   "execution_count": 9,
   "id": "1d4b8bad",
   "metadata": {},
   "outputs": [
    {
     "name": "stdout",
     "output_type": "stream",
     "text": [
      "Enter a number8\n",
      "Odd\n"
     ]
    }
   ],
   "source": [
    "#4.\n",
    "num=[1,2,3,4,5,6,7,11,12,13]\n",
    "n=int(input(\"Enter a number\"))\n",
    "if n not in num:\n",
    "    print(\"Odd\")\n",
    "else:\n",
    "    print(\"Even\")"
   ]
  },
  {
   "cell_type": "code",
   "execution_count": null,
   "id": "749860f7",
   "metadata": {},
   "outputs": [],
   "source": []
  }
 ],
 "metadata": {
  "kernelspec": {
   "display_name": "Python 3 (ipykernel)",
   "language": "python",
   "name": "python3"
  },
  "language_info": {
   "codemirror_mode": {
    "name": "ipython",
    "version": 3
   },
   "file_extension": ".py",
   "mimetype": "text/x-python",
   "name": "python",
   "nbconvert_exporter": "python",
   "pygments_lexer": "ipython3",
   "version": "3.9.7"
  }
 },
 "nbformat": 4,
 "nbformat_minor": 5
}
