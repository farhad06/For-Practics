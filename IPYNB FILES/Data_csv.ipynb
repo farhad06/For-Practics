{
 "cells": [
  {
   "cell_type": "markdown",
   "id": "815b59d0",
   "metadata": {},
   "source": [
    "## Questions\n",
    "1. Find the CLT's(Mean,Median,Mode) for all columns?\n",
    "3. Find the std,var,co-var,co-relation,IQR,Range,Frequency,Lower tail,upper tail,Percentile, for all 3 cols using builtin function and custom methods?\n",
    "4. Find the MAD(Median Absolute Deviation) and Trimmed Mean?\n",
    "5. Plot Probability distribution  function (PDF),Cumulativ Distribution plot (CDP), Barplot,Boxplot,Scatter plot,Hiostogram,Pie chart,Line chart ?\n",
    "6. Find the Skewness the of every column? Treat the positive skewness?\n",
    "7. write the Z-score,R.Z score,cube root, square root, bxcx, log transformation, Lambda Transaformation ?\n",
    "8. What is Normalization? Types of It?\n",
    "9. What standarization?\n",
    "10. Def. of Outliers how to treat them?\n",
    "11. Take one column and only take the data between Q1 and Q3?\n",
    "12. Why we take Q1 and Q3 in-between Data?.\n",
    "13. Why do we Need Treat the outliers,skewness,Missing Values ? \n"
   ]
  },
  {
   "cell_type": "markdown",
   "id": "d6550556",
   "metadata": {},
   "source": [
    "### Import Libraries"
   ]
  },
  {
   "cell_type": "code",
   "execution_count": 109,
   "id": "bbf3ff5e",
   "metadata": {},
   "outputs": [],
   "source": [
    "import pandas as pd\n",
    "import numpy as np\n",
    "import statistics\n",
    "import math\n",
    "import matplotlib.pyplot as plt\n",
    "import seaborn as sns\n",
    "import scipy\n",
    "from scipy import stats\n",
    "sns.set()\n",
    "import warnings\n",
    "warnings.filterwarnings('ignore')\n",
    "from sklearn.metrics import accuracy_score,confusion_matrix"
   ]
  },
  {
   "cell_type": "markdown",
   "id": "05e1116e",
   "metadata": {},
   "source": [
    "### Read the data sheet"
   ]
  },
  {
   "cell_type": "code",
   "execution_count": 110,
   "id": "98251b08",
   "metadata": {},
   "outputs": [],
   "source": [
    "df=pd.read_csv(\"data.csv\")"
   ]
  },
  {
   "cell_type": "markdown",
   "id": "c26c73c3",
   "metadata": {},
   "source": [
    "### Show 1st 5 row"
   ]
  },
  {
   "cell_type": "code",
   "execution_count": 111,
   "id": "1616b821",
   "metadata": {},
   "outputs": [
    {
     "data": {
      "text/html": [
       "<div>\n",
       "<style scoped>\n",
       "    .dataframe tbody tr th:only-of-type {\n",
       "        vertical-align: middle;\n",
       "    }\n",
       "\n",
       "    .dataframe tbody tr th {\n",
       "        vertical-align: top;\n",
       "    }\n",
       "\n",
       "    .dataframe thead th {\n",
       "        text-align: right;\n",
       "    }\n",
       "</style>\n",
       "<table border=\"1\" class=\"dataframe\">\n",
       "  <thead>\n",
       "    <tr style=\"text-align: right;\">\n",
       "      <th></th>\n",
       "      <th>Mthly_HH_Income</th>\n",
       "      <th>Mthly_HH_Expense</th>\n",
       "      <th>No_of_Fly_Members</th>\n",
       "      <th>Annual_HH_Income</th>\n",
       "    </tr>\n",
       "  </thead>\n",
       "  <tbody>\n",
       "    <tr>\n",
       "      <th>0</th>\n",
       "      <td>5000</td>\n",
       "      <td>8000</td>\n",
       "      <td>3</td>\n",
       "      <td>64200</td>\n",
       "    </tr>\n",
       "    <tr>\n",
       "      <th>1</th>\n",
       "      <td>6000</td>\n",
       "      <td>7000</td>\n",
       "      <td>2</td>\n",
       "      <td>79920</td>\n",
       "    </tr>\n",
       "    <tr>\n",
       "      <th>2</th>\n",
       "      <td>10000</td>\n",
       "      <td>4500</td>\n",
       "      <td>2</td>\n",
       "      <td>112800</td>\n",
       "    </tr>\n",
       "    <tr>\n",
       "      <th>3</th>\n",
       "      <td>10000</td>\n",
       "      <td>2000</td>\n",
       "      <td>1</td>\n",
       "      <td>97200</td>\n",
       "    </tr>\n",
       "    <tr>\n",
       "      <th>4</th>\n",
       "      <td>12500</td>\n",
       "      <td>12000</td>\n",
       "      <td>2</td>\n",
       "      <td>147000</td>\n",
       "    </tr>\n",
       "  </tbody>\n",
       "</table>\n",
       "</div>"
      ],
      "text/plain": [
       "   Mthly_HH_Income  Mthly_HH_Expense  No_of_Fly_Members  Annual_HH_Income\n",
       "0             5000              8000                  3             64200\n",
       "1             6000              7000                  2             79920\n",
       "2            10000              4500                  2            112800\n",
       "3            10000              2000                  1             97200\n",
       "4            12500             12000                  2            147000"
      ]
     },
     "execution_count": 111,
     "metadata": {},
     "output_type": "execute_result"
    }
   ],
   "source": [
    "df.head()"
   ]
  },
  {
   "cell_type": "markdown",
   "id": "6658a846",
   "metadata": {},
   "source": [
    "### Show Last 5 rows"
   ]
  },
  {
   "cell_type": "code",
   "execution_count": 112,
   "id": "82ff0f63",
   "metadata": {},
   "outputs": [
    {
     "data": {
      "text/html": [
       "<div>\n",
       "<style scoped>\n",
       "    .dataframe tbody tr th:only-of-type {\n",
       "        vertical-align: middle;\n",
       "    }\n",
       "\n",
       "    .dataframe tbody tr th {\n",
       "        vertical-align: top;\n",
       "    }\n",
       "\n",
       "    .dataframe thead th {\n",
       "        text-align: right;\n",
       "    }\n",
       "</style>\n",
       "<table border=\"1\" class=\"dataframe\">\n",
       "  <thead>\n",
       "    <tr style=\"text-align: right;\">\n",
       "      <th></th>\n",
       "      <th>Mthly_HH_Income</th>\n",
       "      <th>Mthly_HH_Expense</th>\n",
       "      <th>No_of_Fly_Members</th>\n",
       "      <th>Annual_HH_Income</th>\n",
       "    </tr>\n",
       "  </thead>\n",
       "  <tbody>\n",
       "    <tr>\n",
       "      <th>45</th>\n",
       "      <td>90000</td>\n",
       "      <td>48000</td>\n",
       "      <td>7</td>\n",
       "      <td>885600</td>\n",
       "    </tr>\n",
       "    <tr>\n",
       "      <th>46</th>\n",
       "      <td>98000</td>\n",
       "      <td>25000</td>\n",
       "      <td>5</td>\n",
       "      <td>1152480</td>\n",
       "    </tr>\n",
       "    <tr>\n",
       "      <th>47</th>\n",
       "      <td>100000</td>\n",
       "      <td>30000</td>\n",
       "      <td>6</td>\n",
       "      <td>1404000</td>\n",
       "    </tr>\n",
       "    <tr>\n",
       "      <th>48</th>\n",
       "      <td>100000</td>\n",
       "      <td>50000</td>\n",
       "      <td>4</td>\n",
       "      <td>1032000</td>\n",
       "    </tr>\n",
       "    <tr>\n",
       "      <th>49</th>\n",
       "      <td>100000</td>\n",
       "      <td>40000</td>\n",
       "      <td>6</td>\n",
       "      <td>1320000</td>\n",
       "    </tr>\n",
       "  </tbody>\n",
       "</table>\n",
       "</div>"
      ],
      "text/plain": [
       "    Mthly_HH_Income  Mthly_HH_Expense  No_of_Fly_Members  Annual_HH_Income\n",
       "45            90000             48000                  7            885600\n",
       "46            98000             25000                  5           1152480\n",
       "47           100000             30000                  6           1404000\n",
       "48           100000             50000                  4           1032000\n",
       "49           100000             40000                  6           1320000"
      ]
     },
     "execution_count": 112,
     "metadata": {},
     "output_type": "execute_result"
    }
   ],
   "source": [
    "df.tail()"
   ]
  },
  {
   "cell_type": "code",
   "execution_count": 113,
   "id": "e368a353",
   "metadata": {},
   "outputs": [
    {
     "data": {
      "text/plain": [
       "Index(['Mthly_HH_Income', 'Mthly_HH_Expense', 'No_of_Fly_Members',\n",
       "       'Annual_HH_Income'],\n",
       "      dtype='object')"
      ]
     },
     "execution_count": 113,
     "metadata": {},
     "output_type": "execute_result"
    }
   ],
   "source": [
    "# Show columns\n",
    "df.columns"
   ]
  },
  {
   "cell_type": "code",
   "execution_count": 114,
   "id": "f3e8e6ac",
   "metadata": {},
   "outputs": [
    {
     "data": {
      "text/html": [
       "<div>\n",
       "<style scoped>\n",
       "    .dataframe tbody tr th:only-of-type {\n",
       "        vertical-align: middle;\n",
       "    }\n",
       "\n",
       "    .dataframe tbody tr th {\n",
       "        vertical-align: top;\n",
       "    }\n",
       "\n",
       "    .dataframe thead th {\n",
       "        text-align: right;\n",
       "    }\n",
       "</style>\n",
       "<table border=\"1\" class=\"dataframe\">\n",
       "  <thead>\n",
       "    <tr style=\"text-align: right;\">\n",
       "      <th></th>\n",
       "      <th>Mthly_HH_Income</th>\n",
       "      <th>Mthly_HH_Expense</th>\n",
       "      <th>No_of_Fly_Members</th>\n",
       "      <th>Annual_HH_Income</th>\n",
       "    </tr>\n",
       "  </thead>\n",
       "  <tbody>\n",
       "    <tr>\n",
       "      <th>count</th>\n",
       "      <td>50.000000</td>\n",
       "      <td>50.000000</td>\n",
       "      <td>50.000000</td>\n",
       "      <td>5.000000e+01</td>\n",
       "    </tr>\n",
       "    <tr>\n",
       "      <th>mean</th>\n",
       "      <td>41558.000000</td>\n",
       "      <td>18818.000000</td>\n",
       "      <td>4.060000</td>\n",
       "      <td>4.900190e+05</td>\n",
       "    </tr>\n",
       "    <tr>\n",
       "      <th>std</th>\n",
       "      <td>26097.908979</td>\n",
       "      <td>12090.216824</td>\n",
       "      <td>1.517382</td>\n",
       "      <td>3.201358e+05</td>\n",
       "    </tr>\n",
       "    <tr>\n",
       "      <th>min</th>\n",
       "      <td>5000.000000</td>\n",
       "      <td>2000.000000</td>\n",
       "      <td>1.000000</td>\n",
       "      <td>6.420000e+04</td>\n",
       "    </tr>\n",
       "    <tr>\n",
       "      <th>25%</th>\n",
       "      <td>23550.000000</td>\n",
       "      <td>10000.000000</td>\n",
       "      <td>3.000000</td>\n",
       "      <td>2.587500e+05</td>\n",
       "    </tr>\n",
       "    <tr>\n",
       "      <th>50%</th>\n",
       "      <td>35000.000000</td>\n",
       "      <td>15500.000000</td>\n",
       "      <td>4.000000</td>\n",
       "      <td>4.474200e+05</td>\n",
       "    </tr>\n",
       "    <tr>\n",
       "      <th>75%</th>\n",
       "      <td>50375.000000</td>\n",
       "      <td>25000.000000</td>\n",
       "      <td>5.000000</td>\n",
       "      <td>5.947200e+05</td>\n",
       "    </tr>\n",
       "    <tr>\n",
       "      <th>max</th>\n",
       "      <td>100000.000000</td>\n",
       "      <td>50000.000000</td>\n",
       "      <td>7.000000</td>\n",
       "      <td>1.404000e+06</td>\n",
       "    </tr>\n",
       "  </tbody>\n",
       "</table>\n",
       "</div>"
      ],
      "text/plain": [
       "       Mthly_HH_Income  Mthly_HH_Expense  No_of_Fly_Members  Annual_HH_Income\n",
       "count        50.000000         50.000000          50.000000      5.000000e+01\n",
       "mean      41558.000000      18818.000000           4.060000      4.900190e+05\n",
       "std       26097.908979      12090.216824           1.517382      3.201358e+05\n",
       "min        5000.000000       2000.000000           1.000000      6.420000e+04\n",
       "25%       23550.000000      10000.000000           3.000000      2.587500e+05\n",
       "50%       35000.000000      15500.000000           4.000000      4.474200e+05\n",
       "75%       50375.000000      25000.000000           5.000000      5.947200e+05\n",
       "max      100000.000000      50000.000000           7.000000      1.404000e+06"
      ]
     },
     "execution_count": 114,
     "metadata": {},
     "output_type": "execute_result"
    }
   ],
   "source": [
    "df.describe()"
   ]
  },
  {
   "cell_type": "code",
   "execution_count": 115,
   "id": "4c00807e",
   "metadata": {},
   "outputs": [
    {
     "name": "stdout",
     "output_type": "stream",
     "text": [
      "<class 'pandas.core.frame.DataFrame'>\n",
      "RangeIndex: 50 entries, 0 to 49\n",
      "Data columns (total 4 columns):\n",
      " #   Column             Non-Null Count  Dtype\n",
      "---  ------             --------------  -----\n",
      " 0   Mthly_HH_Income    50 non-null     int64\n",
      " 1   Mthly_HH_Expense   50 non-null     int64\n",
      " 2   No_of_Fly_Members  50 non-null     int64\n",
      " 3   Annual_HH_Income   50 non-null     int64\n",
      "dtypes: int64(4)\n",
      "memory usage: 1.7 KB\n"
     ]
    }
   ],
   "source": [
    "df.info()"
   ]
  },
  {
   "cell_type": "code",
   "execution_count": 116,
   "id": "7f4b98bc",
   "metadata": {},
   "outputs": [
    {
     "data": {
      "text/plain": [
       "(50, 4)"
      ]
     },
     "execution_count": 116,
     "metadata": {},
     "output_type": "execute_result"
    }
   ],
   "source": [
    "df.shape"
   ]
  },
  {
   "cell_type": "code",
   "execution_count": 117,
   "id": "dcd8f460",
   "metadata": {},
   "outputs": [
    {
     "data": {
      "text/plain": [
       "200"
      ]
     },
     "execution_count": 117,
     "metadata": {},
     "output_type": "execute_result"
    }
   ],
   "source": [
    "df.size"
   ]
  },
  {
   "cell_type": "markdown",
   "id": "ebea3ebe",
   "metadata": {},
   "source": [
    "### Mean of Mthly_HH_Income columns"
   ]
  },
  {
   "cell_type": "code",
   "execution_count": 118,
   "id": "0dd6709d",
   "metadata": {},
   "outputs": [
    {
     "data": {
      "text/plain": [
       "41558.0"
      ]
     },
     "execution_count": 118,
     "metadata": {},
     "output_type": "execute_result"
    }
   ],
   "source": [
    "#Using built-in-function\n",
    "df['Mthly_HH_Income'].mean()"
   ]
  },
  {
   "cell_type": "code",
   "execution_count": 119,
   "id": "aba6fe81",
   "metadata": {},
   "outputs": [
    {
     "name": "stdout",
     "output_type": "stream",
     "text": [
      "41558.0\n"
     ]
    }
   ],
   "source": [
    "#Without-built-in function\n",
    "col=df[\"Mthly_HH_Income\"]\n",
    "# first_col\n",
    "l=[]\n",
    "for i in col:\n",
    "    l.append(i)\n",
    "# print(l)\n",
    "sum=0\n",
    "for num in range(0,len(l)):\n",
    "    sum+=l[num]\n",
    "mean=sum/len(l) \n",
    "print(mean)"
   ]
  },
  {
   "cell_type": "markdown",
   "id": "91c6bf40",
   "metadata": {},
   "source": [
    "### Mean of Mthly_HH_Expense columns"
   ]
  },
  {
   "cell_type": "code",
   "execution_count": 120,
   "id": "3e22bdb5",
   "metadata": {},
   "outputs": [
    {
     "data": {
      "text/plain": [
       "18818.0"
      ]
     },
     "execution_count": 120,
     "metadata": {},
     "output_type": "execute_result"
    }
   ],
   "source": [
    "df['Mthly_HH_Expense'].mean()"
   ]
  },
  {
   "cell_type": "code",
   "execution_count": 121,
   "id": "30a291a3",
   "metadata": {},
   "outputs": [
    {
     "name": "stdout",
     "output_type": "stream",
     "text": [
      "18818.0\n"
     ]
    }
   ],
   "source": [
    "col=df[\"Mthly_HH_Expense\"]\n",
    "# first_col\n",
    "l=[]\n",
    "for i in col:\n",
    "    l.append(i)\n",
    "# print(l)\n",
    "sum=0\n",
    "for num in range(0,len(l)):\n",
    "    sum+=l[num]\n",
    "mean=sum/len(l) \n",
    "print(mean)"
   ]
  },
  {
   "cell_type": "markdown",
   "id": "5d65cd33",
   "metadata": {},
   "source": [
    "### Mean of Annual_HH_Income columns"
   ]
  },
  {
   "cell_type": "code",
   "execution_count": 122,
   "id": "dd15f0a5",
   "metadata": {},
   "outputs": [
    {
     "data": {
      "text/plain": [
       "490019.04"
      ]
     },
     "execution_count": 122,
     "metadata": {},
     "output_type": "execute_result"
    }
   ],
   "source": [
    "df['Annual_HH_Income'].mean()"
   ]
  },
  {
   "cell_type": "code",
   "execution_count": 123,
   "id": "d8b5c08d",
   "metadata": {},
   "outputs": [
    {
     "name": "stdout",
     "output_type": "stream",
     "text": [
      "490019.04\n"
     ]
    }
   ],
   "source": [
    "col=df[\"Annual_HH_Income\"]\n",
    "# first_col\n",
    "l=[]\n",
    "for i in col:\n",
    "    l.append(i)\n",
    "# print(l)\n",
    "sum=0\n",
    "for num in range(0,len(l)):\n",
    "    sum+=l[num]\n",
    "mean=sum/len(l) \n",
    "print(mean)"
   ]
  },
  {
   "cell_type": "markdown",
   "id": "b82bd3da",
   "metadata": {},
   "source": [
    "### median in Mthly_HH_Income columns"
   ]
  },
  {
   "cell_type": "code",
   "execution_count": 124,
   "id": "08345169",
   "metadata": {},
   "outputs": [
    {
     "data": {
      "text/plain": [
       "35000.0"
      ]
     },
     "execution_count": 124,
     "metadata": {},
     "output_type": "execute_result"
    }
   ],
   "source": [
    "df['Mthly_HH_Income'].median()"
   ]
  },
  {
   "cell_type": "code",
   "execution_count": 125,
   "id": "47bf24fd",
   "metadata": {},
   "outputs": [
    {
     "name": "stdout",
     "output_type": "stream",
     "text": [
      "35000.0\n"
     ]
    }
   ],
   "source": [
    "col=df[\"Mthly_HH_Income\"]\n",
    "# first_col\n",
    "l=[]\n",
    "for i in col:\n",
    "    l.append(i)\n",
    "l.sort()\n",
    "# print(l)\n",
    "mid=len(l)//2\n",
    "if (len(l)) %2 !=0:\n",
    "#     mid=len(l)//2\n",
    "    print(l[mid])\n",
    "else:\n",
    "    median=(l[mid-1]+l[mid])/2\n",
    "    print(median)\n",
    "    "
   ]
  },
  {
   "cell_type": "markdown",
   "id": "9e69dc00",
   "metadata": {},
   "source": [
    "### Median of Mthly_HH_Expense columns"
   ]
  },
  {
   "cell_type": "code",
   "execution_count": 126,
   "id": "550ddf8e",
   "metadata": {},
   "outputs": [
    {
     "data": {
      "text/plain": [
       "15500.0"
      ]
     },
     "execution_count": 126,
     "metadata": {},
     "output_type": "execute_result"
    }
   ],
   "source": [
    "df['Mthly_HH_Expense'].median()"
   ]
  },
  {
   "cell_type": "code",
   "execution_count": 127,
   "id": "5f158efc",
   "metadata": {},
   "outputs": [
    {
     "name": "stdout",
     "output_type": "stream",
     "text": [
      "15500.0\n"
     ]
    }
   ],
   "source": [
    "col=df[\"Mthly_HH_Expense\"]\n",
    "# first_col\n",
    "l=[]\n",
    "for i in col:\n",
    "    l.append(i)\n",
    "l.sort()\n",
    "# print(l)\n",
    "mid=len(l)//2\n",
    "if (len(l)) %2 !=0:\n",
    "#     mid=len(l)//2\n",
    "    print(l[mid])\n",
    "else:\n",
    "    median=(l[mid-1]+l[mid])/2\n",
    "    print(median)"
   ]
  },
  {
   "cell_type": "markdown",
   "id": "aa129ab6",
   "metadata": {},
   "source": [
    "### Median of Annual_HH_Income columns"
   ]
  },
  {
   "cell_type": "code",
   "execution_count": 128,
   "id": "6ce43db6",
   "metadata": {},
   "outputs": [
    {
     "data": {
      "text/plain": [
       "447420.0"
      ]
     },
     "execution_count": 128,
     "metadata": {},
     "output_type": "execute_result"
    }
   ],
   "source": [
    "df['Annual_HH_Income'].median()"
   ]
  },
  {
   "cell_type": "code",
   "execution_count": 129,
   "id": "e1d9afa7",
   "metadata": {},
   "outputs": [
    {
     "name": "stdout",
     "output_type": "stream",
     "text": [
      "447420.0\n"
     ]
    }
   ],
   "source": [
    "col=df[\"Annual_HH_Income\"]\n",
    "# first_col\n",
    "l=[]\n",
    "for i in col:\n",
    "    l.append(i)\n",
    "# print(len(l))    \n",
    "l.sort()\n",
    "# print(l)\n",
    "mid=len(l)//2\n",
    "if (len(l)) %2 !=0:\n",
    "#     mid=len(l)//2\n",
    "    print(l[mid])\n",
    "else:\n",
    "    median=(l[mid-1]+l[mid])/2\n",
    "    print(median)"
   ]
  },
  {
   "cell_type": "markdown",
   "id": "2bef5b8b",
   "metadata": {},
   "source": [
    "### Mode of Month Income columns"
   ]
  },
  {
   "cell_type": "code",
   "execution_count": 130,
   "id": "fb828772",
   "metadata": {},
   "outputs": [
    {
     "data": {
      "text/plain": [
       "0    45000\n",
       "dtype: int64"
      ]
     },
     "execution_count": 130,
     "metadata": {},
     "output_type": "execute_result"
    }
   ],
   "source": [
    "df[\"Mthly_HH_Income\"].mode()"
   ]
  },
  {
   "cell_type": "code",
   "execution_count": 131,
   "id": "630239af",
   "metadata": {},
   "outputs": [
    {
     "name": "stdout",
     "output_type": "stream",
     "text": [
      "Mode is:  45000\n"
     ]
    }
   ],
   "source": [
    "col=df[\"Mthly_HH_Income\"]\n",
    "l=[]\n",
    "for i in col:\n",
    "    l.append(i)\n",
    "d={}\n",
    "for i in l:\n",
    "    if i in d:\n",
    "        d[i]+=1\n",
    "    else:\n",
    "        d[i]=1\n",
    "# print(d)\n",
    "mode=max(zip(d.values(),d.keys()))[1]\n",
    "print(\"Mode is: \",mode)        \n",
    "    "
   ]
  },
  {
   "cell_type": "markdown",
   "id": "3fff371b",
   "metadata": {},
   "source": [
    "## Mode of month Expense"
   ]
  },
  {
   "cell_type": "code",
   "execution_count": 132,
   "id": "29811d5e",
   "metadata": {},
   "outputs": [
    {
     "data": {
      "text/plain": [
       "0    25000\n",
       "dtype: int64"
      ]
     },
     "execution_count": 132,
     "metadata": {},
     "output_type": "execute_result"
    }
   ],
   "source": [
    "df[\"Mthly_HH_Expense\"].mode()"
   ]
  },
  {
   "cell_type": "code",
   "execution_count": 133,
   "id": "26fb82ff",
   "metadata": {},
   "outputs": [
    {
     "name": "stdout",
     "output_type": "stream",
     "text": [
      "Mode is:  25000\n"
     ]
    }
   ],
   "source": [
    "col=df[\"Mthly_HH_Expense\"]\n",
    "l=[]\n",
    "for i in col:\n",
    "    l.append(i)\n",
    "d={}\n",
    "for i in l:\n",
    "    if i in d:\n",
    "        d[i]+=1\n",
    "    else:\n",
    "        d[i]=1\n",
    "# print(d)\n",
    "mode=max(zip(d.values(),d.keys()))[1]\n",
    "print(\"Mode is: \",mode)  "
   ]
  },
  {
   "cell_type": "markdown",
   "id": "7d00834d",
   "metadata": {},
   "source": [
    "### Mode of annual income"
   ]
  },
  {
   "cell_type": "code",
   "execution_count": 134,
   "id": "09a1a11f",
   "metadata": {},
   "outputs": [
    {
     "data": {
      "text/plain": [
       "0    590400\n",
       "dtype: int64"
      ]
     },
     "execution_count": 134,
     "metadata": {},
     "output_type": "execute_result"
    }
   ],
   "source": [
    "df['Annual_HH_Income'].mode()"
   ]
  },
  {
   "cell_type": "code",
   "execution_count": 135,
   "id": "63d49704",
   "metadata": {},
   "outputs": [
    {
     "name": "stdout",
     "output_type": "stream",
     "text": [
      "Mode is:  590400\n"
     ]
    }
   ],
   "source": [
    "col=df[\"Annual_HH_Income\"]\n",
    "l=[]\n",
    "for i in col:\n",
    "    l.append(i)\n",
    "d={}\n",
    "for i in l:\n",
    "    if i in d:\n",
    "        d[i]+=1\n",
    "    else:\n",
    "        d[i]=1\n",
    "# print(d)\n",
    "mode=max(zip(d.values(),d.keys()))[1]\n",
    "print(\"Mode is: \",mode) "
   ]
  },
  {
   "cell_type": "markdown",
   "id": "adf5c1e6",
   "metadata": {},
   "source": [
    "### variance and strandard daviation of Mthly_HH_Income columns"
   ]
  },
  {
   "cell_type": "code",
   "execution_count": 136,
   "id": "4a324028",
   "metadata": {},
   "outputs": [
    {
     "name": "stdout",
     "output_type": "stream",
     "text": [
      "Variance is using built-in-function:  681100853.0612245\n",
      "==============================================================\n",
      "Varience with out using built-in-function is:  681100853.0612245\n",
      "==============================================================\n",
      "Stranderd daviation without in build function is:  26097.908978713687\n",
      "==============================================================\n",
      "Stranderd daviation using in build function is:  26097.908978713687\n"
     ]
    }
   ],
   "source": [
    "col=df[\"Mthly_HH_Income\"]\n",
    "l=[]\n",
    "for i in col:\n",
    "    l.append(i)\n",
    "# print(l)\n",
    "print(\"Variance is using built-in-function: \",statistics.variance(l))\n",
    "print(\"==============================================================\")\n",
    "mean=statistics.mean(l)\n",
    "# print(mean)\n",
    "l1=[]\n",
    "\n",
    "for j in range(0,len(l)):\n",
    "    l1.append((l[j]-mean)**2)\n",
    "sum=0    \n",
    "for k in range(0,len(l1)):\n",
    "    sum+=l1[k]\n",
    "# print(sum)\n",
    "# print(len(l1))\n",
    "variance=sum/(len(l1)-1)\n",
    "print(\"Varience with out using built-in-function is: \",variance)\n",
    "sd=math.sqrt(variance)\n",
    "print(\"==============================================================\")\n",
    "print(\"Stranderd daviation without in build function is: \",sd)\n",
    "print(\"==============================================================\")\n",
    "print(\"Stranderd daviation using in build function is: \",statistics.stdev(l))"
   ]
  },
  {
   "cell_type": "markdown",
   "id": "955c37a6",
   "metadata": {},
   "source": [
    "### variance and strandard daviation of Mthly_HH_Expense columns"
   ]
  },
  {
   "cell_type": "code",
   "execution_count": 137,
   "id": "686dd7e1",
   "metadata": {},
   "outputs": [
    {
     "name": "stdout",
     "output_type": "stream",
     "text": [
      "Variance using built-in function is:  146173342.85714287\n",
      "==============================================================\n",
      "Varience  without using built-in-function is:  146173342.85714287\n",
      "==============================================================\n",
      "Stranderd daviation without in build function is:  12090.216824240286\n",
      "==============================================================\n",
      "Stranderd daviation using in build function is:  12090.216824240286\n"
     ]
    }
   ],
   "source": [
    "col=df[\"Mthly_HH_Expense\"]\n",
    "l=[]\n",
    "for i in col:\n",
    "    l.append(i)\n",
    "# print(l)\n",
    "print(\"Variance using built-in function is: \",statistics.variance(l))\n",
    "print(\"==============================================================\")\n",
    "mean=statistics.mean(l)\n",
    "# print(mean)\n",
    "l1=[]\n",
    "\n",
    "for j in range(0,len(l)):\n",
    "    l1.append((l[j]-mean)**2)\n",
    "sum=0    \n",
    "for k in range(0,len(l1)):\n",
    "    sum+=l1[k]\n",
    "# print(sum)\n",
    "# print(len(l1))\n",
    "variance=sum/(len(l1)-1)\n",
    "print(\"Varience  without using built-in-function is: \",variance)\n",
    "print(\"==============================================================\")\n",
    "sd=math.sqrt(variance)\n",
    "print(\"Stranderd daviation without in build function is: \",sd)\n",
    "print(\"==============================================================\")\n",
    "print(\"Stranderd daviation using in build function is: \",statistics.stdev(l))"
   ]
  },
  {
   "cell_type": "markdown",
   "id": "818e8e3b",
   "metadata": {},
   "source": [
    "### variance and strandard daviation of Annual_HH_Income columns\n"
   ]
  },
  {
   "cell_type": "code",
   "execution_count": 138,
   "id": "b4227ddc",
   "metadata": {},
   "outputs": [
    {
     "name": "stdout",
     "output_type": "stream",
     "text": [
      "Variance using built-in function is:  102486925397.91672\n",
      "==============================================================\n",
      "Varience  without using built-in-function is:  102486925397.91666\n",
      "==============================================================\n",
      "Stranderd daviation without in build function is:  320135.79212252516\n",
      "==============================================================\n",
      "Stranderd daviation using in build function is:  320135.7921225253\n"
     ]
    }
   ],
   "source": [
    "col=df[\"Annual_HH_Income\"]\n",
    "l=[]\n",
    "for i in col:\n",
    "    l.append(i)\n",
    "# print(l)\n",
    "print(\"Variance using built-in function is: \",statistics.variance(l))\n",
    "print(\"==============================================================\")\n",
    "mean=statistics.mean(l)\n",
    "# print(mean)\n",
    "l1=[]\n",
    "\n",
    "for j in range(0,len(l)):\n",
    "    l1.append((l[j]-mean)**2)\n",
    "sum=0    \n",
    "for k in range(0,len(l1)):\n",
    "    sum+=l1[k]\n",
    "# print(sum)\n",
    "# print(len(l1))\n",
    "variance=sum/(len(l1)-1)\n",
    "print(\"Varience  without using built-in-function is: \",variance)\n",
    "print(\"==============================================================\")\n",
    "sd=math.sqrt(variance)\n",
    "print(\"Stranderd daviation without in build function is: \",sd)\n",
    "print(\"==============================================================\")\n",
    "print(\"Stranderd daviation using in build function is: \",statistics.stdev(l))"
   ]
  },
  {
   "cell_type": "markdown",
   "id": "0e51900b",
   "metadata": {},
   "source": [
    "### Covariance "
   ]
  },
  {
   "cell_type": "code",
   "execution_count": 139,
   "id": "d979bc64",
   "metadata": {},
   "outputs": [
    {
     "data": {
      "text/html": [
       "<div>\n",
       "<style scoped>\n",
       "    .dataframe tbody tr th:only-of-type {\n",
       "        vertical-align: middle;\n",
       "    }\n",
       "\n",
       "    .dataframe tbody tr th {\n",
       "        vertical-align: top;\n",
       "    }\n",
       "\n",
       "    .dataframe thead th {\n",
       "        text-align: right;\n",
       "    }\n",
       "</style>\n",
       "<table border=\"1\" class=\"dataframe\">\n",
       "  <thead>\n",
       "    <tr style=\"text-align: right;\">\n",
       "      <th></th>\n",
       "      <th>Mthly_HH_Income</th>\n",
       "      <th>Mthly_HH_Expense</th>\n",
       "      <th>No_of_Fly_Members</th>\n",
       "      <th>Annual_HH_Income</th>\n",
       "    </tr>\n",
       "  </thead>\n",
       "  <tbody>\n",
       "    <tr>\n",
       "      <th>Mthly_HH_Income</th>\n",
       "      <td>6.811009e+08</td>\n",
       "      <td>2.048465e+08</td>\n",
       "      <td>17753.591837</td>\n",
       "      <td>8.106864e+09</td>\n",
       "    </tr>\n",
       "    <tr>\n",
       "      <th>Mthly_HH_Expense</th>\n",
       "      <td>2.048465e+08</td>\n",
       "      <td>1.461733e+08</td>\n",
       "      <td>11735.632653</td>\n",
       "      <td>2.288330e+09</td>\n",
       "    </tr>\n",
       "    <tr>\n",
       "      <th>No_of_Fly_Members</th>\n",
       "      <td>1.775359e+04</td>\n",
       "      <td>1.173563e+04</td>\n",
       "      <td>2.302449</td>\n",
       "      <td>2.093019e+05</td>\n",
       "    </tr>\n",
       "    <tr>\n",
       "      <th>Annual_HH_Income</th>\n",
       "      <td>8.106864e+09</td>\n",
       "      <td>2.288330e+09</td>\n",
       "      <td>209301.854694</td>\n",
       "      <td>1.024869e+11</td>\n",
       "    </tr>\n",
       "  </tbody>\n",
       "</table>\n",
       "</div>"
      ],
      "text/plain": [
       "                   Mthly_HH_Income  Mthly_HH_Expense  No_of_Fly_Members  \\\n",
       "Mthly_HH_Income       6.811009e+08      2.048465e+08       17753.591837   \n",
       "Mthly_HH_Expense      2.048465e+08      1.461733e+08       11735.632653   \n",
       "No_of_Fly_Members     1.775359e+04      1.173563e+04           2.302449   \n",
       "Annual_HH_Income      8.106864e+09      2.288330e+09      209301.854694   \n",
       "\n",
       "                   Annual_HH_Income  \n",
       "Mthly_HH_Income        8.106864e+09  \n",
       "Mthly_HH_Expense       2.288330e+09  \n",
       "No_of_Fly_Members      2.093019e+05  \n",
       "Annual_HH_Income       1.024869e+11  "
      ]
     },
     "execution_count": 139,
     "metadata": {},
     "output_type": "execute_result"
    }
   ],
   "source": [
    "df.cov()"
   ]
  },
  {
   "cell_type": "code",
   "execution_count": 140,
   "id": "e8a012ae",
   "metadata": {},
   "outputs": [
    {
     "name": "stdout",
     "output_type": "stream",
     "text": [
      "Covariance is:  204846485.7142857\n"
     ]
    }
   ],
   "source": [
    "col1=df[\"Mthly_HH_Income\"]\n",
    "l1=[]\n",
    "for i in col1:\n",
    "    l1.append(i)\n",
    "mean_of_l1=statistics.mean(l1)\n",
    "col2=df[\"Mthly_HH_Expense\"]\n",
    "l2=[]\n",
    "for j in col2:\n",
    "    l2.append(j)\n",
    "mean_of_l2=statistics.mean(l2) \n",
    "after_mean_difference_l1=[]\n",
    "for num1 in range(0,len(l1)):\n",
    "     after_mean_difference_l1.append(l1[num1]-mean_of_l1)\n",
    "# print(after_mean_difference_l1)  \n",
    "after_mean_difference_l2=[]\n",
    "for num2 in range(0,len(l1)):\n",
    "     after_mean_difference_l2.append(l2[num2]-mean_of_l2)\n",
    "# print(after_mean_difference_l2)\n",
    "mul_List=[]\n",
    "for mul in range(0,len(l1)):\n",
    "    mul_List.append(after_mean_difference_l1[mul]*after_mean_difference_l2[mul])\n",
    "# print(mul_List)\n",
    "sum=0\n",
    "for s in range(0,len(mul_List)):\n",
    "    sum=sum+mul_List[s]\n",
    "covariance=sum/(len(mul_List)-1)\n",
    "print(\"Covariance is: \",covariance)    "
   ]
  },
  {
   "cell_type": "code",
   "execution_count": 141,
   "id": "0cdf9b5e",
   "metadata": {},
   "outputs": [
    {
     "name": "stdout",
     "output_type": "stream",
     "text": [
      "204846485.7142857\n"
     ]
    }
   ],
   "source": [
    "print(df.Mthly_HH_Income.cov(df.Mthly_HH_Expense))"
   ]
  },
  {
   "cell_type": "markdown",
   "id": "f83d3dba",
   "metadata": {},
   "source": [
    "## Correlation "
   ]
  },
  {
   "cell_type": "code",
   "execution_count": 142,
   "id": "308ee4d2",
   "metadata": {},
   "outputs": [
    {
     "data": {
      "text/html": [
       "<div>\n",
       "<style scoped>\n",
       "    .dataframe tbody tr th:only-of-type {\n",
       "        vertical-align: middle;\n",
       "    }\n",
       "\n",
       "    .dataframe tbody tr th {\n",
       "        vertical-align: top;\n",
       "    }\n",
       "\n",
       "    .dataframe thead th {\n",
       "        text-align: right;\n",
       "    }\n",
       "</style>\n",
       "<table border=\"1\" class=\"dataframe\">\n",
       "  <thead>\n",
       "    <tr style=\"text-align: right;\">\n",
       "      <th></th>\n",
       "      <th>Mthly_HH_Income</th>\n",
       "      <th>Mthly_HH_Expense</th>\n",
       "      <th>No_of_Fly_Members</th>\n",
       "      <th>Annual_HH_Income</th>\n",
       "    </tr>\n",
       "  </thead>\n",
       "  <tbody>\n",
       "    <tr>\n",
       "      <th>Mthly_HH_Income</th>\n",
       "      <td>1.000000</td>\n",
       "      <td>0.649215</td>\n",
       "      <td>0.448317</td>\n",
       "      <td>0.970315</td>\n",
       "    </tr>\n",
       "    <tr>\n",
       "      <th>Mthly_HH_Expense</th>\n",
       "      <td>0.649215</td>\n",
       "      <td>1.000000</td>\n",
       "      <td>0.639702</td>\n",
       "      <td>0.591222</td>\n",
       "    </tr>\n",
       "    <tr>\n",
       "      <th>No_of_Fly_Members</th>\n",
       "      <td>0.448317</td>\n",
       "      <td>0.639702</td>\n",
       "      <td>1.000000</td>\n",
       "      <td>0.430868</td>\n",
       "    </tr>\n",
       "    <tr>\n",
       "      <th>Annual_HH_Income</th>\n",
       "      <td>0.970315</td>\n",
       "      <td>0.591222</td>\n",
       "      <td>0.430868</td>\n",
       "      <td>1.000000</td>\n",
       "    </tr>\n",
       "  </tbody>\n",
       "</table>\n",
       "</div>"
      ],
      "text/plain": [
       "                   Mthly_HH_Income  Mthly_HH_Expense  No_of_Fly_Members  \\\n",
       "Mthly_HH_Income           1.000000          0.649215           0.448317   \n",
       "Mthly_HH_Expense          0.649215          1.000000           0.639702   \n",
       "No_of_Fly_Members         0.448317          0.639702           1.000000   \n",
       "Annual_HH_Income          0.970315          0.591222           0.430868   \n",
       "\n",
       "                   Annual_HH_Income  \n",
       "Mthly_HH_Income            0.970315  \n",
       "Mthly_HH_Expense           0.591222  \n",
       "No_of_Fly_Members          0.430868  \n",
       "Annual_HH_Income           1.000000  "
      ]
     },
     "execution_count": 142,
     "metadata": {},
     "output_type": "execute_result"
    }
   ],
   "source": [
    "df.corr()"
   ]
  },
  {
   "cell_type": "code",
   "execution_count": 143,
   "id": "8b79b0ff",
   "metadata": {},
   "outputs": [
    {
     "name": "stdout",
     "output_type": "stream",
     "text": [
      "0.6492152549316462\n"
     ]
    }
   ],
   "source": [
    "print(df.Mthly_HH_Income.corr(df.Mthly_HH_Expense))"
   ]
  },
  {
   "cell_type": "code",
   "execution_count": 144,
   "id": "ad2f8993",
   "metadata": {},
   "outputs": [
    {
     "name": "stdout",
     "output_type": "stream",
     "text": [
      "Correlation is:  3.2936581953098893\n"
     ]
    }
   ],
   "source": [
    "col1=df[\"Mthly_HH_Income\"]\n",
    "l1=[]\n",
    "for i in col1:\n",
    "    l1.append(i)\n",
    "mean_of_l1=statistics.mean(l1)\n",
    "col2=df[\"Mthly_HH_Expense\"]\n",
    "l2=[]\n",
    "for j in col2:\n",
    "    l2.append(j)\n",
    "mean_of_l2=statistics.mean(l2) \n",
    "after_mean_difference_l1=[]\n",
    "sq_of_list1=[]\n",
    "for num1 in range(0,len(l1)):\n",
    "     after_mean_difference_l1.append(l1[num1]-mean_of_l1)\n",
    "for num1 in range(0,len(l1)):\n",
    "    sq_of_list1.append((l1[num1]-mean_of_l1)**2)\n",
    "    \n",
    "# print(after_mean_difference_l1) \n",
    "# print(sq_of_list1)\n",
    "after_mean_difference_l2=[]\n",
    "sq_of_list2=[]\n",
    "for num2 in range(0,len(l1)):\n",
    "     after_mean_difference_l2.append(l2[num2]-mean_of_l2)\n",
    "for num2 in range(0,len(l1)):\n",
    "     sq_of_list2.append((l2[num2]-mean_of_l2)**2)\n",
    "# print(after_mean_difference_l2)\n",
    "# print(sq_of_list2)\n",
    "mul_List=[]\n",
    "for mul in range(0,len(l1)):\n",
    "    mul_List.append(after_mean_difference_l1[mul]*after_mean_difference_l2[mul])\n",
    "# print(mul_List)\n",
    "sum=0\n",
    "for s in range(0,len(mul_List)):\n",
    "    sum=sum+mul_List[s]\n",
    "mul_List_sq=[]\n",
    "for mul in range(0,len(l1)):\n",
    "    mul_List_sq.append(sq_of_list1[mul]*sq_of_list2[mul])\n",
    "sum1=0\n",
    "for k in range(0,len(mul_List_sq)):\n",
    "    sum1+=mul_List_sq[k]\n",
    "correlation=sum/math.sqrt(sum1)\n",
    "print(\"Correlation is: \",correlation)\n",
    "    "
   ]
  },
  {
   "cell_type": "markdown",
   "id": "fd13a69a",
   "metadata": {},
   "source": [
    "### Skewness of Mthly_HH_Income columns"
   ]
  },
  {
   "cell_type": "code",
   "execution_count": 145,
   "id": "f4a88544",
   "metadata": {},
   "outputs": [
    {
     "data": {
      "text/plain": [
       "0.9246148763777229"
      ]
     },
     "execution_count": 145,
     "metadata": {},
     "output_type": "execute_result"
    }
   ],
   "source": [
    "df['Mthly_HH_Income'].skew()"
   ]
  },
  {
   "cell_type": "code",
   "execution_count": 146,
   "id": "f8045f67",
   "metadata": {},
   "outputs": [
    {
     "name": "stdout",
     "output_type": "stream",
     "text": [
      "0.887630281322614\n"
     ]
    }
   ],
   "source": [
    "col=df['Mthly_HH_Income']\n",
    "l=[]\n",
    "for i in col:\n",
    "    l.append(i)\n",
    "# print(l) \n",
    "mean=statistics.mean(l)\n",
    "l1=[]\n",
    "for i in range(0,len(l)):\n",
    "    l1.append((l[i]-mean)**3)\n",
    "stranderd_deviation=statistics.stdev(l)\n",
    "sum=0\n",
    "for i in range(0,len(l)):\n",
    "    sum+=l1[i]\n",
    "g=(stranderd_deviation)**3    \n",
    "skewness=sum/((len(l)-1)*g)\n",
    "print(skewness)\n",
    "\n"
   ]
  },
  {
   "cell_type": "markdown",
   "id": "65ef6e9d",
   "metadata": {},
   "source": [
    "### Skewness of Mthly_HH_Expense columns"
   ]
  },
  {
   "cell_type": "code",
   "execution_count": 147,
   "id": "fa80897f",
   "metadata": {},
   "outputs": [
    {
     "data": {
      "text/plain": [
       "1.1994608030097127"
      ]
     },
     "execution_count": 147,
     "metadata": {},
     "output_type": "execute_result"
    }
   ],
   "source": [
    "df['Mthly_HH_Expense'].skew()"
   ]
  },
  {
   "cell_type": "code",
   "execution_count": 148,
   "id": "c23444b9",
   "metadata": {},
   "outputs": [
    {
     "name": "stdout",
     "output_type": "stream",
     "text": [
      "1.151482370889324\n"
     ]
    }
   ],
   "source": [
    "col=df['Mthly_HH_Expense']\n",
    "l=[]\n",
    "for i in col:\n",
    "    l.append(i)\n",
    "# print(l) \n",
    "mean=statistics.mean(l)\n",
    "l1=[]\n",
    "for i in range(0,len(l)):\n",
    "    l1.append((l[i]-mean)**3)\n",
    "stranderd_deviation=statistics.stdev(l)\n",
    "sum=0\n",
    "for i in range(0,len(l)):\n",
    "    sum+=l1[i]\n",
    "g=(stranderd_deviation)**3    \n",
    "skewness=sum/((len(l)-1)*g)\n",
    "print(skewness)\n"
   ]
  },
  {
   "cell_type": "code",
   "execution_count": 208,
   "id": "7a2b4120",
   "metadata": {},
   "outputs": [
    {
     "ename": "TypeError",
     "evalue": "'int' object is not callable",
     "output_type": "error",
     "traceback": [
      "\u001b[1;31m---------------------------------------------------------------------------\u001b[0m",
      "\u001b[1;31mTypeError\u001b[0m                                 Traceback (most recent call last)",
      "\u001b[1;32m~\\AppData\\Local\\Temp/ipykernel_11284/979178199.py\u001b[0m in \u001b[0;36m<module>\u001b[1;34m\u001b[0m\n\u001b[0;32m      2\u001b[0m \u001b[0mmedian\u001b[0m\u001b[1;33m=\u001b[0m\u001b[0mdf\u001b[0m\u001b[1;33m[\u001b[0m\u001b[1;34m'Mthly_HH_Expense'\u001b[0m\u001b[1;33m]\u001b[0m\u001b[1;33m.\u001b[0m\u001b[0mmedian\u001b[0m\u001b[1;33m(\u001b[0m\u001b[1;33m)\u001b[0m\u001b[1;33m\u001b[0m\u001b[1;33m\u001b[0m\u001b[0m\n\u001b[0;32m      3\u001b[0m \u001b[0msd\u001b[0m\u001b[1;33m=\u001b[0m\u001b[0mdf\u001b[0m\u001b[1;33m[\u001b[0m\u001b[1;34m'Mthly_HH_Expense'\u001b[0m\u001b[1;33m]\u001b[0m\u001b[1;33m.\u001b[0m\u001b[0mstd\u001b[0m\u001b[1;33m(\u001b[0m\u001b[1;33m)\u001b[0m\u001b[1;33m\u001b[0m\u001b[1;33m\u001b[0m\u001b[0m\n\u001b[1;32m----> 4\u001b[1;33m \u001b[0mskw\u001b[0m\u001b[1;33m=\u001b[0m\u001b[1;36m3\u001b[0m\u001b[1;33m(\u001b[0m\u001b[0mmean\u001b[0m\u001b[1;33m-\u001b[0m\u001b[0mmedian\u001b[0m\u001b[1;33m)\u001b[0m\u001b[1;33m/\u001b[0m\u001b[0msd\u001b[0m\u001b[1;33m\u001b[0m\u001b[1;33m\u001b[0m\u001b[0m\n\u001b[0m\u001b[0;32m      5\u001b[0m \u001b[0mprint\u001b[0m\u001b[1;33m(\u001b[0m\u001b[0mstr\u001b[0m\u001b[1;33m(\u001b[0m\u001b[0mskw\u001b[0m\u001b[1;33m)\u001b[0m\u001b[1;33m)\u001b[0m\u001b[1;33m\u001b[0m\u001b[1;33m\u001b[0m\u001b[0m\n",
      "\u001b[1;31mTypeError\u001b[0m: 'int' object is not callable"
     ]
    }
   ],
   "source": [
    "mean=df['Mthly_HH_Expense'].mean()\n",
    "median=df['Mthly_HH_Expense'].median()\n",
    "sd=df['Mthly_HH_Expense'].std()\n",
    "skw=3(mean-median)/sd\n",
    "print(str(skw))"
   ]
  },
  {
   "cell_type": "markdown",
   "id": "d520c248",
   "metadata": {},
   "source": [
    "### Skewness of Annual Income Colums"
   ]
  },
  {
   "cell_type": "code",
   "execution_count": 149,
   "id": "5d27f8d1",
   "metadata": {},
   "outputs": [
    {
     "data": {
      "text/plain": [
       "1.1929490975818218"
      ]
     },
     "execution_count": 149,
     "metadata": {},
     "output_type": "execute_result"
    }
   ],
   "source": [
    "df['Annual_HH_Income'].skew()"
   ]
  },
  {
   "cell_type": "code",
   "execution_count": 150,
   "id": "f95ceb22",
   "metadata": {},
   "outputs": [
    {
     "name": "stdout",
     "output_type": "stream",
     "text": [
      "1.1452311336785492\n"
     ]
    }
   ],
   "source": [
    "col=df['Annual_HH_Income']\n",
    "l=[]\n",
    "for i in col:\n",
    "    l.append(i)\n",
    "# print(l) \n",
    "mean=statistics.mean(l)\n",
    "l1=[]\n",
    "for i in range(0,len(l)):\n",
    "    l1.append((l[i]-mean)**3)\n",
    "stranderd_deviation=statistics.stdev(l)\n",
    "sum=0\n",
    "for i in range(0,len(l)):\n",
    "    sum+=l1[i]\n",
    "g=(stranderd_deviation)**3    \n",
    "skewness=sum/((len(l)-1)*g)\n",
    "print(skewness)\n"
   ]
  },
  {
   "cell_type": "markdown",
   "id": "80dcaacf",
   "metadata": {},
   "source": [
    "### Range of monthly Income column"
   ]
  },
  {
   "cell_type": "code",
   "execution_count": 151,
   "id": "ecaaa655",
   "metadata": {},
   "outputs": [
    {
     "name": "stdout",
     "output_type": "stream",
     "text": [
      "Range is:  95000\n"
     ]
    }
   ],
   "source": [
    "col=df['Mthly_HH_Income']\n",
    "l=[]\n",
    "for i in col:\n",
    "    l.append(i)\n",
    "max_no=max(l) \n",
    "min_no=min(l)\n",
    "rang=max_no-min_no\n",
    "print(\"Range is: \",rang)\n",
    "    "
   ]
  },
  {
   "cell_type": "markdown",
   "id": "87534068",
   "metadata": {},
   "source": [
    "### Range of monthly Expense colums"
   ]
  },
  {
   "cell_type": "code",
   "execution_count": 152,
   "id": "76569e09",
   "metadata": {},
   "outputs": [
    {
     "name": "stdout",
     "output_type": "stream",
     "text": [
      "Range is:  48000\n"
     ]
    }
   ],
   "source": [
    "col=df['Mthly_HH_Expense']\n",
    "l=[]\n",
    "for i in col:\n",
    "    l.append(i)\n",
    "max_no=max(l) \n",
    "min_no=min(l)\n",
    "rang=max_no-min_no\n",
    "print(\"Range is: \",rang)"
   ]
  },
  {
   "cell_type": "markdown",
   "id": "397e82c3",
   "metadata": {},
   "source": [
    "## Range of Annual Income Columns"
   ]
  },
  {
   "cell_type": "code",
   "execution_count": 153,
   "id": "9c4cb7ca",
   "metadata": {},
   "outputs": [
    {
     "name": "stdout",
     "output_type": "stream",
     "text": [
      "Range is:  1339800\n"
     ]
    }
   ],
   "source": [
    "col=df['Annual_HH_Income']\n",
    "l=[]\n",
    "for i in col:\n",
    "    l.append(i)\n",
    "max_no=max(l) \n",
    "min_no=min(l)\n",
    "rang=max_no-min_no\n",
    "print(\"Range is: \",rang)"
   ]
  },
  {
   "cell_type": "markdown",
   "id": "14483e60",
   "metadata": {},
   "source": [
    "### Frequency of monthly Income column"
   ]
  },
  {
   "cell_type": "code",
   "execution_count": 154,
   "id": "c350631a",
   "metadata": {},
   "outputs": [
    {
     "data": {
      "text/plain": [
       "45000     4\n",
       "100000    3\n",
       "25000     3\n",
       "20000     2\n",
       "60000     2\n",
       "34000     2\n",
       "24000     2\n",
       "35000     2\n",
       "10000     2\n",
       "19000     1\n",
       "12500     1\n",
       "98000     1\n",
       "90000     1\n",
       "85000     1\n",
       "80000     1\n",
       "70000     1\n",
       "65000     1\n",
       "55000     1\n",
       "50500     1\n",
       "50000     1\n",
       "47000     1\n",
       "46000     1\n",
       "43000     1\n",
       "22000     1\n",
       "42000     1\n",
       "40000     1\n",
       "39000     1\n",
       "6000      1\n",
       "14000     1\n",
       "32000     1\n",
       "30500     1\n",
       "30000     1\n",
       "29000     1\n",
       "15000     1\n",
       "18000     1\n",
       "23400     1\n",
       "5000      1\n",
       "Name: Mthly_HH_Income, dtype: int64"
      ]
     },
     "execution_count": 154,
     "metadata": {},
     "output_type": "execute_result"
    }
   ],
   "source": [
    "df['Mthly_HH_Income'].value_counts()\n"
   ]
  },
  {
   "cell_type": "markdown",
   "id": "64053bec",
   "metadata": {},
   "source": [
    "### Frequency of monthly Expense column"
   ]
  },
  {
   "cell_type": "code",
   "execution_count": 155,
   "id": "4f66b6bb",
   "metadata": {},
   "outputs": [
    {
     "data": {
      "text/plain": [
       "25000    8\n",
       "20000    6\n",
       "10000    5\n",
       "15000    3\n",
       "9000     3\n",
       "8000     3\n",
       "12000    3\n",
       "50000    2\n",
       "40000    2\n",
       "16000    1\n",
       "48000    1\n",
       "45000    1\n",
       "22000    1\n",
       "19000    1\n",
       "4500     1\n",
       "13000    1\n",
       "6600     1\n",
       "12300    1\n",
       "7000     1\n",
       "10500    1\n",
       "5000     1\n",
       "2000     1\n",
       "18000    1\n",
       "30000    1\n",
       "Name: Mthly_HH_Expense, dtype: int64"
      ]
     },
     "execution_count": 155,
     "metadata": {},
     "output_type": "execute_result"
    }
   ],
   "source": [
    "df['Mthly_HH_Expense'].value_counts()\n"
   ]
  },
  {
   "cell_type": "markdown",
   "id": "f21e4c34",
   "metadata": {},
   "source": [
    "### Frequency of Annual Income column"
   ]
  },
  {
   "cell_type": "code",
   "execution_count": 156,
   "id": "850534f7",
   "metadata": {},
   "outputs": [
    {
     "data": {
      "text/plain": [
       "590400     2\n",
       "64200      1\n",
       "570000     1\n",
       "412800     1\n",
       "488880     1\n",
       "619200     1\n",
       "523800     1\n",
       "507600     1\n",
       "437400     1\n",
       "610200     1\n",
       "596160     1\n",
       "456840     1\n",
       "581760     1\n",
       "449400     1\n",
       "600600     1\n",
       "647400     1\n",
       "756000     1\n",
       "1075200    1\n",
       "1142400    1\n",
       "885600     1\n",
       "1152480    1\n",
       "1404000    1\n",
       "1032000    1\n",
       "556920     1\n",
       "466200     1\n",
       "79920      1\n",
       "469200     1\n",
       "112800     1\n",
       "97200      1\n",
       "147000     1\n",
       "196560     1\n",
       "167400     1\n",
       "216000     1\n",
       "218880     1\n",
       "220800     1\n",
       "278400     1\n",
       "279840     1\n",
       "292032     1\n",
       "316800     1\n",
       "244800     1\n",
       "246000     1\n",
       "261000     1\n",
       "258000     1\n",
       "348000     1\n",
       "385200     1\n",
       "351360     1\n",
       "445440     1\n",
       "330480     1\n",
       "1320000    1\n",
       "Name: Annual_HH_Income, dtype: int64"
      ]
     },
     "execution_count": 156,
     "metadata": {},
     "output_type": "execute_result"
    }
   ],
   "source": [
    "df['Annual_HH_Income'].value_counts()\n"
   ]
  },
  {
   "cell_type": "markdown",
   "id": "1b8b42ea",
   "metadata": {},
   "source": [
    "### MAD"
   ]
  },
  {
   "cell_type": "code",
   "execution_count": 157,
   "id": "76ef50d3",
   "metadata": {},
   "outputs": [
    {
     "data": {
      "text/plain": [
       "Mthly_HH_Income       20288.9600\n",
       "Mthly_HH_Expense       9247.4400\n",
       "No_of_Fly_Members         1.1992\n",
       "Annual_HH_Income     238469.5680\n",
       "dtype: float64"
      ]
     },
     "execution_count": 157,
     "metadata": {},
     "output_type": "execute_result"
    }
   ],
   "source": [
    "df.mad()"
   ]
  },
  {
   "cell_type": "code",
   "execution_count": 158,
   "id": "3a5fb76e",
   "metadata": {},
   "outputs": [
    {
     "name": "stdout",
     "output_type": "stream",
     "text": [
      "17558.0\n"
     ]
    }
   ],
   "source": [
    "col=df['Mthly_HH_Income']\n",
    "l=[]\n",
    "for i in col:\n",
    "    l.append(i)\n",
    "mean=statistics.mean(l)\n",
    "l1=[]\n",
    "for i in range(0,len(l)):\n",
    "    m=abs(l[i]-mean)\n",
    "    l1.append(m)\n",
    "l1.sort()\n",
    "mad=statistics.median(l1)  \n",
    "print(mad)    "
   ]
  },
  {
   "cell_type": "code",
   "execution_count": 159,
   "id": "531e9bab",
   "metadata": {},
   "outputs": [
    {
     "name": "stdout",
     "output_type": "stream",
     "text": [
      "6818.0\n"
     ]
    }
   ],
   "source": [
    "col=df['Mthly_HH_Expense']\n",
    "l=[]\n",
    "for i in col:\n",
    "    l.append(i)\n",
    "l.sort()    \n",
    "mean=statistics.mean(l)\n",
    "# print(mean)\n",
    "l1=[]\n",
    "for i in range(0,len(l)):\n",
    "    m=abs(l[i]-mean)\n",
    "    l1.append(m)\n",
    "l1.sort()\n",
    "mad=statistics.median(l1)  \n",
    "print(mad)"
   ]
  },
  {
   "cell_type": "code",
   "execution_count": 160,
   "id": "5024b2dc",
   "metadata": {},
   "outputs": [
    {
     "name": "stdout",
     "output_type": "stream",
     "text": [
      "185603.03999999998\n"
     ]
    }
   ],
   "source": [
    "col=df['Annual_HH_Income']\n",
    "l=[]\n",
    "for i in col:\n",
    "    l.append(i)\n",
    "l.sort()    \n",
    "mean=statistics.mean(l)\n",
    "# print(mean)\n",
    "l1=[]\n",
    "for i in range(0,len(l)):\n",
    "    m=abs(l[i]-mean)\n",
    "    l1.append(m)\n",
    "l1.sort()\n",
    "mad=statistics.median(l1)  \n",
    "print(mad)"
   ]
  },
  {
   "cell_type": "markdown",
   "id": "0c374b5d",
   "metadata": {},
   "source": [
    "### IQR"
   ]
  },
  {
   "cell_type": "markdown",
   "id": "dc6d2127",
   "metadata": {},
   "source": [
    "### IQR  Lower Range Upper Range of Month Income"
   ]
  },
  {
   "cell_type": "code",
   "execution_count": 167,
   "id": "319ca3b4",
   "metadata": {},
   "outputs": [
    {
     "name": "stdout",
     "output_type": "stream",
     "text": [
      "IQR using custom function is:  0.7604202792082937\n",
      "Lower Range is:  8.926190334529425\n",
      "Upper Range is:  11.9678714513626\n",
      "-----------------------------------------------------\n",
      "IQR using in build function is:  0.7604202792082937\n"
     ]
    }
   ],
   "source": [
    "Q3 = np.quantile(df['Mthly_HH_Income'], 0.75)\n",
    "Q1 = np.quantile(df['Mthly_HH_Income'], 0.25)\n",
    "IQR = Q3 - Q1\n",
    "lower_range = Q1 - 1.5 * IQR\n",
    "upper_range = Q3 + 1.5 * IQR\n",
    "print(\"IQR using custom function is: \" ,IQR)\n",
    "print(\"Lower Range is: \",lower_range)\n",
    "print(\"Upper Range is: \",upper_range)\n",
    "Iqr=stats.iqr(df['Mthly_HH_Income'])\n",
    "print(\"-----------------------------------------------------\")\n",
    "print(\"IQR using in build function is: \",Iqr)"
   ]
  },
  {
   "cell_type": "markdown",
   "id": "99ea53b8",
   "metadata": {},
   "source": [
    "### IQR upper and lower range of month expence columns"
   ]
  },
  {
   "cell_type": "code",
   "execution_count": 168,
   "id": "92030324",
   "metadata": {},
   "outputs": [
    {
     "name": "stdout",
     "output_type": "stream",
     "text": [
      "IQR using custom function is:  0.9162907318741542\n",
      "Lower Range is:  7.835904274164952\n",
      "Upper Range is:  11.50106720166157\n",
      "-----------------------------------------------------\n",
      "IQR using in build function is:  0.9162907318741542\n"
     ]
    }
   ],
   "source": [
    "Q3 = np.quantile(df['Mthly_HH_Expense'], 0.75)\n",
    "Q1 = np.quantile(df['Mthly_HH_Expense'], 0.25)\n",
    "IQR = Q3 - Q1\n",
    "lower_range = Q1 - 1.5 * IQR\n",
    "upper_range = Q3 + 1.5 * IQR\n",
    "print(\"IQR using custom function is: \" ,IQR)\n",
    "print(\"Lower Range is: \",lower_range)\n",
    "print(\"Upper Range is: \",upper_range)\n",
    "Iqr=stats.iqr(df['Mthly_HH_Expense'])\n",
    "print(\"-----------------------------------------------------\")\n",
    "print(\"IQR using in build function is: \",Iqr)"
   ]
  },
  {
   "cell_type": "markdown",
   "id": "a2964040",
   "metadata": {},
   "source": [
    "### IQR Lower and Upper Range of Annual Income Columns"
   ]
  },
  {
   "cell_type": "code",
   "execution_count": 169,
   "id": "35204c46",
   "metadata": {},
   "outputs": [
    {
     "name": "stdout",
     "output_type": "stream",
     "text": [
      "IQR using custom function is:  0.8322320933595968\n",
      "Lower Range is:  11.215256929464628\n",
      "Upper Range is:  14.544185302903015\n",
      "-----------------------------------------------------\n",
      "IQR using in build function is:  0.8322320933595968\n"
     ]
    }
   ],
   "source": [
    "Q3 = np.quantile(df['Annual_HH_Income'], 0.75)\n",
    "Q1 = np.quantile(df['Annual_HH_Income'], 0.25)\n",
    "IQR = Q3 - Q1\n",
    "lower_range = Q1 - 1.5 * IQR\n",
    "upper_range = Q3 + 1.5 * IQR\n",
    "print(\"IQR using custom function is: \" ,IQR)\n",
    "print(\"Lower Range is: \",lower_range)\n",
    "print(\"Upper Range is: \",upper_range)\n",
    "Iqr=stats.iqr(df['Annual_HH_Income'])\n",
    "print(\"-----------------------------------------------------\")\n",
    "print(\"IQR using in build function is: \",Iqr)"
   ]
  },
  {
   "cell_type": "markdown",
   "id": "c4abd190",
   "metadata": {},
   "source": [
    "### Percentile"
   ]
  },
  {
   "cell_type": "markdown",
   "id": "a7d8dc06",
   "metadata": {},
   "source": [
    "### Percentile of month columns"
   ]
  },
  {
   "cell_type": "code",
   "execution_count": 173,
   "id": "8bdefd81",
   "metadata": {},
   "outputs": [
    {
     "name": "stdout",
     "output_type": "stream",
     "text": [
      "75% percentile is:  10.827241032550159\n",
      "25% percentile is:  10.066820753341865\n",
      "--------------------------------------------------\n",
      "75% percentile is:  10.827241032550159\n",
      "25% percentile is:  10.066820753341865\n"
     ]
    }
   ],
   "source": [
    "Q3 = np.quantile(df['Mthly_HH_Income'], 0.75)\n",
    "Q1 = np.quantile(df['Mthly_HH_Income'], 0.25)\n",
    "print(\"75% percentile is: \",Q3)\n",
    "print(\"25% percentile is: \",Q1)\n",
    "print(\"--------------------------------------------------\")\n",
    "q3,q1=np.percentile(df['Mthly_HH_Income'],[75,25])\n",
    "print(\"75% percentile is: \",q3)\n",
    "print(\"25% percentile is: \",q1)"
   ]
  },
  {
   "cell_type": "markdown",
   "id": "f14a6c1e",
   "metadata": {},
   "source": [
    "### Percentile of Month Expense column"
   ]
  },
  {
   "cell_type": "code",
   "execution_count": 174,
   "id": "5618f8a8",
   "metadata": {},
   "outputs": [
    {
     "name": "stdout",
     "output_type": "stream",
     "text": [
      "50% percentile is:  9.648074740653133\n",
      "100% percentile is:  8.97384368139952\n",
      "--------------------------------------------------\n",
      "50% percentile is:  9.648074740653133\n",
      "100% percentile is:  10.819778284410283\n"
     ]
    }
   ],
   "source": [
    "Q2 = np.quantile(df['Mthly_HH_Expense'], 0.50)\n",
    "Q4 = np.quantile(df['Mthly_HH_Expense'], 0.100)\n",
    "print(\"50% percentile is: \",Q2)\n",
    "print(\"100% percentile is: \",Q4)\n",
    "print(\"--------------------------------------------------\")\n",
    "q2,q4=np.percentile(df['Mthly_HH_Expense'],[50,100])\n",
    "print(\"50% percentile is: \",q2)\n",
    "print(\"100% percentile is: \",q4)"
   ]
  },
  {
   "cell_type": "markdown",
   "id": "8da6cf67",
   "metadata": {},
   "source": [
    "### Percentile of Annual Income Column"
   ]
  },
  {
   "cell_type": "code",
   "execution_count": 175,
   "id": "a3cc9735",
   "metadata": {},
   "outputs": [
    {
     "name": "stdout",
     "output_type": "stream",
     "text": [
      "75% percentile is:  13.29583716286362\n",
      "50% percentile is:  13.011243237710751\n",
      "--------------------------------------------------\n",
      "75% percentile is:  13.29583716286362\n",
      "50% percentile is:  13.011243237710751\n"
     ]
    }
   ],
   "source": [
    "Q3 = np.quantile(df['Annual_HH_Income'], 0.75)\n",
    "Q1 = np.quantile(df['Annual_HH_Income'], 0.50)\n",
    "print(\"75% percentile is: \",Q3)\n",
    "print(\"50% percentile is: \",Q1)\n",
    "print(\"--------------------------------------------------\")\n",
    "q3,q1=np.percentile(df['Annual_HH_Income'],[75,50])\n",
    "print(\"75% percentile is: \",q3)\n",
    "print(\"50% percentile is: \",q1)"
   ]
  },
  {
   "cell_type": "markdown",
   "id": "43be52c8",
   "metadata": {},
   "source": [
    "### Bar Plot"
   ]
  },
  {
   "cell_type": "code",
   "execution_count": 219,
   "id": "e06c3a6c",
   "metadata": {},
   "outputs": [
    {
     "data": {
      "text/plain": [
       "<AxesSubplot:>"
      ]
     },
     "execution_count": 219,
     "metadata": {},
     "output_type": "execute_result"
    },
    {
     "data": {
      "image/png": "[encoded data removed]",
      "text/plain": [
       "<Figure size 432x288 with 1 Axes>"
      ]
     },
     "metadata": {},
     "output_type": "display_data"
    }
   ],
   "source": [
    "df.Mthly_HH_Income.value_counts().plot(kind=\"bar\")"
   ]
  },
  {
   "cell_type": "code",
   "execution_count": null,
   "id": "47a0a1b9",
   "metadata": {},
   "outputs": [],
   "source": [
    "df.Mthly_HH_Expense.value_counts().plot(kind=\"bar\")"
   ]
  },
  {
   "cell_type": "code",
   "execution_count": null,
   "id": "93cbd8b0",
   "metadata": {},
   "outputs": [],
   "source": [
    "df.Annual_HH_Income.value_counts().plot(kind=\"bar\")"
   ]
  },
  {
   "cell_type": "markdown",
   "id": "e6c7f66b",
   "metadata": {},
   "source": [
    "## Box plot"
   ]
  },
  {
   "cell_type": "code",
   "execution_count": 220,
   "id": "47d12159",
   "metadata": {},
   "outputs": [
    {
     "data": {
      "text/plain": [
       "<AxesSubplot:xlabel='Mthly_HH_Income'>"
      ]
     },
     "execution_count": 220,
     "metadata": {},
     "output_type": "execute_result"
    },
    {
     "data": {
      "image/png": "[encoded data removed]",
      "text/plain": [
       "<Figure size 432x288 with 1 Axes>"
      ]
     },
     "metadata": {},
     "output_type": "display_data"
    }
   ],
   "source": [
    "sns.boxplot(df['Mthly_HH_Income'])"
   ]
  },
  {
   "cell_type": "code",
   "execution_count": 221,
   "id": "8d3de6ec",
   "metadata": {},
   "outputs": [
    {
     "data": {
      "text/plain": [
       "<AxesSubplot:xlabel='Mthly_HH_Expense'>"
      ]
     },
     "execution_count": 221,
     "metadata": {},
     "output_type": "execute_result"
    },
    {
     "data": {
      "image/png": "[encoded data removed]",
      "text/plain": [
       "<Figure size 432x288 with 1 Axes>"
      ]
     },
     "metadata": {},
     "output_type": "display_data"
    }
   ],
   "source": [
    "sns.boxplot(df['Mthly_HH_Expense'])"
   ]
  },
  {
   "cell_type": "code",
   "execution_count": null,
   "id": "0a2c8bf7",
   "metadata": {},
   "outputs": [],
   "source": [
    "sns.boxplot(df['Annual_HH_Income'])"
   ]
  },
  {
   "cell_type": "markdown",
   "id": "23d5c149",
   "metadata": {},
   "source": [
    "## Histogram"
   ]
  },
  {
   "cell_type": "code",
   "execution_count": 222,
   "id": "c3d31232",
   "metadata": {},
   "outputs": [
    {
     "data": {
      "image/png": "[encoded data removed]",
      "text/plain": [
       "<Figure size 432x288 with 1 Axes>"
      ]
     },
     "metadata": {},
     "output_type": "display_data"
    }
   ],
   "source": [
    "plt.hist(df['Mthly_HH_Income'], rwidth=0.8, color='green')\n",
    "plt.xlabel('Monthly Income')\n",
    "plt.ylabel('Count')\n",
    "plt.title('Histogram of Bathroom per Property')\n",
    "plt.show()"
   ]
  },
  {
   "cell_type": "code",
   "execution_count": 223,
   "id": "c93f02e2",
   "metadata": {},
   "outputs": [
    {
     "data": {
      "image/png": "[encoded data removed]",
      "text/plain": [
       "<Figure size 432x288 with 1 Axes>"
      ]
     },
     "metadata": {},
     "output_type": "display_data"
    }
   ],
   "source": [
    "plt.hist(df['Mthly_HH_Expense'], rwidth=0.8, color='red')\n",
    "plt.xlabel('Monthly Expense')\n",
    "plt.ylabel('Count')\n",
    "plt.title('Histogram of Bathroom per Property')\n",
    "plt.show()"
   ]
  },
  {
   "cell_type": "code",
   "execution_count": null,
   "id": "0745900b",
   "metadata": {},
   "outputs": [],
   "source": [
    "plt.hist(df['Annual_HH_Income'], rwidth=0.8, color='blue')\n",
    "plt.xlabel('Annual Income')\n",
    "plt.ylabel('Count')\n",
    "plt.title('Histogram of Bathroom per Property')\n",
    "plt.show()"
   ]
  },
  {
   "cell_type": "markdown",
   "id": "180f9f06",
   "metadata": {},
   "source": [
    "### Pie Chart"
   ]
  },
  {
   "cell_type": "code",
   "execution_count": 224,
   "id": "69993321",
   "metadata": {},
   "outputs": [
    {
     "data": {
      "text/plain": [
       "<AxesSubplot:ylabel='Mthly_HH_Income'>"
      ]
     },
     "execution_count": 224,
     "metadata": {},
     "output_type": "execute_result"
    },
    {
     "data": {
      "image/png": "[encoded data removed]",
      "text/plain": [
       "<Figure size 432x288 with 1 Axes>"
      ]
     },
     "metadata": {},
     "output_type": "display_data"
    }
   ],
   "source": [
    "df.Mthly_HH_Income.value_counts().plot(kind=\"pie\")"
   ]
  },
  {
   "cell_type": "code",
   "execution_count": null,
   "id": "c7230ed6",
   "metadata": {},
   "outputs": [],
   "source": [
    "df.Mthly_HH_Expense.value_counts().plot(kind=\"pie\")"
   ]
  },
  {
   "cell_type": "code",
   "execution_count": null,
   "id": "d8dfc551",
   "metadata": {},
   "outputs": [],
   "source": [
    "df.Annual_HH_Income.value_counts().plot(kind=\"pie\")"
   ]
  },
  {
   "cell_type": "markdown",
   "id": "0c932663",
   "metadata": {},
   "source": [
    "### Scatter Chart"
   ]
  },
  {
   "cell_type": "code",
   "execution_count": 176,
   "id": "02bb284f",
   "metadata": {},
   "outputs": [
    {
     "data": {
      "image/png": "[encoded data removed]",
      "text/plain": [
       "<Figure size 432x288 with 1 Axes>"
      ]
     },
     "metadata": {},
     "output_type": "display_data"
    }
   ],
   "source": [
    "col=df['Mthly_HH_Income']\n",
    "col1=df['Mthly_HH_Expense']\n",
    "# col3=df['Annual_HH_Income']\n",
    "l=[]\n",
    "l1=[]\n",
    "for i in col:\n",
    "    l.append(i)\n",
    "for i in col1:\n",
    "    l1.append(i)\n",
    "plt.scatter(l,l1,color='green') \n",
    "plt.show()"
   ]
  },
  {
   "cell_type": "markdown",
   "id": "f28e3b1f",
   "metadata": {},
   "source": [
    "### Line chart"
   ]
  },
  {
   "cell_type": "code",
   "execution_count": 177,
   "id": "181cb768",
   "metadata": {},
   "outputs": [
    {
     "data": {
      "image/png": "[encoded data removed]",
      "text/plain": [
       "<Figure size 432x288 with 1 Axes>"
      ]
     },
     "metadata": {},
     "output_type": "display_data"
    }
   ],
   "source": [
    "col=df['Mthly_HH_Income']\n",
    "l=[]\n",
    "for i in col:\n",
    "    l.append(i)\n",
    "plt.plot(l,c=\"green\")    \n",
    "plt.show()"
   ]
  },
  {
   "cell_type": "code",
   "execution_count": 179,
   "id": "5bb8d53b",
   "metadata": {},
   "outputs": [
    {
     "data": {
      "image/png": "[encoded data removed]",
      "text/plain": [
       "<Figure size 432x288 with 1 Axes>"
      ]
     },
     "metadata": {},
     "output_type": "display_data"
    }
   ],
   "source": [
    "col=df['Mthly_HH_Expense']\n",
    "l=[]\n",
    "for i in col:\n",
    "    l.append(i)\n",
    "plt.plot(l,c=\"red\")    \n",
    "plt.show()"
   ]
  },
  {
   "cell_type": "code",
   "execution_count": 225,
   "id": "9cd2d2ec",
   "metadata": {},
   "outputs": [
    {
     "data": {
      "image/png": "[encoded data removed]",
      "text/plain": [
       "<Figure size 432x288 with 1 Axes>"
      ]
     },
     "metadata": {},
     "output_type": "display_data"
    }
   ],
   "source": [
    "col=df['Annual_HH_Income']\n",
    "l=[]\n",
    "for i in col:\n",
    "    l.append(i)\n",
    "plt.plot(l)    \n",
    "plt.show()"
   ]
  },
  {
   "cell_type": "markdown",
   "id": "3a633345",
   "metadata": {},
   "source": [
    "### <center>Z-Score</center>\n",
    "In statistics, the standard score is the number of standard deviations by which the value of a raw score is above or below the mean value of what is being observed or measured. Raw scores above the mean have positive standard scores.\n",
    "# Fromula:\n",
    "     Z = \\frac{x - \\mu}{\\sigma}\n",
    "Z\t=\tstandard score\n",
    "x\t=\tobserved value\n",
    "mu\t=\tmean of the sample\n",
    "sigma\t=\tstandard deviation of the sample\n"
   ]
  },
  {
   "cell_type": "code",
   "execution_count": 226,
   "id": "68c70ea5",
   "metadata": {},
   "outputs": [
    {
     "data": {
      "text/html": [
       "<div>\n",
       "<style scoped>\n",
       "    .dataframe tbody tr th:only-of-type {\n",
       "        vertical-align: middle;\n",
       "    }\n",
       "\n",
       "    .dataframe tbody tr th {\n",
       "        vertical-align: top;\n",
       "    }\n",
       "\n",
       "    .dataframe thead th {\n",
       "        text-align: right;\n",
       "    }\n",
       "</style>\n",
       "<table border=\"1\" class=\"dataframe\">\n",
       "  <thead>\n",
       "    <tr style=\"text-align: right;\">\n",
       "      <th></th>\n",
       "      <th>Mthly_HH_Income</th>\n",
       "      <th>Mthly_HH_Expense</th>\n",
       "      <th>No_of_Fly_Members</th>\n",
       "      <th>Annual_HH_Income</th>\n",
       "      <th>zscore</th>\n",
       "    </tr>\n",
       "  </thead>\n",
       "  <tbody>\n",
       "    <tr>\n",
       "      <th>0</th>\n",
       "      <td>8.517193</td>\n",
       "      <td>8.987197</td>\n",
       "      <td>3</td>\n",
       "      <td>11.069758</td>\n",
       "      <td>-3.0</td>\n",
       "    </tr>\n",
       "    <tr>\n",
       "      <th>1</th>\n",
       "      <td>8.699515</td>\n",
       "      <td>8.853665</td>\n",
       "      <td>2</td>\n",
       "      <td>11.288781</td>\n",
       "      <td>-3.0</td>\n",
       "    </tr>\n",
       "    <tr>\n",
       "      <th>2</th>\n",
       "      <td>9.210340</td>\n",
       "      <td>8.411833</td>\n",
       "      <td>2</td>\n",
       "      <td>11.633372</td>\n",
       "      <td>-2.0</td>\n",
       "    </tr>\n",
       "    <tr>\n",
       "      <th>3</th>\n",
       "      <td>9.210340</td>\n",
       "      <td>7.600902</td>\n",
       "      <td>1</td>\n",
       "      <td>11.484526</td>\n",
       "      <td>-2.0</td>\n",
       "    </tr>\n",
       "    <tr>\n",
       "      <th>4</th>\n",
       "      <td>9.433484</td>\n",
       "      <td>9.392662</td>\n",
       "      <td>2</td>\n",
       "      <td>11.898188</td>\n",
       "      <td>-2.0</td>\n",
       "    </tr>\n",
       "  </tbody>\n",
       "</table>\n",
       "</div>"
      ],
      "text/plain": [
       "   Mthly_HH_Income  Mthly_HH_Expense  No_of_Fly_Members  Annual_HH_Income  \\\n",
       "0         8.517193          8.987197                  3         11.069758   \n",
       "1         8.699515          8.853665                  2         11.288781   \n",
       "2         9.210340          8.411833                  2         11.633372   \n",
       "3         9.210340          7.600902                  1         11.484526   \n",
       "4         9.433484          9.392662                  2         11.898188   \n",
       "\n",
       "   zscore  \n",
       "0    -3.0  \n",
       "1    -3.0  \n",
       "2    -2.0  \n",
       "3    -2.0  \n",
       "4    -2.0  "
      ]
     },
     "execution_count": 226,
     "metadata": {},
     "output_type": "execute_result"
    }
   ],
   "source": [
    "df['zscore']=(df.Mthly_HH_Income-df.Mthly_HH_Income.mean())//df.Mthly_HH_Income.std()\n",
    "df.head()"
   ]
  },
  {
   "cell_type": "markdown",
   "id": "cebf6a69",
   "metadata": {},
   "source": [
    "### Cube root of month Income"
   ]
  },
  {
   "cell_type": "code",
   "execution_count": null,
   "id": "1f98b4fd",
   "metadata": {},
   "outputs": [],
   "source": [
    "col=df['Mthly_HH_Income']\n",
    "l=[]\n",
    "for i in col:\n",
    "    l.append(i)\n",
    "# print(l)\n",
    "cube_root_list=[]\n",
    "for i in range(0,len(l)):\n",
    "    cube_root_list.append((l[i])**(1/3))\n",
    "print(cube_root_list)\n",
    "# print(len(cube_root_list))"
   ]
  },
  {
   "cell_type": "markdown",
   "id": "7ed5f836",
   "metadata": {},
   "source": [
    "### Cube root of Month expence "
   ]
  },
  {
   "cell_type": "code",
   "execution_count": null,
   "id": "8bc05112",
   "metadata": {},
   "outputs": [],
   "source": [
    "col=df['Mthly_HH_Expense']\n",
    "l=[]\n",
    "for i in col:\n",
    "    l.append(i)\n",
    "# print(l)\n",
    "cube_root_list=[]\n",
    "for i in range(0,len(l)):\n",
    "    cube_root_list.append((l[i])**(1/3))\n",
    "print(cube_root_list)\n",
    "# print(len(cube_root_list))"
   ]
  },
  {
   "cell_type": "markdown",
   "id": "fbeb7952",
   "metadata": {},
   "source": [
    "### Cube root of Annual Income"
   ]
  },
  {
   "cell_type": "code",
   "execution_count": 178,
   "id": "1cf338d5",
   "metadata": {},
   "outputs": [
    {
     "name": "stdout",
     "output_type": "stream",
     "text": [
      "[2.22867144481618, 2.243274164195828, 2.265871101249357, 2.256165868967182, 2.2829353202467413, 2.3013679957082793, 2.291216749257711, 2.3072883911185316, 2.3081174365707735, 2.3086637695554275, 2.323070535961826, 2.323389151453153, 2.3260195113663076, 2.3310242470705713, 2.3150989500422217, 2.3154030316411673, 2.319077348527393, 2.318360592686149, 2.336772387907069, 2.3429556946845804, 2.3373588078931866, 2.351745667572885, 2.333614792342135, 2.3548735074653124, 2.3544878781222534, 2.352278980591009, 2.3651310892551676, 2.3471502194952976, 2.3573407000797477, 2.3714311592696142, 2.3614719111419227, 2.3595925404245075, 2.3506473778368577, 2.3705629913004396, 2.369181434770971, 2.353267734043558, 2.366513632183778, 2.3677284977255515, 2.369621999007448, 2.3686047293808667, 2.3686047293808667, 2.37406801448008, 2.383204300074921, 2.4036989978891437, 2.407191500655764, 2.3924543486487937, 2.4076967428958684, 2.4189948620192294, 2.401330814293204, 2.415475363593284]\n"
     ]
    }
   ],
   "source": [
    "col=df['Annual_HH_Income']\n",
    "l=[]\n",
    "for i in col:\n",
    "    l.append(i)\n",
    "# print(l)\n",
    "cube_root_list=[]\n",
    "for i in range(0,len(l)):\n",
    "    cube_root_list.append((l[i])**(1/3))\n",
    "print(cube_root_list)\n",
    "# print(len(cube_root_list))"
   ]
  },
  {
   "cell_type": "markdown",
   "id": "495a827a",
   "metadata": {},
   "source": [
    "### Square root of Month Column"
   ]
  },
  {
   "cell_type": "code",
   "execution_count": null,
   "id": "c6b92fea",
   "metadata": {},
   "outputs": [],
   "source": [
    "col=df['Mthly_HH_Income']\n",
    "l=[]\n",
    "for i in col:\n",
    "    l.append(i)\n",
    "# print(l)\n",
    "cube_root_list=[]\n",
    "for i in range(0,len(l)):\n",
    "    cube_root_list.append((l[i])**(1/2))\n",
    "print(cube_root_list)"
   ]
  },
  {
   "cell_type": "markdown",
   "id": "9e091541",
   "metadata": {},
   "source": [
    "### Square root of Month expense Column"
   ]
  },
  {
   "cell_type": "code",
   "execution_count": 165,
   "id": "cc7a9b86",
   "metadata": {},
   "outputs": [
    {
     "name": "stdout",
     "output_type": "stream",
     "text": [
      "[2.997865377341346, 2.975510952431103, 2.9003159613666942, 2.7569734238004693, 3.0647450022424603, 2.997865377341346, 3.111325119819836, 3.1469807041887194, 3.017445916055225, 3.017445916055225, 3.130196006143753, 3.182236808260871, 2.918423065872431, 3.0428819458115055, 3.034854258770293, 3.0687708518819887, 3.1469807041887194, 3.034854258770293, 2.9656070083567236, 3.077775923689649, 3.182236808260871, 3.1009362263813727, 3.138820520219112, 3.182236808260871, 3.0647450022424603, 3.182236808260871, 2.997865377341346, 3.034854258770293, 3.1009362263813727, 3.0647450022424603, 3.182236808260871, 3.2552472614374586, 3.034854258770293, 3.1620875592463364, 3.182236808260871, 3.1009362263813727, 3.1469807041887194, 3.1469807041887194, 3.273288525130722, 3.034854258770293, 3.2893431387452243, 3.1469807041887194, 3.017445916055225, 3.1469807041887194, 3.182236808260871, 3.283132085355389, 3.182236808260871, 3.2107557771721433, 3.2893431387452243, 3.2552472614374586]\n"
     ]
    }
   ],
   "source": [
    "col=df['Mthly_HH_Expense']\n",
    "l=[]\n",
    "for i in col:\n",
    "    l.append(i)\n",
    "# print(l)\n",
    "cube_root_list=[]\n",
    "for i in range(0,len(l)):\n",
    "    cube_root_list.append((l[i])**(1/2))\n",
    "print(cube_root_list)"
   ]
  },
  {
   "cell_type": "markdown",
   "id": "4505c201",
   "metadata": {},
   "source": [
    "### Square root of Annual Income "
   ]
  },
  {
   "cell_type": "code",
   "execution_count": null,
   "id": "d677b1d5",
   "metadata": {},
   "outputs": [],
   "source": [
    "col=df['Annual_HH_Income']\n",
    "l=[]\n",
    "for i in col:\n",
    "    l.append(i)\n",
    "# print(l)\n",
    "cube_root_list=[]\n",
    "for i in range(0,len(l)):\n",
    "    cube_root_list.append((l[i])**(1/2))\n",
    "print(cube_root_list)"
   ]
  },
  {
   "cell_type": "markdown",
   "id": "72c728da",
   "metadata": {},
   "source": [
    "## Log Transformation"
   ]
  },
  {
   "cell_type": "code",
   "execution_count": 163,
   "id": "8d29071d",
   "metadata": {},
   "outputs": [
    {
     "data": {
      "text/plain": [
       "<AxesSubplot:xlabel='Mthly_HH_Income'>"
      ]
     },
     "execution_count": 163,
     "metadata": {},
     "output_type": "execute_result"
    },
    {
     "data": {
      "image/png": "[encoded data removed]",
      "text/plain": [
       "<Figure size 432x288 with 1 Axes>"
      ]
     },
     "metadata": {},
     "output_type": "display_data"
    }
   ],
   "source": [
    "df['Mthly_HH_Income']=np.log(df['Mthly_HH_Income'])\n",
    "sns.boxplot(df['Mthly_HH_Income'])"
   ]
  },
  {
   "cell_type": "code",
   "execution_count": 162,
   "id": "17bd52bf",
   "metadata": {},
   "outputs": [
    {
     "data": {
      "text/plain": [
       "<AxesSubplot:xlabel='Mthly_HH_Expense'>"
      ]
     },
     "execution_count": 162,
     "metadata": {},
     "output_type": "execute_result"
    },
    {
     "data": {
      "image/png": "[encoded data removed]",
      "text/plain": [
       "<Figure size 432x288 with 1 Axes>"
      ]
     },
     "metadata": {},
     "output_type": "display_data"
    }
   ],
   "source": [
    "df['Mthly_HH_Expense']=np.log(df['Mthly_HH_Expense'])\n",
    "sns.boxplot(df['Mthly_HH_Expense'])"
   ]
  },
  {
   "cell_type": "code",
   "execution_count": 164,
   "id": "800ed619",
   "metadata": {},
   "outputs": [
    {
     "data": {
      "text/plain": [
       "<AxesSubplot:xlabel='Annual_HH_Income'>"
      ]
     },
     "execution_count": 164,
     "metadata": {},
     "output_type": "execute_result"
    },
    {
     "data": {
      "image/png": "[encoded data removed]",
      "text/plain": [
       "<Figure size 432x288 with 1 Axes>"
      ]
     },
     "metadata": {},
     "output_type": "display_data"
    }
   ],
   "source": [
    "df['Annual_HH_Income']=np.log(df['Annual_HH_Income'])\n",
    "sns.boxplot(df['Annual_HH_Income'])"
   ]
  },
  {
   "cell_type": "markdown",
   "id": "29a40d37",
   "metadata": {},
   "source": [
    "### Boxcox plot"
   ]
  },
  {
   "cell_type": "code",
   "execution_count": 189,
   "id": "10de4a15",
   "metadata": {},
   "outputs": [
    {
     "data": {
      "text/plain": [
       "<seaborn.axisgrid.FacetGrid at 0x28d6b2a0dc0>"
      ]
     },
     "execution_count": 189,
     "metadata": {},
     "output_type": "execute_result"
    },
    {
     "data": {
      "image/png": "[encoded data removed]",
      "text/plain": [
       "<Figure size 405.725x360 with 1 Axes>"
      ]
     },
     "metadata": {},
     "output_type": "display_data"
    }
   ],
   "source": [
    "data1=stats.boxcox(df['Mthly_HH_Income'])\n",
    "# data2=stats.boxcox(df['Mthly_HH_Expense'])\n",
    "# ax=plt.subplots(1,2)\n",
    "sns.displot(data1)\n",
    "# sns.displot(data2,ax=ax[1])"
   ]
  },
  {
   "cell_type": "code",
   "execution_count": 209,
   "id": "a7f536ef",
   "metadata": {},
   "outputs": [
    {
     "name": "stdout",
     "output_type": "stream",
     "text": [
      "0.4287726263800664\n"
     ]
    }
   ],
   "source": [
    "l=[7,11,11,15,20,20,28]\n",
    "sk=stats.skew(l)\n",
    "print(sk)"
   ]
  },
  {
   "cell_type": "code",
   "execution_count": 218,
   "id": "3d7d4839",
   "metadata": {},
   "outputs": [
    {
     "name": "stdout",
     "output_type": "stream",
     "text": [
      "[-729, -125, -125, -1, 64, 64, 1728]\n",
      "876\n",
      "7.164728420068226\n",
      "367.7893922301689\n",
      "0.3969663157349321\n"
     ]
    }
   ],
   "source": [
    "l=[7,11,11,15,20,20,28]\n",
    "l1=[]\n",
    "mean=statistics.mean(l)\n",
    "# print(mean)\n",
    "for i in range(0,len(l)):\n",
    "    l1.append((l[i]-mean)**3)\n",
    "print(l1)\n",
    "s=0\n",
    "for i in range(len(l1)):\n",
    "    s+=l1[i]\n",
    "print(s)    \n",
    "st=statistics.stdev(l)\n",
    "print(st)\n",
    "st1=st**3\n",
    "print(st1)\n",
    "seq=s/(6*st1)\n",
    "print(seq)"
   ]
  },
  {
   "cell_type": "code",
   "execution_count": null,
   "id": "beaec1b2",
   "metadata": {},
   "outputs": [],
   "source": []
  }
 ],
 "metadata": {
  "kernelspec": {
   "display_name": "Python 3 (ipykernel)",
   "language": "python",
   "name": "python3"
  },
  "language_info": {
   "codemirror_mode": {
    "name": "ipython",
    "version": 3
   },
   "file_extension": ".py",
   "mimetype": "text/x-python",
   "name": "python",
   "nbconvert_exporter": "python",
   "pygments_lexer": "ipython3",
   "version": "3.9.7"
  }
 },
 "nbformat": 4,
 "nbformat_minor": 5
}
