{
 "cells": [
  {
   "cell_type": "code",
   "execution_count": 1,
   "id": "b3ef68b2",
   "metadata": {},
   "outputs": [
    {
     "name": "stdout",
     "output_type": "stream",
     "text": [
      "1\n",
      "9\n",
      "25\n",
      "49\n",
      "81\n"
     ]
    }
   ],
   "source": [
    "#Q1\n",
    "for i in range(1,11):\n",
    "    if(i%2 !=0):\n",
    "        squ=i**2\n",
    "        print(squ)\n",
    "        "
   ]
  },
  {
   "cell_type": "code",
   "execution_count": 3,
   "id": "f244984b",
   "metadata": {},
   "outputs": [
    {
     "name": "stdout",
     "output_type": "stream",
     "text": [
      "Enter number 5\n",
      "Multiplication Table is: \n",
      "5 x 1 = 5\n",
      "5 x 2 = 10\n",
      "5 x 3 = 15\n",
      "5 x 4 = 20\n",
      "5 x 5 = 25\n",
      "5 x 6 = 30\n",
      "5 x 7 = 35\n",
      "5 x 8 = 40\n",
      "5 x 9 = 45\n",
      "5 x 10 = 50\n"
     ]
    }
   ],
   "source": [
    "#Q2.\n",
    "n=int(input(\"Enter number \"))\n",
    "print(\"Multiplication Table is: \")\n",
    "for i in range(1,11):\n",
    "    print(n,\"x\",i,\"=\",n*i)"
   ]
  },
  {
   "cell_type": "code",
   "execution_count": 6,
   "id": "56141398",
   "metadata": {},
   "outputs": [
    {
     "name": "stdout",
     "output_type": "stream",
     "text": [
      "*\n",
      "**\n",
      "***\n",
      "****\n",
      "*****\n"
     ]
    }
   ],
   "source": [
    "#Q4.\n",
    "for i in range(1,6):\n",
    "    for j in range(1,i+1):\n",
    "        print(\"*\",end=\"\")\n",
    "    print()    "
   ]
  },
  {
   "cell_type": "code",
   "execution_count": 48,
   "id": "f6393780",
   "metadata": {},
   "outputs": [
    {
     "name": "stdout",
     "output_type": "stream",
     "text": [
      "Are you Tired? yes\n",
      "You did not finish the race\n"
     ]
    }
   ],
   "source": [
    "#Q5.\n",
    "for i in range(1,6):\n",
    "        n=input(\"Are you Tired? \")\n",
    "        if n==\"yes\":\n",
    "            print(\"You did not finish the race\")\n",
    "            break\n",
    "        if n==\"no\" and i<5:\n",
    "            continue\n",
    "        else:    \n",
    "            print(\"Congratulation!!!\")\n",
    "        \n",
    "        \n",
    "    "
   ]
  },
  {
   "cell_type": "code",
   "execution_count": 8,
   "id": "6b894bef",
   "metadata": {},
   "outputs": [
    {
     "name": "stdout",
     "output_type": "stream",
     "text": [
      "Enter triangular base: 10\n",
      "Enter triangular height: 20\n",
      "Area of Triangular is:  100.0\n"
     ]
    }
   ],
   "source": [
    "#Q6.\n",
    "def calculate_area(base,height):\n",
    "    area=(1/2)*base*height\n",
    "    return area\n",
    "b=int(input(\"Enter triangular base: \"))\n",
    "h=int(input(\"Enter triangular height: \"))\n",
    "print(\"Area of Triangular is: \",calculate_area(b,h))"
   ]
  },
  {
   "cell_type": "code",
   "execution_count": 11,
   "id": "0fa8d9cd",
   "metadata": {},
   "outputs": [
    {
     "name": "stdout",
     "output_type": "stream",
     "text": [
      "Enter 1st number: 45\n",
      "Enter 2nd number: 96\n",
      "Enter 3rd number: 23\n",
      "Gratest number among these numbers is:  96\n"
     ]
    }
   ],
   "source": [
    "#Q7.\n",
    "def greater(a,b,c):\n",
    "    if(a>b and a>c):\n",
    "        return a\n",
    "    if(b>a and b>c):\n",
    "        return b\n",
    "    if(c>a and c>b):\n",
    "        return c\n",
    "num1=int(input(\"Enter 1st number: \"))\n",
    "num2=int(input(\"Enter 2nd number: \"))\n",
    "num3=int(input(\"Enter 3rd number: \"))\n",
    "print(\"Gratest number among these numbers is: \",greater(num1,num2,num3))"
   ]
  },
  {
   "cell_type": "code",
   "execution_count": 16,
   "id": "c26fd693",
   "metadata": {},
   "outputs": [
    {
     "name": "stdout",
     "output_type": "stream",
     "text": [
      "Enter Inches: 10\n",
      "10.0 inches = 25.4 cm\n"
     ]
    }
   ],
   "source": [
    "#Q8.\n",
    "def inches_to_cm(inches):\n",
    "    cm=inches*2.54\n",
    "    return cm\n",
    "inc=float(input(\"Enter Inches: \"))\n",
    "print(inc,\"inches =\",inches_to_cm(inc),\"cm\")\n"
   ]
  },
  {
   "cell_type": "code",
   "execution_count": 23,
   "id": "91ab06ff",
   "metadata": {},
   "outputs": [
    {
     "name": "stdout",
     "output_type": "stream",
     "text": [
      "Enter Year: 2022\n",
      "False\n"
     ]
    }
   ],
   "source": [
    "#Q9.\n",
    "def is_leap(x):\n",
    "    #leap=False\n",
    "    if(x%4==0 and x%100!=0):\n",
    "        return True\n",
    "    elif(x%400==0):\n",
    "        return True\n",
    "    else:\n",
    "        return False\n",
    "year=int(input(\"Enter Year: \"))\n",
    "print(is_leap(year))"
   ]
  },
  {
   "cell_type": "code",
   "execution_count": 26,
   "id": "5345fc9e",
   "metadata": {},
   "outputs": [
    {
     "name": "stdout",
     "output_type": "stream",
     "text": [
      "Enter Marks1: 51\n",
      "Enter Marks2: 52\n",
      "Enter Marks3: 53\n",
      "Percentage is:  52.0 %\n"
     ]
    }
   ],
   "source": [
    "#Q10.\n",
    "def percentage(mark1,mark2,mark3):\n",
    "    per=((mark1+mark2+mark3)/300)*100\n",
    "    return per\n",
    "m1=int(input(\"Enter Marks1: \"))\n",
    "m2=int(input(\"Enter Marks2: \"))\n",
    "m3=int(input(\"Enter Marks3: \"))\n",
    "print(\"Percentage is: \",percentage(m1,m2,m3),\"%\")"
   ]
  },
  {
   "cell_type": "code",
   "execution_count": null,
   "id": "a0c8e925",
   "metadata": {},
   "outputs": [],
   "source": []
  }
 ],
 "metadata": {
  "kernelspec": {
   "display_name": "Python 3 (ipykernel)",
   "language": "python",
   "name": "python3"
  },
  "language_info": {
   "codemirror_mode": {
    "name": "ipython",
    "version": 3
   },
   "file_extension": ".py",
   "mimetype": "text/x-python",
   "name": "python",
   "nbconvert_exporter": "python",
   "pygments_lexer": "ipython3",
   "version": "3.9.7"
  }
 },
 "nbformat": 4,
 "nbformat_minor": 5
}
